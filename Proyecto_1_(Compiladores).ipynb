{
  "nbformat": 4,
  "nbformat_minor": 0,
  "metadata": {
    "colab": {
      "provenance": [],
      "collapsed_sections": []
    },
    "kernelspec": {
      "name": "python3",
      "display_name": "Python 3"
    },
    "language_info": {
      "name": "python"
    }
  },
  "cells": [
    {
      "cell_type": "markdown",
      "source": [
        "### Proyecto 1 (Compiladores)\n",
        "\n",
        "David Antonio Garzón Avendaño\n",
        "\n",
        "David Esteban Casallas Menenses "
      ],
      "metadata": {
        "id": "_iPXgdh8YamB"
      }
    },
    {
      "cell_type": "code",
      "source": [
        "import sys\n",
        "import graphviz as gr\n",
        "import matplotlib\n",
        "from IPython.display import display\n",
        "\n",
        "sys.setrecursionlimit(15000)"
      ],
      "metadata": {
        "id": "Ds7-fQwf1if8"
      },
      "execution_count": 230,
      "outputs": []
    },
    {
      "cell_type": "markdown",
      "source": [
        "## Conversion de Expresiones regulares a Postfix"
      ],
      "metadata": {
        "id": "9RhqhLfTIZvx"
      }
    },
    {
      "cell_type": "markdown",
      "source": [
        "Para crear un DFA que acepte cualquier expresión regular, es necesario primero pasar dicha espresión regular a postfix, para ello es necesario primero añadir un simbolo que represente la concatenación entre dos símbolos y operaciones \"OR\" dentro de las llaves cuadradas, y luego se pasa a postfix dicha expresión usando un stack, un diccionario con prioridades y una lista de los símbolos que se usan como operadores.\n",
        "\n",
        "Para esto se diseñaron dos funciones, la primera es \"Hakufu_Sonsaku()\", que se encarga de añadir los signos de concatenación e interpretar las operaciones que hay dentro de las llaves cuadradas, como por ejemplo \\[ A-Z+\\], en donde se acepta cualquier letra mayúscula o un símbolo +.\n",
        "La segúnda funcion se llama \"infix_to_postfix()\", y ejecuta el algoritmo para pasar una expresión de infix a posfix con un stack (no nos detendremos en este algoritmo debido a que es bastante básico y se ha trabajado en cursos previos) "
      ],
      "metadata": {
        "id": "CyIg9yI2MhHd"
      }
    },
    {
      "cell_type": "code",
      "source": [
        "def is_alphabet(c):\n",
        "  prior = {'*': 3, '+': 3, '?': 2, \"|\":2 ,'(': 0, ')':0, '[':0, ']':0}\n",
        "  boolean = (c not in prior.keys()) and c != ''\n",
        "  return boolean\n",
        "\n",
        "def Hakufu_Sonsaku(reg_exp, debug = False):\n",
        "  flag = 0\n",
        "  range_mode = False\n",
        "  par_mode = False\n",
        "  reg_exp_list = [*reg_exp]\n",
        "  limit = len(reg_exp_list)\n",
        "  new_reg_exp = \"\"\n",
        "\n",
        "  for i in range(limit):\n",
        "    reg_exp_l = [*new_reg_exp]\n",
        "    if i > 0:\n",
        "      prev_char = reg_exp_list[i-1]\n",
        "    else:\n",
        "      prev_char = ''\n",
        "    \n",
        "    if i < limit - 1:\n",
        "      next_char = reg_exp_list[i+1]\n",
        "    else:\n",
        "      next_char = ''\n",
        "\n",
        "    current_char =  reg_exp_list[i]\n",
        "    if debug:\n",
        "      print(\"my next\", next_char)\n",
        "      print()\n",
        "      print(\"LOOP ----------\")\n",
        "      print(\"Prev char: {}, current_char: {}, next_char: {} \".format(prev_char, current_char, next_char))\n",
        "      print(is_alphabet(current_char))\n",
        "      print(range_mode)\n",
        "      print(new_reg_exp)\n",
        "      print(flag)\n",
        "\n",
        "    #Diversos casos para añadir unio o or \n",
        "    if flag == 0:\n",
        "      if (prev_char == ')' or prev_char == ']' or is_alphabet(prev_char) or prev_char == '*' or prev_char == '+' or prev_char == '?') and (current_char == '(' or current_char == '[' or is_alphabet(current_char)):\n",
        "        new_reg_exp += \"#\"\n",
        "      new_reg_exp += current_char\n",
        "      if debug:\n",
        "        print(\"EXECUTE -1 -------\")\n",
        "        print(new_reg_exp)\n",
        "\n",
        "    else:  \n",
        "      if current_char == '-' or next_char == '-':\n",
        "        range_mode = True\n",
        "        new_reg_exp += current_char\n",
        "        if debug:\n",
        "          print(\"EXECUTE 1 -------\")\n",
        "          print(new_reg_exp)\n",
        "\n",
        "      elif not par_mode and (is_alphabet(current_char)) and (is_alphabet(next_char)) and next_char != ']' and prev_char != \"-\":\n",
        "        new_reg_exp += current_char \n",
        "        new_reg_exp += \"|\"\n",
        "        if debug:\n",
        "          print(\"EXECUTE 2.5 -------\")\n",
        "          print(new_reg_exp)\n",
        "\n",
        "      elif current_char == \"(\":\n",
        "        par_mode = True\n",
        "        new_reg_exp += current_char\n",
        "      \n",
        "      elif current_char == \")\":\n",
        "        par_mode = False\n",
        "        new_reg_exp += current_char\n",
        "        new_reg_exp += \"|\"\n",
        "\n",
        "      elif not range_mode and reg_exp_l[-1] != \"|\" and next_char != '-' and (prev_char == ')' or is_alphabet(prev_char) or prev_char == '*' or prev_char == '+' or prev_char == '?') and (current_char != \"|\" and prev_char != \"|\" and prev_char != '-') and (current_char == '('  or (is_alphabet(current_char))):\n",
        "        new_reg_exp += \"#\"\n",
        "        new_reg_exp += current_char\n",
        "        if debug:\n",
        "          print(\"EXECUTE 2 -------\")\n",
        "          print(new_reg_exp)\n",
        "      \n",
        "      elif range_mode and not par_mode and (is_alphabet(current_char) and is_alphabet(prev_char) and next_char != ']'):\n",
        "        new_reg_exp += current_char\n",
        "        new_reg_exp += \"|\"\n",
        "        range_mode = False\n",
        "        if debug:\n",
        "          print(\"EXECUTE 3 -------\")\n",
        "          print(new_reg_exp)\n",
        "      \n",
        "      elif (current_char == '[' and  prev_char == ']') or (current_char == '(' and  prev_char == ']') or (\n",
        "          current_char == '(' and  prev_char == ')') or (current_char == '[' and  prev_char == ')'):\n",
        "        new_reg_exp += \"|\"\n",
        "        new_reg_exp += current_char\n",
        "        range_mode = False\n",
        "        if debug:\n",
        "          print(\"EXECUTE 4 -------\")\n",
        "          print(new_reg_exp)\n",
        "      \n",
        "      elif prev_char == \")\" and next_char == \"-\":\n",
        "        new_reg_exp += \"|\"\n",
        "        new_reg_exp += current_char\n",
        "        if debug:\n",
        "          print(\"EXECUTE 5 -------\")\n",
        "          print(new_reg_exp)\n",
        "\n",
        "      else:\n",
        "        new_reg_exp += current_char\n",
        "        if debug:\n",
        "          print(\"EXECUTE 6 -------\")\n",
        "          print(new_reg_exp)\n",
        "\n",
        "    if current_char == '[':\n",
        "      flag -= 1\n",
        "\n",
        "    if current_char == ']':\n",
        "      flag += 1 \n",
        "\n",
        "  return new_reg_exp \n",
        "\n",
        "OPERATORS = set(['|','(', ')','#', '[',']', '-'])  # Operadores usados\n",
        "PRIORITY = {'|':1, '#':2, '-': 3} # Prioridades de las operaciones \n",
        "def infix_to_postfix(expression):\n",
        "\n",
        "    stack = [] # stack \n",
        "    output = '' # cadena\n",
        "    for ch in expression:\n",
        "        if ch not in OPERATORS: # Si no es un operador se pode en output\n",
        "            output+= ch\n",
        "        elif ch=='(':  \n",
        "            stack.append('(')\n",
        "        elif ch=='[':  \n",
        "            stack.append('[')\n",
        "        elif ch==')':\n",
        "            while stack and stack[-1]!= '(':\n",
        "                output+=stack.pop()\n",
        "            stack.pop()\n",
        "        elif ch==']':\n",
        "            while stack and stack[-1]!= '[':\n",
        "                output+=stack.pop()\n",
        "            stack.pop()\n",
        "        else:\n",
        "            #Los operadores de menor prioridad no pueden estar arriba de \n",
        "            #uno de mayor prioridad en la pila, por lo que se ponen en el output\n",
        "            while stack and stack[-1]!='(' and stack[-1]!='[' and PRIORITY[ch]<=PRIORITY[stack[-1]]:\n",
        "                output+=stack.pop()\n",
        "            stack.append(ch)\n",
        "    while stack:\n",
        "        output+=stack.pop()\n",
        "    return output\n"
      ],
      "metadata": {
        "id": "CKcrKe9n2x6u"
      },
      "execution_count": 231,
      "outputs": []
    },
    {
      "cell_type": "code",
      "source": [
        "#EJEMPLO DE USO\n",
        "\n",
        "print(Hakufu_Sonsaku('[a-z][a-z]'))\n",
        "print(Hakufu_Sonsaku('[(ab) a-z0-9(ab)]'))\n",
        "print(infix_to_postfix(Hakufu_Sonsaku(\"[a-z][a-z]\")))"
      ],
      "metadata": {
        "colab": {
          "base_uri": "https://localhost:8080/"
        },
        "id": "8PJQ1TVUsaai",
        "outputId": "c1613c56-6ffe-4b41-8ca8-7675a15ba736"
      },
      "execution_count": 232,
      "outputs": [
        {
          "output_type": "stream",
          "name": "stdout",
          "text": [
            "[a-z]#[a-z]\n",
            "[(a#b)| |a-z|0-9|(a#b)|]\n",
            "az-az-#\n"
          ]
        }
      ]
    },
    {
      "cell_type": "markdown",
      "source": [
        "## Creación de un Automata NFA usando clases"
      ],
      "metadata": {
        "id": "a-U3Iu99ItPP"
      }
    },
    {
      "cell_type": "markdown",
      "source": [
        "El siguiente paso para crear un DFA es crear un NFA usando el algoritmo de thompson. Para esto tendremos dos clases, la clase \"nodos\" y la clase \"NFA_2\", dentro de la clase NFA_2 se crean nodos usando una función privada, dicha función privada es llamada a su vez por los metodos:\n",
        "\n",
        "* simbol(): Crea un automata que acepta un solo símbolo\n",
        "* concat_op(): Concatena dos automatas previamente creados, está función usa un stack interno del objeto para unir dichos automatas\n",
        "*  or_op(): Crea un automata que acepta el lenguaje de dos automatas previamente creados, está función usa un stack interno del objeto para unir dichos automatas en uno solo que acepta ambos lenguajes. \n",
        "* Kleenex(): Crea un automata que acepta la estrella de Kleen del lenguaje aceptado por un automata previamente creado \n",
        "* Kleenex_plus(): Crea un automata que acepta la estrella de Kleen  del lenguaje aceptado por un automata previamente creado sin aceptar la cadena vacia.  \n",
        "\n",
        "Note que varias de estas funciones requieren que se creen primero el o los automatas que se van a operar, por lo que tener la expresión regular en postfix es conveniente. \n",
        "\n",
        "Además definimos la funcíon draw() que se usa para graficar el NFA y verificar que sea el correcto. \n"
      ],
      "metadata": {
        "id": "aLyyB3AhI935"
      }
    },
    {
      "cell_type": "code",
      "source": [
        "#Automata \n",
        "\n",
        "class node:\n",
        "  def __init__(self,number,aceptation, conections = {}) -> None:\n",
        "    self.conections = conections\n",
        "    self.name = number \n",
        "    self.aceptation = aceptation\n",
        "    \n",
        "\n",
        "class NFA_2:\n",
        "  def __init__(self) -> None:\n",
        "    self.closure = dict()\n",
        "    self.epsilon = 0\n",
        "    self.enum = 0  \n",
        "    self.last_node = 0\n",
        "    self.first_node = 0\n",
        "    self.nodes = dict() #Dicionario con el nombre de los automatas \n",
        "    self.nodes_clusters = [] \n",
        "    self.clusters_star_node = [] #Nodos de incio\n",
        "    self.clusters_end_node = [] #Nodos de final\n",
        "    self.readed = [] #Array para guardar los simbolos leidos\n",
        "  \n",
        "  #Funcion Para crear un nodo con identificador unico \n",
        "  def __create_node(self,acceptaion,conections,node_clust) -> None:\n",
        "    shinji = node(self.enum,acceptaion,conections)\n",
        "    self.nodes[self.enum] = shinji\n",
        "    node_clust[self.enum] = shinji\n",
        "    self.enum += 1\n",
        "    return self.enum -1\n",
        "    \n",
        "  #Funcion para crear un automata que acepte un solo simbolo\n",
        "  #Esta función tiene en cuenta qué pasa si se pide que se acepte solo \n",
        "  # la cadena vacia \n",
        "  def simbol(self,string) -> None:\n",
        "    if string != \"\":\n",
        "      self.node_clust = dict()\n",
        "      self.clusters_star_node.append(self.enum)\n",
        "      self.clusters_end_node.append(self.enum+1)\n",
        "      self.__create_node(False, {string:self.enum+1} , self.node_clust)\n",
        "      self.__create_node(True, dict() , self.node_clust)\n",
        "      self.nodes_clusters.append(self.node_clust)\n",
        "      self.readed.append(string)\n",
        "      #print(self.node_clust)\n",
        "      #print(self.clusters_star_node) \n",
        "    else: \n",
        "      self.node_clust = dict()\n",
        "      self.clusters_star_node.append(self.enum)\n",
        "      self.clusters_end_node.append(self.enum)\n",
        "      self.__create_node(True, dict() , self.node_clust)\n",
        "      self.nodes_clusters.append(self.node_clust)\n",
        "      self.readed.append(string)\n",
        "      #print(self.node_clust)\n",
        "      #print(self.clusters_star_node) \n",
        "\n",
        "  #Concatena los dos ultimos automatas\n",
        "  def concat_op(self):\n",
        "    clust_1 = self.nodes_clusters[-1]\n",
        "    clust_2 = self.nodes_clusters[-2]\n",
        "    clust_1_start = self.clusters_star_node[-1]\n",
        "    clust_2_start = self.clusters_star_node[-2]\n",
        "    clust_1_end = self.clusters_end_node[-1]\n",
        "    clust_2_end = self.clusters_end_node[-2]\n",
        "\n",
        "    start = clust_2_start\n",
        "    #print(start)\n",
        "    state_clust_1 = list(clust_1.values())\n",
        "    state_clust_2 = list(clust_2.values())\n",
        "\n",
        "    #shini_state = clust_2_end\n",
        "    #new_state =\n",
        "\n",
        "    shini_state = clust_2_end\n",
        "    new_state = clust_1_start\n",
        "  \n",
        "    for nodes in clust_2.values():\n",
        "      for my_key in nodes.conections.keys():\n",
        "        if nodes.conections[my_key] == shini_state:\n",
        "          nodes.conections[my_key] = new_state\n",
        "    \n",
        "    self.first_node = state_clust_1[0].name \n",
        "    clust_2.update(clust_1)\n",
        "    del clust_2[shini_state]\n",
        "    del self.nodes[shini_state]\n",
        "\n",
        "    self.clusters_star_node.pop(-1)\n",
        "    self.clusters_star_node.pop(-1)\n",
        "    self.clusters_end_node.pop(-2)\n",
        "\n",
        "    self.clusters_star_node.append(start)\n",
        "\n",
        "    self.nodes_clusters.pop(-1)\n",
        "    self.nodes_clusters.pop(-1)\n",
        "    self.nodes_clusters.append(clust_2)\n",
        "    \n",
        "    #print(self.clusters_star_node)\n",
        "\n",
        "  #Hace la union los dos ultimos automatas\n",
        "  def or_op(self):\n",
        "    self.node_clust = dict()\n",
        "    clust_1 = self.nodes_clusters[-1]\n",
        "    clust_2 = self.nodes_clusters[-2]\n",
        "    state_clust_1 = list(clust_1.values())\n",
        "    state_clust_2 = list(clust_2.values())\n",
        "\n",
        "    clust_1_start = state_clust_1[0]\n",
        "    clust_1_end = state_clust_1[-1]\n",
        "    clust_2_start = state_clust_2[0]\n",
        "    clust_2_end = state_clust_2[-1]\n",
        "\n",
        "    new_start_node = self.__create_node(False, \n",
        "    {\"ε\" + str(self.epsilon) : clust_1_start.name  , \n",
        "     \"ε\"+ str(self.epsilon + 1) : clust_2_start.name} ,self.node_clust )\n",
        "    \n",
        "    self.epsilon += 2\n",
        "    new_end_node = self.__create_node(True, dict() ,self.node_clust)\n",
        "\n",
        "\n",
        "    for nodes in clust_2.values():\n",
        "      if nodes.aceptation == True:\n",
        "        nodes.conections[\"ε\" + str(self.epsilon)] = new_end_node\n",
        "        nodes.aceptation = False\n",
        "        self.epsilon += 1  \n",
        "\n",
        "    for nodes in clust_1.values():\n",
        "      if nodes.aceptation == True:\n",
        "        nodes.conections[\"ε\" + str(self.epsilon)] = new_end_node\n",
        "        nodes.aceptation = False\n",
        "        self.epsilon += 1\n",
        "    \n",
        "    self.clusters_star_node.pop(-1)\n",
        "    self.clusters_star_node.pop(-1)\n",
        "    self.clusters_end_node.pop(-1)\n",
        "    self.clusters_end_node.pop(-1)\n",
        "\n",
        "    self.clusters_star_node.append(new_start_node)\n",
        "    self.clusters_end_node.append(new_end_node)\n",
        "\n",
        "    self.node_clust.update(clust_2)\n",
        "    self.node_clust.update(clust_1)\n",
        "    self.nodes_clusters.pop(-1)\n",
        "    self.nodes_clusters.pop(-1)\n",
        "    self.nodes_clusters.append(self.node_clust)\n",
        "    #print(self.clusters_star_node)\n",
        "\n",
        "  # Hace estrella de kleen del último automata \n",
        "  def kleenex(self):\n",
        "    self.node_clust = dict()\n",
        "    clust_1 = self.nodes_clusters[-1]\n",
        "    state_clust_1 = list(clust_1.values())\n",
        "    clust_1_start = state_clust_1[0]\n",
        "    clust_1_end = state_clust_1[-1]\n",
        "\n",
        "    new_start_node = self.__create_node(False, dict(), self.node_clust )\n",
        "    new_end_node = self.__create_node(True, dict(),self.node_clust) \n",
        "\n",
        "    self.nodes[new_start_node].conections = {\"ε\" + \n",
        "    str(self.epsilon) : clust_1_start.name,\"ε\" + str(self.epsilon + 1) : new_end_node}  \n",
        "\n",
        "    self.epsilon += 2\n",
        "    \n",
        "    for nodes in clust_1.values():\n",
        "      if nodes.aceptation == True:\n",
        "        nodes.conections[\"ε\" + str(self.epsilon)] = new_end_node\n",
        "        nodes.conections[\"ε\" + str(self.epsilon + 1)] = clust_1_start.name\n",
        "        nodes.aceptation = False\n",
        "        self.epsilon += 2    \n",
        "\n",
        "    self.clusters_star_node.pop(-1)\n",
        "    self.clusters_end_node.pop(-1)\n",
        "    self.clusters_star_node.append(new_start_node)\n",
        "    self.clusters_end_node.append(new_end_node)\n",
        "\n",
        "    #print(\"start\",self.clusters_star_node)\n",
        "    #print(\"end\",self.clusters_end_node)\n",
        "\n",
        "    self.nodes_clusters.pop(-1)\n",
        "    self.node_clust.update(clust_1)\n",
        "    self.nodes_clusters.append(self.node_clust)\n",
        "    #print(self.clusters_star_node)\n",
        "\n",
        "  # Hace estrella de kleen más del último automata\n",
        "  def kleenex_plus(self):\n",
        "    self.node_clust = dict()\n",
        "    self.node_clust_2 = dict()\n",
        "    copy_nodes = [] \n",
        "    temp_dict = dict()\n",
        "    clust_1 = self.nodes_clusters[-1]\n",
        "    state_clust_1 = list(clust_1.values())\n",
        "    #print(self.clusters_star_node, self.clusters_end_node)\n",
        "\n",
        "    for node in clust_1:\n",
        "      penpen = self.__create_node(self.nodes[node].aceptation, \n",
        "      self.nodes[node].conections.copy(), self.node_clust_2)\n",
        "      copy_nodes.append(penpen)\n",
        "      temp_dict[self.nodes[node].name] = penpen\n",
        "\n",
        "    self.clusters_star_node.append(temp_dict[self.clusters_star_node[-1]])\n",
        "    self.clusters_end_node.append(temp_dict[self.clusters_end_node[-1]])\n",
        "\n",
        "   \n",
        "    for node in self.node_clust_2:\n",
        "      for info in self.nodes[node].conections.keys():\n",
        "\n",
        "        self.nodes[node].conections[info] = temp_dict[self.nodes[node].conections[info]]\n",
        " \n",
        "\n",
        "    self.nodes_clusters.append(self.node_clust_2)\n",
        "    #print(self.nodes_clusters)\n",
        "    #print(self.clusters_star_node)\n",
        "    #print(self.clusters_star_node, self.clusters_end_node)\n",
        "\n",
        "    self.kleenex()\n",
        "    self.concat_op()\n",
        "\n",
        "  #Funcion que calcula la epsilon clausura\n",
        "  def epsilon_closure(self):\n",
        "    for node in self.nodes.values(): \n",
        "      self.closure[node.name] = set()\n",
        "      for i in node.conections.keys():\n",
        "        if i[0] == \"ε\":\n",
        "          self.closure[node.name].add(node.conections[i])\n",
        "    \n",
        "    change = True \n",
        "\n",
        "    while change:\n",
        "      change = False \n",
        "      for state_closure in self.closure.keys():\n",
        "        size = len(self.closure[state_closure])\n",
        "        if size > 0:\n",
        "          for i in self.closure[state_closure]:\n",
        "            if len(self.closure[i]) > 0:\n",
        "              self.closure[state_closure] = self.closure[state_closure].union(self.closure[i])\n",
        "        size2 = len(self.closure[state_closure])\n",
        "        if size2 > size:\n",
        "          change = True \n",
        "\n",
        "    return self.closure\n",
        "\n",
        "  #Crea el automata que acepta un rango entre corchetes [A-Z]\n",
        "  def letters_range(self):\n",
        "    self.nodes_clusters.pop(-1)\n",
        "    self.nodes_clusters.pop(-1)\n",
        "    self.clusters_star_node.pop(-1)\n",
        "    self.clusters_star_node.pop(-1)\n",
        "    self.clusters_end_node.pop(-1)\n",
        "    self.clusters_end_node.pop(-1)\n",
        "    #print(self.clusters_star_node)\n",
        "    if len(self.clusters_star_node) == 0:\n",
        "      self.clusters_star_node.append(0)\n",
        "\n",
        "    letter_1 = ord(self.readed[-2])\n",
        "    letter_2 = ord(self.readed[-1]) \n",
        "    data = dict()\n",
        "    for i in range(letter_1,letter_2 + 1):\n",
        "      data[chr(i)] = self.enum+1\n",
        "\n",
        "    #print(data)\n",
        "\n",
        "    self.clusters_star_node.append(self.enum)\n",
        "    self.clusters_end_node.append(self.enum+1)\n",
        "    self.node_clust = dict()\n",
        "    self.__create_node(False, data , self.node_clust)\n",
        "    self.__create_node(True, dict() , self.node_clust)\n",
        "    self.nodes_clusters.append(self.node_clust)\n",
        "    #print(self.clusters_star_node)\n",
        "    #print(self.clusters_star_node) \n",
        "  \n",
        "  #Retorna la expresion regular leida por el automata\n",
        "  def readed_letters(self):\n",
        "    return self.readed\n",
        "\n",
        "\n",
        "  #Retorna los simbolos de la expresion regular leida por el automata\n",
        "  def readed_letter_alphabet(self):\n",
        "    return set(self.readed)\n",
        "\n",
        "  #Retorna los nodos del automata\n",
        "  def return_nodes(self):\n",
        "    data = dict()\n",
        "    acept = []\n",
        "    for i in self.nodes_clusters[0].keys():\n",
        "      data[i] = self.nodes[i].conections\n",
        "      if self.nodes[i].aceptation == True: \n",
        "        acept.append(self.nodes[i].name)\n",
        "    return [acept, data]\n",
        "\n",
        "  #Retorna los nodos del automata\n",
        "  def show_nodes(self) -> None:\n",
        "    for i in self.nodes.values():\n",
        "      print(\"---------------\")\n",
        "      print(i.name)\n",
        "      print(i.conections)\n",
        "      print(i.aceptation)\n",
        "\n"
      ],
      "metadata": {
        "id": "TqZISzzqAbQp"
      },
      "execution_count": 233,
      "outputs": []
    },
    {
      "cell_type": "code",
      "source": [
        "#Funcion para gráficar el Automata \n",
        "def draw(num, NFA_OBJ):\n",
        "  automata = gr.Digraph(format='PNG')\n",
        "  state=0\n",
        "  states = NFA_OBJ.nodes_clusters[num]\n",
        "\n",
        "  for nodes in states.values():\n",
        "    state_name = 'q' + str(nodes.name)\n",
        "    if nodes.aceptation == True: \n",
        "      automata.node(str(nodes.name), state_name, shape = \"doublecircle\")\n",
        "    if nodes.aceptation == False: \n",
        "      automata.node(str(nodes.name), state_name, shape = \"circle\")\n",
        "\n",
        "  for nodes in states.values():\n",
        "    temp = dict()\n",
        "    for trans in nodes.conections.keys():\n",
        "      #print(nodes.name)\n",
        "      print(nodes.conections)\n",
        "      print(nodes.conections[trans])\n",
        "      print(temp.keys())\n",
        "\n",
        "      if nodes.conections[trans] in temp.keys():\n",
        "        temp[nodes.conections[trans]].append(trans)\n",
        "      else:\n",
        "        temp[nodes.conections[trans]] = [trans]\n",
        "\n",
        "      print(temp)\n",
        "      automata.edge(str(nodes.name), str(nodes.conections[trans]) ,label = str(trans))\n",
        "      #print(str(trans))\n",
        "  return automata\n"
      ],
      "metadata": {
        "id": "OZy5ijmIJTCA"
      },
      "execution_count": 234,
      "outputs": []
    },
    {
      "cell_type": "markdown",
      "source": [
        "## Conversion de una Expresion Regular a NFA"
      ],
      "metadata": {
        "id": "BHAlAa9dI1Fg"
      }
    },
    {
      "cell_type": "markdown",
      "source": [
        "La función \"regex_to_NFA()\" sirve crear un NFA a partir de una expresión regular en postfix, adicional mente permite manenejar el símbolo \" [ \" como un símbolo o como el inicio de una espresión de la forma \"\\[A-Z\\]\". Esta función retorna el obejeto NFA y adicionalmente una lista con los datos necesarios para convertir este NFA en un DFA.\n",
        "\n",
        "Además se cuenta con la función auxiliar \"nfa_params()\" para dividir la información retornada por en varias estructuras de datos que serán utiles a la hora de transformar el NFA en un DFA \n",
        "\n",
        "\n",
        "Nota:  Para usar \" [ \" como un símbolo cualquiera, es necesario escribirlo con un \"\\\\\" previamente, con lo que quedaria así: \"\\\\[ \". "
      ],
      "metadata": {
        "id": "BTtUAPxtNPr8"
      }
    },
    {
      "cell_type": "code",
      "source": [
        "def regex_to_NFA(string):\n",
        "  flag = False\n",
        "  NFA = NFA_2()\n",
        "  string_list = [*string]\n",
        "  new_string = \"\"\n",
        "  for char in string_list:\n",
        "    if char == \"\\\\\":\n",
        "      flag = True\n",
        "    elif flag == True:\n",
        "      if char == \"[\":\n",
        "        new_string += \"変\"\n",
        "      if char == \"]\":\n",
        "        new_string += \"態\" \n",
        "      flag = False\n",
        "    elif flag == False: \n",
        "      new_string += char\n",
        "\n",
        "  expression = Hakufu_Sonsaku(new_string)\n",
        "  #print(expression)\n",
        "  new_string2 = infix_to_postfix(expression)\n",
        "  #print(new_string)\n",
        "\n",
        "  string_list = [*new_string2]\n",
        "  for char in string_list:\n",
        "    if char == \"#\":\n",
        "      NFA.concat_op()\n",
        "    elif char == \"|\":\n",
        "      NFA.or_op()\n",
        "    elif char == \"*\":\n",
        "      NFA.kleenex()\n",
        "    elif char == \"+\":\n",
        "      NFA.kleenex_plus()\n",
        "    elif char == \"-\":\n",
        "      NFA.letters_range()\n",
        "    elif char == \"?\":\n",
        "      NFA.simbol(\"\")\n",
        "      NFA.or_op()\n",
        "    elif char == '変':\n",
        "       NFA.simbol(\"[\")\n",
        "    elif char == '態':\n",
        "       NFA.simbol(\"]\")\n",
        "\n",
        "    else:\n",
        "      NFA.simbol(char)\n",
        "  \n",
        "  #estado inical \n",
        "  initial_state = NFA.clusters_star_node \n",
        "\n",
        "  #nodes contiene el diccionario nombre:objeto_nodo\n",
        "  nodes = NFA.nodes_clusters\n",
        "  \n",
        "  #nodes2 contiene el diccionario nombre:{letra:estado}\n",
        "  nodes2 = NFA.return_nodes()\n",
        "\n",
        "  #data contiene la epsion clausura como diccionario \n",
        "  data = NFA.epsilon_closure()\n",
        " \n",
        "  return [nodes2 ,NFA]\n",
        "\n",
        "#num = regex_to_NFA(\"\\[abc\\]\")\n",
        "#NFA_for_DRAW = num[1]\n",
        "#draw(0,NFA_for_DRAW)"
      ],
      "metadata": {
        "id": "yylJcKEoizbe"
      },
      "execution_count": 235,
      "outputs": []
    },
    {
      "cell_type": "code",
      "source": [
        "#función que retorna la función de transición, los estados, estados de aceptación, simbolos de transición y el estado inicial\n",
        "def nfa_params(nodes2):\n",
        "  dfa_beta = {}\n",
        "  num_trans = 0\n",
        "  transitions_0 = []\n",
        "\n",
        "  #pasa por los nodos del NFA\n",
        "  for i in nodes2[1]:\n",
        "    epsilon_list = []\n",
        "    #verifica las transiciones de los nodos\n",
        "    for j in nodes2[1][i]:\n",
        "      if('ε' in j):\n",
        "        epsilon_list.append(nodes2[1][i][j])\n",
        "      else:\n",
        "        if (i  not in dfa_beta):\n",
        "          dfa_beta[i] = {j:nodes2[1][i][j]}\n",
        "          transitions_0.append([i,j,nodes2[1][i][j]])\n",
        "        else:\n",
        "          dfa_beta[i].update({j:nodes2[1][i][j]})\n",
        "          transitions_0.append([i,j,nodes2[1][i][j]])\n",
        "        num_trans += 1\n",
        "    if(i  not in dfa_beta):\n",
        "      dfa_beta[i] = {}\n",
        "    if(len(epsilon_list) != 0):\n",
        "      dfa_beta[i] = {'ε':epsilon_list}\n",
        "      for x in epsilon_list:\n",
        "        transitions_0.append([i,'ε',x])\n",
        "      num_trans += len(epsilon_list) \n",
        "  #guardamos datos\n",
        "  states = dfa_beta\n",
        "  alphaset = set()\n",
        "  node_num = len(states)\n",
        "  for nodes in states.values():\n",
        "    nodes.keys()\n",
        "    for trans in nodes.keys():\n",
        "      alphaset.add(str(trans))\n",
        "  alpha_num = len(alphaset)\n",
        "  states_list = states.keys()\n",
        "  transitions_1 = []\n",
        "  for z in transitions_0:\n",
        "    transitions_1.append([str(x) for x in z])\n",
        "  return dfa_beta, [x for x in list(states_list)], alphaset, [str(x) for x in nodes2[0]]\n",
        "\n",
        "#0 es el dict\n",
        "#1 es la lista de estados\n",
        "#[1][0] estado inicial\n",
        "#2 es la lista de simbolos de transición\n",
        "#3 los estados de aceptación "
      ],
      "metadata": {
        "id": "KYpb4VE26rAh"
      },
      "execution_count": 236,
      "outputs": []
    },
    {
      "cell_type": "markdown",
      "source": [
        "# Conversion de NFA a DFA"
      ],
      "metadata": {
        "id": "nj2tKZPWKJtD"
      }
    },
    {
      "cell_type": "markdown",
      "source": [
        "Para convertir el NFA a DFA se utiliza el mismo algoritmo descrito en \"Compilers: Principles, Techniques, and Tools\" en donde se utilizan las epsilom clausuras para ir generando el DFA. El código funciona con el DFA normal. Adicionalmente se crearon funciones que se llaman desde el tokenizer para verificar si una cadena es aceptada o es capaz de ser leída por un automata independientemente de si la acepta o no."
      ],
      "metadata": {
        "id": "vJDrVCbO2kKO"
      }
    },
    {
      "cell_type": "code",
      "source": [
        "#NFA a DFA\n",
        "\n",
        "#la epsilon clausura de un estado\n",
        "def epsilon_closure_1(s, dfa_beta):\n",
        "  r = [s]\n",
        "  for j in dfa_beta[s]:\n",
        "    if j == \"ε\" :\n",
        "      for x in dfa_beta[s][j]:\n",
        "        r += epsilon_closure_1(x, dfa_beta)\n",
        "  return list(set(r))\n",
        "\n",
        "#la epsilon clausura de un conjunto de estados\n",
        "def epsilon_closure_2(f, dfa_beta):\n",
        "  r = []\n",
        "  for s in f:\n",
        "    r += epsilon_closure_1(s, dfa_beta)\n",
        "  return list(set(r))\n",
        "\n",
        "#la función move del libro del dragón\n",
        "def move(T,a,dfa_beta):\n",
        "  r = []\n",
        "  for s in T:\n",
        "    if a in list(dfa_beta[s].keys()):\n",
        "      if 'ε' == a:\n",
        "        for x in dfa_beta[s][a]:\n",
        "          r.append(x)\n",
        "      else:\n",
        "        r.append(dfa_beta[s][a])\n",
        "  return list(set(r))\n",
        "\n",
        "#función para generar el DFA\n",
        "def nfa_to_dfa(S,dfa_beta,alphaset):\n",
        "  Dstates = []\n",
        "  Dstates.append(epsilon_closure_1(S, dfa_beta))\n",
        "  mark = []\n",
        "  mark.append(False)\n",
        "  count = 0\n",
        "  Dtran = {}\n",
        "\n",
        "  while False in mark:\n",
        "    mark[count] = True\n",
        "    for x in list(alphaset):\n",
        "      if x != 'ε':\n",
        "        U = epsilon_closure_2(move(Dstates[count],x,dfa_beta), dfa_beta)\n",
        "        if U not in Dstates:\n",
        "          Dstates.append(U)\n",
        "          mark.append(False)\n",
        "        ref = str(Dstates[count])\n",
        "        ref2 = str(U)\n",
        "        if (ref  not in Dtran):\n",
        "          Dtran[ref] = {x:ref2}\n",
        "        else:\n",
        "          Dtran[ref].update({x:ref2})\n",
        "    count += 1\n",
        "  return Dstates, Dtran\n",
        "\n",
        "#función para enlistar los estados de aceptación del DFA\n",
        "def dfa_accept_states(nfa_accept,dfa_states):\n",
        "  r = []\n",
        "  for x in dfa_states:\n",
        "    for y in nfa_accept:\n",
        "      if y in str(x):\n",
        "        r.append(str(x))\n",
        "  return r\n",
        "\n",
        "#función para chequear si una string es aceptada por el DFA\n",
        "def dfa_check(string, dfa, astates, S):\n",
        "  if(len(string) == 0):\n",
        "    if(S in astates):\n",
        "      return True\n",
        "    else:\n",
        "      return False\n",
        "  f_state = S\n",
        "  for x in string:\n",
        "    if x in dfa[f_state]:\n",
        "      f_state = dfa[f_state][x]\n",
        "    else:\n",
        "      return False\n",
        "  if f_state in astates:    \n",
        "    return True\n",
        "  else:\n",
        "    return False\n",
        "\n",
        "#función para chequear si una string es aceptada por una lista de DFAs\n",
        "def dfas_check(string, dfas_list):\n",
        "  r = []\n",
        "  count = 0\n",
        "  for x in dfas_list:\n",
        "    if dfa_check(string,x[0],x[1],x[2]):\n",
        "      r.append(count)\n",
        "    count+=1\n",
        "  return r\n",
        "\n",
        "#función para chequear si una string se puede leer por un DFA sin necesariamente ser aceptada\n",
        "def dfa_try(string, dfa, S):\n",
        "  f_state = S\n",
        "  for x in string:\n",
        "    if x in dfa[f_state]:\n",
        "      f_state = dfa[f_state][x]\n",
        "      if f_state == '[]':\n",
        "        return False\n",
        "    else:\n",
        "      return False\n",
        "  return True\n",
        "\n",
        "#función para chequear si una string se puede leer por una lista de DFAs sin necesariamente ser aceptada\n",
        "def dfas_try(string, dfas_list):\n",
        "  r = []\n",
        "  count = 0\n",
        "  for x in dfas_list:\n",
        "    if dfa_try(string,x[0],x[2]):\n",
        "      r.append(count)\n",
        "    count+=1\n",
        "  return r\n",
        "\n",
        "#Retorna el diccionario del DFA, sus estados de aceptación y su estado inicial\n",
        "def dfa_born(nodes2):\n",
        "  temporary = nfa_params(nodes2)\n",
        "\n",
        "  dfa_states, dfa_final = nfa_to_dfa(temporary[1][0],temporary[0],temporary[2])\n",
        "  accept_states_nfa = [str(x) for x in nodes2[0]]\n",
        "  astates_dfa = dfa_accept_states(accept_states_nfa,dfa_states)\n",
        "  istate_dfa = str(dfa_states[0])\n",
        "\n",
        "  return [dfa_final,astates_dfa,istate_dfa]"
      ],
      "metadata": {
        "id": "tRZD7EgqSjqD"
      },
      "execution_count": 237,
      "outputs": []
    },
    {
      "cell_type": "code",
      "source": [
        "def draw_DFA(info, name):\n",
        "  automata = gr.Digraph(format='PNG')\n",
        "  state=0\n",
        "  states = info[0]\n",
        "\n",
        "\n",
        "  for nodes in states.keys(): \n",
        "    state_name = 'q' + str(nodes)\n",
        "    if nodes in info[1]:\n",
        "      automata.node(str(nodes),state_name, shape = \"doublecircle\")\n",
        "    else:\n",
        "      automata.node(str(nodes),state_name, shape = \"circle\")\n",
        "\n",
        "  for nodes in states.keys():\n",
        "    temp = dict()\n",
        "    for trans in info[0][nodes]:\n",
        "      #print(nodes)\n",
        "      #print(\"va por: \", trans)\n",
        "      #print(info[0][nodes][trans])\n",
        "\n",
        "      if info[0][nodes][trans] in temp.keys():\n",
        "        temp[info[0][nodes][trans]].append(trans)\n",
        "      else:\n",
        "        temp[info[0][nodes][trans]] = [trans]\n",
        "      #print(\"OK: \", temp)\n",
        "      #print()\n",
        "\n",
        "\n",
        "    for trans in temp.keys():\n",
        "      #print(temp)\n",
        "      automata.edge(str(nodes), str(trans) ,label = str(temp[trans]))\n",
        "   \n",
        "  automata.save()\n",
        "  automata.render(filename=name, view=True) \n",
        "  return automata "
      ],
      "metadata": {
        "id": "BeR2m1YbYUEs"
      },
      "execution_count": 238,
      "outputs": []
    },
    {
      "cell_type": "code",
      "source": [
        "temp = dfa_born(regex_to_NFA(\"[A-C]*\")[0])\n",
        "draw_DFA(temp,'Prueba_dibujado_DFA')"
      ],
      "metadata": {
        "id": "3yM2R9mdCXda",
        "colab": {
          "base_uri": "https://localhost:8080/",
          "height": 368
        },
        "outputId": "1285f521-b10e-4e43-bcc2-932d654e77c4"
      },
      "execution_count": 239,
      "outputs": [
        {
          "output_type": "execute_result",
          "data": {
            "text/plain": [
              "<graphviz.dot.Digraph at 0x7fe5795dbed0>"
            ],
            "image/svg+xml": "<?xml version=\"1.0\" encoding=\"UTF-8\" standalone=\"no\"?>\n<!DOCTYPE svg PUBLIC \"-//W3C//DTD SVG 1.1//EN\"\n \"http://www.w3.org/Graphics/SVG/1.1/DTD/svg11.dtd\">\n<!-- Generated by graphviz version 2.40.1 (20161225.0304)\n -->\n<!-- Title: %3 Pages: 1 -->\n<svg width=\"194pt\" height=\"260pt\"\n viewBox=\"0.00 0.00 194.29 259.58\" xmlns=\"http://www.w3.org/2000/svg\" xmlns:xlink=\"http://www.w3.org/1999/xlink\">\n<g id=\"graph0\" class=\"graph\" transform=\"scale(1 1) rotate(0) translate(4 255.5836)\">\n<title>%3</title>\n<polygon fill=\"#ffffff\" stroke=\"transparent\" points=\"-4,4 -4,-255.5836 190.2918,-255.5836 190.2918,4 -4,4\"/>\n<!-- [4, 6, 7] -->\n<g id=\"node1\" class=\"node\">\n<title>[4, 6, 7]</title>\n<ellipse fill=\"none\" stroke=\"#000000\" cx=\"50.1459\" cy=\"-201.4377\" rx=\"46.2806\" ry=\"46.2806\"/>\n<ellipse fill=\"none\" stroke=\"#000000\" cx=\"50.1459\" cy=\"-201.4377\" rx=\"50.2922\" ry=\"50.2922\"/>\n<text text-anchor=\"middle\" x=\"50.1459\" y=\"-197.7377\" font-family=\"Times,serif\" font-size=\"14.00\" fill=\"#000000\">q[4, 6, 7]</text>\n</g>\n<!-- [4, 5, 7] -->\n<g id=\"node2\" class=\"node\">\n<title>[4, 5, 7]</title>\n<ellipse fill=\"none\" stroke=\"#000000\" cx=\"50.1459\" cy=\"-50.1459\" rx=\"46.2806\" ry=\"46.2806\"/>\n<ellipse fill=\"none\" stroke=\"#000000\" cx=\"50.1459\" cy=\"-50.1459\" rx=\"50.2922\" ry=\"50.2922\"/>\n<text text-anchor=\"middle\" x=\"50.1459\" y=\"-46.4459\" font-family=\"Times,serif\" font-size=\"14.00\" fill=\"#000000\">q[4, 5, 7]</text>\n</g>\n<!-- [4, 6, 7]&#45;&gt;[4, 5, 7] -->\n<g id=\"edge1\" class=\"edge\">\n<title>[4, 6, 7]&#45;&gt;[4, 5, 7]</title>\n<path fill=\"none\" stroke=\"#000000\" d=\"M50.1459,-151.0597C50.1459,-138.045 50.1459,-123.903 50.1459,-110.4384\"/>\n<polygon fill=\"#000000\" stroke=\"#000000\" points=\"53.646,-110.3039 50.1459,-100.3039 46.646,-110.3039 53.646,-110.3039\"/>\n<text text-anchor=\"middle\" x=\"84.1459\" y=\"-122.0918\" font-family=\"Times,serif\" font-size=\"14.00\" fill=\"#000000\">[&#39;B&#39;, &#39;A&#39;, &#39;C&#39;]</text>\n</g>\n<!-- [4, 5, 7]&#45;&gt;[4, 5, 7] -->\n<g id=\"edge2\" class=\"edge\">\n<title>[4, 5, 7]&#45;&gt;[4, 5, 7]</title>\n<path fill=\"none\" stroke=\"#000000\" d=\"M98.5343,-63.7465C109.9039,-62.6287 118.2918,-58.0951 118.2918,-50.1459 118.2918,-44.805 114.5054,-41.006 108.5722,-38.7489\"/>\n<polygon fill=\"#000000\" stroke=\"#000000\" points=\"109.0523,-35.2711 98.5343,-36.5453 107.5512,-42.1082 109.0523,-35.2711\"/>\n<text text-anchor=\"middle\" x=\"152.2918\" y=\"-46.4459\" font-family=\"Times,serif\" font-size=\"14.00\" fill=\"#000000\">[&#39;B&#39;, &#39;A&#39;, &#39;C&#39;]</text>\n</g>\n</g>\n</svg>\n"
          },
          "metadata": {},
          "execution_count": 239
        }
      ]
    },
    {
      "cell_type": "markdown",
      "source": [
        "## Tokenizer"
      ],
      "metadata": {
        "id": "1a7DHRKVLqKq"
      }
    },
    {
      "cell_type": "markdown",
      "source": [
        "El tokenizer lee la cadena de caracteres deseada, lleva dos contadores, uno que marca el inicio del token y otro que marca el final del token. Como en el libro \"Compilers: Principles, Techniques, and Tools\" se indica que un token exitoso es la cadena de caracteres más larga que se identifica como un token, por lo que el programa va aumentando el final del token hasta que la string leida no es aceptada por ningún DFA, es decir que en el paso anterior al no ser aceptada es cuando tenía su token correspondiente. Para saber si una cadena va a ser aceptada se le pregunta al DFA si en su nodo actual puede ir a otro nodo mediante el caracter de transición, si no es posible entonces la cadena jamás será aceptada."
      ],
      "metadata": {
        "id": "yiaQvUFu3cY_"
      }
    },
    {
      "cell_type": "code",
      "source": [
        "#Tokenizer_new\n",
        "\n",
        "#Tokenizer con impresiones\n",
        "def tokenizar2(sample_text,dfas_list,tokenlist, flag = True):\n",
        "  r = []\n",
        "  if(len(sample_text) < 2):\n",
        "    dfas_check(sample_text,dfas_list)\n",
        "  x_1 = 0\n",
        "  x_2 = 1\n",
        "\n",
        "  #se recorre el string con una posición adelantada para verificar la cadena más larga aceptada por un DFA\n",
        "  while x_2 <= len(sample_text):\n",
        "    temp = dfas_try(sample_text[x_1:x_2],dfas_list)\n",
        "    while len(temp) != 0 and x_2 <= len(sample_text)+1:\n",
        "      #verifique si la porción de string que lleva es aceptada por un DFA\n",
        "      temp = dfas_try(sample_text[x_1:x_2],dfas_list)\n",
        "      x_2+=1\n",
        "    #una vez que ya no lo acepta significa que debe ir a la ultima porción de string que corresponde a un token\n",
        "    x_2 = x_2-2\n",
        "    temp2 = dfas_check(sample_text[x_1:x_2], dfas_list)\n",
        "    if len(temp2) != 0 :\n",
        "      #si la cadena es aceptada por un DFA se confirma que es un token y se imprime\n",
        "      if(flag == True):\n",
        "        print(\"Tipo de token: \", tokenlist[min(temp2)],\"- Posición inicial: \", x_1+1,\"- Posición final: \", x_2,\"- valor: \", str(sample_text[x_1:x_2]))\n",
        "      r.append([tokenlist[min(temp2)],x_1,x_2])\n",
        "      x_1 = x_2\n",
        "      x_2+=1\n",
        "    else:\n",
        "      if(flag == True):\n",
        "        pass\n",
        "        #print(\"Syntax error\")\n",
        "      return []\n",
        "      #se retorna una lista de listas que lleva un token, donde empieza y donde acaba\n",
        "  return r\n"
      ],
      "metadata": {
        "id": "7Uxrz85tHkg_"
      },
      "execution_count": 240,
      "outputs": []
    },
    {
      "cell_type": "markdown",
      "source": [
        "## Lectura de archivos e inputs"
      ],
      "metadata": {
        "id": "0Ws9d_myLylq"
      }
    },
    {
      "cell_type": "markdown",
      "source": [
        "Para leer los archivos .txt se remueven los saltos de línea y posteriormente se asignan los tokens a su expresión regular respectiva y finalmente se tokeniza un texto. Si existe un caracter invalido el programa deja de tokenizar y pide otro texto para tokenizar."
      ],
      "metadata": {
        "id": "noTdzd_P4dfg"
      }
    },
    {
      "cell_type": "code",
      "source": [
        "#lee el .txt linea por linea para generar los tokens y luego otro .txt donde está el texto a tokenizar\n",
        "def recieve_txt_input(readme,readme2):\n",
        "  tok_rx_list = []\n",
        "  dfas_list = []\n",
        "  tokenlist = []\n",
        "  nfas_list = []\n",
        "  tokgen = []\n",
        "  with open(readme) as f:\n",
        "      lines = f.readlines()\n",
        "\n",
        "  for x in lines:\n",
        "    y = x.replace(\"\\n\", \"\" )\n",
        "    tokgen.append(y.split(\" -> \"))\n",
        "\n",
        "  for x in tokgen:\n",
        "    dfas_list.append(dfa_born(regex_to_NFA(x[1])[0]))\n",
        "    tokenlist.append(x[0])\n",
        "\n",
        "  with open(readme2) as f:\n",
        "      lines = f.read()\n",
        "      lines = lines.replace(\"\\n\", \"\")\n",
        "      lines = lines.replace(\"\\t\", \"\")\n",
        "  r = tokenizar2(lines,dfas_list,tokenlist)\n",
        "  return r\n",
        "\n",
        "#en caso de que solo se quiera generar los tokens sin verificar un .txt se usa esta\n",
        "def gen_txt_tokens(readme):\n",
        "  tok_rx_list = []\n",
        "  dfas_list = []\n",
        "  tokenlist = []\n",
        "  nfas_list = []\n",
        "  tokgen = []\n",
        "  with open(readme) as f:\n",
        "      lines = f.readlines()\n",
        "\n",
        "  for x in lines:\n",
        "    y = x.replace(\"\\n\", \"\" )\n",
        "    tokgen.append(y.split(\" -> \"))\n",
        "\n",
        "  for x in tokgen:\n",
        "    dfas_list.append(dfa_born(regex_to_NFA(x[1])[0]))\n",
        "    tokenlist.append(x[0])\n",
        "  return(dfas_list,tokenlist)"
      ],
      "metadata": {
        "id": "Dw-bxYPoy5Pk"
      },
      "execution_count": 241,
      "outputs": []
    },
    {
      "cell_type": "code",
      "source": [
        "#prompts para pedir input al usuario en caso de que se desee tokenizar algo sobre la marcha sin crear un .txt\n",
        "def ask_for_tokenization(dfas_list,tokenlist):\n",
        "  flag = True\n",
        "  while flag == True :\n",
        "    print(\"Por favor ingrese el texto para tokenizar (si quiere dejar de tokenizar escriba '==='): \")\n",
        "    strtemp3 = input()\n",
        "\n",
        "    if(strtemp3 == '==='):\n",
        "      flag = False\n",
        "    else:\n",
        "      tokenizar2(strtemp3,dfas_list,tokenlist)\n",
        "\n",
        "#prompt para pedir al usuario que genere los tokens sobre la marcha y luego compruebe texto sobre la marcha\n",
        "def ask_for_tokens():\n",
        "  tok_rx_list = []\n",
        "  dfas_list = []\n",
        "  tokenlist = []\n",
        "  nfas_list = []\n",
        "\n",
        "  flag = True\n",
        "  while flag == True :\n",
        "    print(\"Por favor ingrese el nombre de su token: \")\n",
        "    strtemp = input()\n",
        "    #print(strtemp + '\\n')\n",
        "    print(\"Por favor ingrese la expresión regular: \")\n",
        "    strtemp2 = input()\n",
        "    #print(strtemp + '\\n')\n",
        "    tok_rx_list.append([strtemp, strtemp2])\n",
        "    print(\"¿Desea continuar agregando tokens? (y/n): \")\n",
        "    if(input() != 'y'):\n",
        "      flag = False\n",
        "\n",
        "    for x in tok_rx_list:\n",
        "      dfas_list.append(dfa_born(regex_to_NFA(x[1])[0]))\n",
        "      tokenlist.append(x[0])\n",
        "    ask_for_tokenization(dfas_list,tokenlist)\n"
      ],
      "metadata": {
        "id": "8t83KbEa3loV"
      },
      "execution_count": 242,
      "outputs": []
    },
    {
      "cell_type": "markdown",
      "source": [
        "# Parte A"
      ],
      "metadata": {
        "id": "MJAwAwYWdz_L"
      }
    },
    {
      "cell_type": "markdown",
      "source": [
        "Aquí generamos los archivos .txt ya que no se guardan en la base de datos del colab, de esta forma al ejecutar esta linea aparece el archivo .txt, en este caso enseñamos el funcionamiento del programa mediante el ejemplo que proporciona el profesor en el taller."
      ],
      "metadata": {
        "id": "x5xuu2W44814"
      }
    },
    {
      "cell_type": "code",
      "source": [
        "%%writefile for.txt \n",
        "for -> (for)|(FOR)\n",
        "identifier -> [_a-z][_a-z0-9]*\n",
        "digit -> [0-9][0-9]*\n",
        "space -> [ ]\n",
        "equal -> ="
      ],
      "metadata": {
        "colab": {
          "base_uri": "https://localhost:8080/"
        },
        "id": "04917CGxc69T",
        "outputId": "02a89318-c032-455e-f52a-cb7addaa6b93"
      },
      "execution_count": 243,
      "outputs": [
        {
          "output_type": "stream",
          "name": "stdout",
          "text": [
            "Overwriting for.txt\n"
          ]
        }
      ]
    },
    {
      "cell_type": "code",
      "source": [
        "%%writefile test_for.txt \n",
        "for a = 1\n",
        "for pepito = 24"
      ],
      "metadata": {
        "colab": {
          "base_uri": "https://localhost:8080/"
        },
        "id": "ff_Q9qBIekv-",
        "outputId": "9981a4f3-e5fd-41b6-822b-d2f8078d4687"
      },
      "execution_count": 244,
      "outputs": [
        {
          "output_type": "stream",
          "name": "stdout",
          "text": [
            "Overwriting test_for.txt\n"
          ]
        }
      ]
    },
    {
      "cell_type": "code",
      "source": [
        "recieve_txt_input('for.txt','test_for.txt')\n",
        "print(\"\")"
      ],
      "metadata": {
        "colab": {
          "base_uri": "https://localhost:8080/"
        },
        "id": "F2gwGrcpeTFM",
        "outputId": "bf8042ab-496a-46dc-baf6-a477d9029144"
      },
      "execution_count": 245,
      "outputs": [
        {
          "output_type": "stream",
          "name": "stdout",
          "text": [
            "Tipo de token:  for - Posición inicial:  1 - Posición final:  3 - valor:  for\n",
            "Tipo de token:  space - Posición inicial:  4 - Posición final:  4 - valor:   \n",
            "Tipo de token:  identifier - Posición inicial:  5 - Posición final:  5 - valor:  a\n",
            "Tipo de token:  space - Posición inicial:  6 - Posición final:  6 - valor:   \n",
            "Tipo de token:  equal - Posición inicial:  7 - Posición final:  7 - valor:  =\n",
            "Tipo de token:  space - Posición inicial:  8 - Posición final:  8 - valor:   \n",
            "Tipo de token:  digit - Posición inicial:  9 - Posición final:  9 - valor:  1\n",
            "Tipo de token:  for - Posición inicial:  10 - Posición final:  12 - valor:  for\n",
            "Tipo de token:  space - Posición inicial:  13 - Posición final:  13 - valor:   \n",
            "Tipo de token:  identifier - Posición inicial:  14 - Posición final:  19 - valor:  pepito\n",
            "Tipo de token:  space - Posición inicial:  20 - Posición final:  20 - valor:   \n",
            "Tipo de token:  equal - Posición inicial:  21 - Posición final:  21 - valor:  =\n",
            "Tipo de token:  space - Posición inicial:  22 - Posición final:  22 - valor:   \n",
            "Tipo de token:  digit - Posición inicial:  23 - Posición final:  24 - valor:  24\n",
            "\n"
          ]
        }
      ]
    },
    {
      "cell_type": "markdown",
      "source": [
        "# Lectura del formato JSON"
      ],
      "metadata": {
        "id": "9fCdMLSSL6dT"
      }
    },
    {
      "cell_type": "markdown",
      "source": [
        "Para verificar un archivo JSON se utilizan varios DFAs, basicamente de manera recursiva se pregunta si un archivo es JSON, este verifica si la primera posición es una llave izquierda y luego pregunta si es un identificador, seguido de dos puntos y luego un objeto que puede ser un string, un número, un booleano, un JSON o inclusive listas de los anteriores. Si se encuentra una coma luego de chequear esto, entonces vuelve a chequear, y así sucesivamente hasta chequear que todo el texto esté en formato JSON."
      ],
      "metadata": {
        "id": "c2nnlJrw5Rrx"
      }
    },
    {
      "cell_type": "code",
      "source": [
        "#Función simple que va quitando espacios entre tokens\n",
        "def skip_space(tokenlist,pos):\n",
        "  temp = pos\n",
        "  if(pos >= len(tokenlist)):\n",
        "    return pos-1\n",
        "  while tokenlist[pos][0] == 'Space':\n",
        "    pos+=1\n",
        "  return pos\n",
        "\n",
        "#Esta función verifica si el simbolo esperado está en la posición deseada\n",
        "def validate_JSON(tokenlist,pos,expected=None,not_expected=None,condition=None):\n",
        "  if (expected is not None and tokenlist[pos][0] == expected or not_expected is not None and tokenlist[pos][0] != not_expected or condition is True):\n",
        "    return True\n",
        "  else:\n",
        "    return False\n",
        "\n",
        "#La columna vertebral del parser, acá se llama recursivamente al string para verificar los tokens\n",
        "def JSON_parser(tokenlist,pos=0):\n",
        "  if tokenlist[pos][0] == 'Left Key':\n",
        "    return parse_object(tokenlist,pos)\n",
        "  elif tokenlist[pos][0] == 'Left Bracket':\n",
        "    return parse_array(tokenlist,pos)\n",
        "  elif (tokenlist[pos][0] == 'Number' or tokenlist[pos][0] == 'String' or tokenlist[pos][0] =='Bool' or tokenlist[pos][0] == 'Null'):\n",
        "    return pos\n",
        "  return False\n",
        "\n",
        "#Acá verificamos la estructura del JSON\n",
        "def parse_object(tokenlist,pos):\n",
        "  if not validate_JSON(tokenlist,pos,expected='Left Key'):\n",
        "    return False\n",
        "  pos = skip_space(tokenlist,pos+1)\n",
        "\n",
        "  while tokenlist[pos][0] != 'Right Key':\n",
        "    if tokenlist[pos][0] == 'String':\n",
        "      pos+=1\n",
        "      if tokenlist[pos][0] == 'Double dot':\n",
        "        pos+=1\n",
        "      else:\n",
        "        return False\n",
        "    pos = skip_space(tokenlist,pos)\n",
        "    if(JSON_parser(tokenlist,pos) == False):\n",
        "      return False\n",
        "    pos = JSON_parser(tokenlist,pos)+1\n",
        "    pos = skip_space(tokenlist,pos)\n",
        "    if tokenlist[pos][0] == 'Comma':\n",
        "      pos = skip_space(tokenlist,pos+1)\n",
        "      if not validate_JSON(tokenlist,pos,not_expected='Right Key'):\n",
        "        return False\n",
        "    else:\n",
        "      if not validate_JSON(tokenlist,pos,expected='Right Key'):\n",
        "        return False\n",
        "  return pos\n",
        "\n",
        "#Acá verificamos la estructura Array\n",
        "def parse_array(tokenlist,pos):\n",
        "  if not validate_JSON(tokenlist,pos,expected='Left Bracket'):\n",
        "    return False\n",
        "  pos = skip_space(tokenlist,pos+1)\n",
        "\n",
        "  while tokenlist[pos][0] != 'Right Bracket':\n",
        "    if(JSON_parser(tokenlist,pos) == False):\n",
        "      return False\n",
        "    pos = JSON_parser(tokenlist,pos)+1\n",
        "    pos = skip_space(tokenlist,pos)\n",
        "    if tokenlist[pos][0] == 'Comma':\n",
        "      pos = skip_space(tokenlist,pos+1)\n",
        "      if not validate_JSON(tokenlist,pos,not_expected='Right Bracket'):\n",
        "        return False\n",
        "    else:\n",
        "      if not validate_JSON(tokenlist,pos,expected='Right Bracket'):\n",
        "        return False\n",
        "  return pos\n",
        "\n",
        "#Acá verificamos el caso en que haya más de un JSON en el archivo\n",
        "def parse_multipleJSON(tokenlist,pos=0):\n",
        "  if(len(tokenlist) < 1):\n",
        "    return False\n",
        "  if (JSON_parser(tokenlist,pos) == False):\n",
        "    return False\n",
        "  pos = JSON_parser(tokenlist,pos)+1\n",
        "  while pos < len(tokenlist):\n",
        "    pos = skip_space(tokenlist,pos)\n",
        "    if tokenlist[pos][0] == 'Comma':\n",
        "      pos+=1\n",
        "      pos = skip_space(tokenlist,pos)\n",
        "    else:\n",
        "      return False\n",
        "    if (JSON_parser(tokenlist,pos) == False):\n",
        "      return False\n",
        "    pos = JSON_parser(tokenlist,pos)+1\n",
        "\n",
        "  return pos"
      ],
      "metadata": {
        "id": "Krrt87xoAbQc"
      },
      "execution_count": 246,
      "outputs": []
    },
    {
      "cell_type": "markdown",
      "source": [
        "# Parte B"
      ],
      "metadata": {
        "id": "1RFpw_UjfEw9"
      }
    },
    {
      "cell_type": "markdown",
      "source": [
        "Se desea leer el formato JSON, es decir que vamos a crear un token por cada elemento clave que lo compone. Lo primero es ser capaz de identificar las llaves \"{}\", luego de esto tenemos que comprobar el contenido de JSON que tiene la siguiente estructura: \"String\":objeto. Objeto es un elemento recursivo que puede ser desde un \"JSON\", números, identificadores, booleanos o null, además de una lista de los anteriores. Si al final de chequear el contenido se encuentra una coma, significa que hay que seguir comprobando más contenido.\n",
        "\n",
        "Los DFA creados son los siguientes:\n",
        "\n",
        "\n",
        "*   String -> \"[ a-zA-Z0-9]+\", es decir una cadena de letras o números encerrados entre comillas.\n",
        "*   Number -> ([0-9]+)|([0-9]+.[0-9]+), es decir un entero o un flotante.\n",
        "*   Bool -> (True)|(False), es decir falso o verdadero.\n",
        "*   Null -> (Null)|(null)|(NULL), es decir las diferentes formas de escribir elemento nulo.\n",
        "*   Left Key -> {, es decir la llave izquierda.\n",
        "*   Right Key -> }, es decir la llave derecha.\n",
        "*   Left Bracket -> \\[, es decir el bracket izquierdo.\n",
        "*   Right Bracket -> \\], es decir el bracket derecho.\n",
        "*   Double dot -> :, es decir los dos puntos que van luego del String.\n",
        "*   Comma -> ,, es decir la coma que separa elementos en la lista o dentro del JSON.\n",
        "*   Space -> [ ], es decir el espaco que se puede utilizar por comodidad para entender mejor el texto.\n",
        "\n",
        "Ahora vamos a probar con el ejemplo del taller:\n",
        "\n"
      ],
      "metadata": {
        "id": "teBTa09u5xry"
      }
    },
    {
      "cell_type": "code",
      "source": [
        "%%writefile json.txt\n",
        "String -> \"[ a-zA-Z0-9]+\"\n",
        "Number -> ([0-9]+)|([0-9]+.[0-9]+)\n",
        "Bool -> (True)|(False)\n",
        "Null -> (Null)|(null)|(NULL)\n",
        "Left Key -> {\n",
        "Right Key -> }\n",
        "Left Bracket -> \\[\n",
        "Right Bracket -> \\]\n",
        "Double dot -> :\n",
        "Comma -> ,\n",
        "Space -> [ ]"
      ],
      "metadata": {
        "colab": {
          "base_uri": "https://localhost:8080/"
        },
        "id": "5Y-e3L44AmMM",
        "outputId": "2bbbe54e-341f-4af6-a265-96f37186a4c6"
      },
      "execution_count": 247,
      "outputs": [
        {
          "output_type": "stream",
          "name": "stdout",
          "text": [
            "Overwriting json.txt\n"
          ]
        }
      ]
    },
    {
      "cell_type": "code",
      "source": [
        "%%writefile json_definitetest.txt\n",
        "{\n",
        "\"departamento\":8,\n",
        "\"nombredepto\":\"Ventas\",\n",
        "\"director\": \"Juan Rodriguez\",\n",
        "\"empleados\":[\n",
        "  {\n",
        "    \"nombre\":\"Pedro\",\n",
        "    \"apellido\":\"Fernandez\"\n",
        "  },{\n",
        "      \"nombre\":\"Jacinto\",\n",
        "      \"apellido\":\"Benavente\"\n",
        "    }\n",
        "  ]\n",
        "},{\n",
        "  \"Para que vea\":\"profe\",\n",
        "  \"Float\":9.8\n",
        "}"
      ],
      "metadata": {
        "colab": {
          "base_uri": "https://localhost:8080/"
        },
        "id": "IXOJdkLPgU3g",
        "outputId": "e9242c31-53bd-4480-c9b1-5a6f4dbbe998"
      },
      "execution_count": 248,
      "outputs": [
        {
          "output_type": "stream",
          "name": "stdout",
          "text": [
            "Overwriting json_definitetest.txt\n"
          ]
        }
      ]
    },
    {
      "cell_type": "code",
      "source": [
        "diosporfavor = recieve_txt_input('json.txt','json_definitetest.txt')\n",
        "if(parse_multipleJSON(diosporfavor) == False):\n",
        "  print(\"No es un archivo en formato JSON\")\n",
        "else:\n",
        "  print(\"Es un archivo en formato JSON\")"
      ],
      "metadata": {
        "colab": {
          "base_uri": "https://localhost:8080/"
        },
        "id": "4W2jzjAiAqxV",
        "outputId": "68ad559f-6a86-4013-83f8-650c1ce294a7"
      },
      "execution_count": 249,
      "outputs": [
        {
          "output_type": "stream",
          "name": "stdout",
          "text": [
            "Tipo de token:  Left Key - Posición inicial:  1 - Posición final:  1 - valor:  {\n",
            "Tipo de token:  String - Posición inicial:  2 - Posición final:  15 - valor:  \"departamento\"\n",
            "Tipo de token:  Double dot - Posición inicial:  16 - Posición final:  16 - valor:  :\n",
            "Tipo de token:  Number - Posición inicial:  17 - Posición final:  17 - valor:  8\n",
            "Tipo de token:  Comma - Posición inicial:  18 - Posición final:  18 - valor:  ,\n",
            "Tipo de token:  String - Posición inicial:  19 - Posición final:  31 - valor:  \"nombredepto\"\n",
            "Tipo de token:  Double dot - Posición inicial:  32 - Posición final:  32 - valor:  :\n",
            "Tipo de token:  String - Posición inicial:  33 - Posición final:  40 - valor:  \"Ventas\"\n",
            "Tipo de token:  Comma - Posición inicial:  41 - Posición final:  41 - valor:  ,\n",
            "Tipo de token:  String - Posición inicial:  42 - Posición final:  51 - valor:  \"director\"\n",
            "Tipo de token:  Double dot - Posición inicial:  52 - Posición final:  52 - valor:  :\n",
            "Tipo de token:  Space - Posición inicial:  53 - Posición final:  53 - valor:   \n",
            "Tipo de token:  String - Posición inicial:  54 - Posición final:  69 - valor:  \"Juan Rodriguez\"\n",
            "Tipo de token:  Comma - Posición inicial:  70 - Posición final:  70 - valor:  ,\n",
            "Tipo de token:  String - Posición inicial:  71 - Posición final:  81 - valor:  \"empleados\"\n",
            "Tipo de token:  Double dot - Posición inicial:  82 - Posición final:  82 - valor:  :\n",
            "Tipo de token:  Left Bracket - Posición inicial:  83 - Posición final:  83 - valor:  [\n",
            "Tipo de token:  Space - Posición inicial:  84 - Posición final:  84 - valor:   \n",
            "Tipo de token:  Space - Posición inicial:  85 - Posición final:  85 - valor:   \n",
            "Tipo de token:  Left Key - Posición inicial:  86 - Posición final:  86 - valor:  {\n",
            "Tipo de token:  Space - Posición inicial:  87 - Posición final:  87 - valor:   \n",
            "Tipo de token:  Space - Posición inicial:  88 - Posición final:  88 - valor:   \n",
            "Tipo de token:  Space - Posición inicial:  89 - Posición final:  89 - valor:   \n",
            "Tipo de token:  Space - Posición inicial:  90 - Posición final:  90 - valor:   \n",
            "Tipo de token:  String - Posición inicial:  91 - Posición final:  98 - valor:  \"nombre\"\n",
            "Tipo de token:  Double dot - Posición inicial:  99 - Posición final:  99 - valor:  :\n",
            "Tipo de token:  String - Posición inicial:  100 - Posición final:  106 - valor:  \"Pedro\"\n",
            "Tipo de token:  Comma - Posición inicial:  107 - Posición final:  107 - valor:  ,\n",
            "Tipo de token:  Space - Posición inicial:  108 - Posición final:  108 - valor:   \n",
            "Tipo de token:  Space - Posición inicial:  109 - Posición final:  109 - valor:   \n",
            "Tipo de token:  Space - Posición inicial:  110 - Posición final:  110 - valor:   \n",
            "Tipo de token:  Space - Posición inicial:  111 - Posición final:  111 - valor:   \n",
            "Tipo de token:  String - Posición inicial:  112 - Posición final:  121 - valor:  \"apellido\"\n",
            "Tipo de token:  Double dot - Posición inicial:  122 - Posición final:  122 - valor:  :\n",
            "Tipo de token:  String - Posición inicial:  123 - Posición final:  133 - valor:  \"Fernandez\"\n",
            "Tipo de token:  Space - Posición inicial:  134 - Posición final:  134 - valor:   \n",
            "Tipo de token:  Space - Posición inicial:  135 - Posición final:  135 - valor:   \n",
            "Tipo de token:  Right Key - Posición inicial:  136 - Posición final:  136 - valor:  }\n",
            "Tipo de token:  Comma - Posición inicial:  137 - Posición final:  137 - valor:  ,\n",
            "Tipo de token:  Left Key - Posición inicial:  138 - Posición final:  138 - valor:  {\n",
            "Tipo de token:  Space - Posición inicial:  139 - Posición final:  139 - valor:   \n",
            "Tipo de token:  Space - Posición inicial:  140 - Posición final:  140 - valor:   \n",
            "Tipo de token:  Space - Posición inicial:  141 - Posición final:  141 - valor:   \n",
            "Tipo de token:  Space - Posición inicial:  142 - Posición final:  142 - valor:   \n",
            "Tipo de token:  Space - Posición inicial:  143 - Posición final:  143 - valor:   \n",
            "Tipo de token:  Space - Posición inicial:  144 - Posición final:  144 - valor:   \n",
            "Tipo de token:  String - Posición inicial:  145 - Posición final:  152 - valor:  \"nombre\"\n",
            "Tipo de token:  Double dot - Posición inicial:  153 - Posición final:  153 - valor:  :\n",
            "Tipo de token:  String - Posición inicial:  154 - Posición final:  162 - valor:  \"Jacinto\"\n",
            "Tipo de token:  Comma - Posición inicial:  163 - Posición final:  163 - valor:  ,\n",
            "Tipo de token:  Space - Posición inicial:  164 - Posición final:  164 - valor:   \n",
            "Tipo de token:  Space - Posición inicial:  165 - Posición final:  165 - valor:   \n",
            "Tipo de token:  Space - Posición inicial:  166 - Posición final:  166 - valor:   \n",
            "Tipo de token:  Space - Posición inicial:  167 - Posición final:  167 - valor:   \n",
            "Tipo de token:  Space - Posición inicial:  168 - Posición final:  168 - valor:   \n",
            "Tipo de token:  Space - Posición inicial:  169 - Posición final:  169 - valor:   \n",
            "Tipo de token:  String - Posición inicial:  170 - Posición final:  179 - valor:  \"apellido\"\n",
            "Tipo de token:  Double dot - Posición inicial:  180 - Posición final:  180 - valor:  :\n",
            "Tipo de token:  String - Posición inicial:  181 - Posición final:  191 - valor:  \"Benavente\"\n",
            "Tipo de token:  Space - Posición inicial:  192 - Posición final:  192 - valor:   \n",
            "Tipo de token:  Space - Posición inicial:  193 - Posición final:  193 - valor:   \n",
            "Tipo de token:  Space - Posición inicial:  194 - Posición final:  194 - valor:   \n",
            "Tipo de token:  Space - Posición inicial:  195 - Posición final:  195 - valor:   \n",
            "Tipo de token:  Right Key - Posición inicial:  196 - Posición final:  196 - valor:  }\n",
            "Tipo de token:  Space - Posición inicial:  197 - Posición final:  197 - valor:   \n",
            "Tipo de token:  Space - Posición inicial:  198 - Posición final:  198 - valor:   \n",
            "Tipo de token:  Right Bracket - Posición inicial:  199 - Posición final:  199 - valor:  ]\n",
            "Tipo de token:  Right Key - Posición inicial:  200 - Posición final:  200 - valor:  }\n",
            "Tipo de token:  Comma - Posición inicial:  201 - Posición final:  201 - valor:  ,\n",
            "Tipo de token:  Left Key - Posición inicial:  202 - Posición final:  202 - valor:  {\n",
            "Tipo de token:  Space - Posición inicial:  203 - Posición final:  203 - valor:   \n",
            "Tipo de token:  Space - Posición inicial:  204 - Posición final:  204 - valor:   \n",
            "Tipo de token:  String - Posición inicial:  205 - Posición final:  218 - valor:  \"Para que vea\"\n",
            "Tipo de token:  Double dot - Posición inicial:  219 - Posición final:  219 - valor:  :\n",
            "Tipo de token:  String - Posición inicial:  220 - Posición final:  226 - valor:  \"profe\"\n",
            "Tipo de token:  Comma - Posición inicial:  227 - Posición final:  227 - valor:  ,\n",
            "Tipo de token:  Space - Posición inicial:  228 - Posición final:  228 - valor:   \n",
            "Tipo de token:  Space - Posición inicial:  229 - Posición final:  229 - valor:   \n",
            "Tipo de token:  String - Posición inicial:  230 - Posición final:  236 - valor:  \"Float\"\n",
            "Tipo de token:  Double dot - Posición inicial:  237 - Posición final:  237 - valor:  :\n",
            "Tipo de token:  Number - Posición inicial:  238 - Posición final:  240 - valor:  9.8\n",
            "Tipo de token:  Right Key - Posición inicial:  241 - Posición final:  241 - valor:  }\n",
            "Es un archivo en formato JSON\n"
          ]
        }
      ]
    },
    {
      "cell_type": "markdown",
      "source": [
        "### Punto adicional\n",
        "\n",
        "En esta parte se gráfican los DFA que sirven para tokenisar el JSON"
      ],
      "metadata": {
        "id": "-88HnPk6WmLz"
      }
    },
    {
      "cell_type": "code",
      "source": [
        "info = dfa_born(regex_to_NFA('\"[ a-zA-Z0-9]+\"')[0])\n",
        "draw_DFA(info, \"regex String_DFA\")"
      ],
      "metadata": {
        "id": "peapx17X9eLB",
        "colab": {
          "base_uri": "https://localhost:8080/",
          "height": 1000
        },
        "outputId": "ace27590-5515-441f-a09a-87ec007141e2"
      },
      "execution_count": 250,
      "outputs": [
        {
          "output_type": "execute_result",
          "data": {
            "text/plain": [
              "<graphviz.dot.Digraph at 0x7fe579586550>"
            ],
            "image/svg+xml": "<?xml version=\"1.0\" encoding=\"UTF-8\" standalone=\"no\"?>\n<!DOCTYPE svg PUBLIC \"-//W3C//DTD SVG 1.1//EN\"\n \"http://www.w3.org/Graphics/SVG/1.1/DTD/svg11.dtd\">\n<!-- Generated by graphviz version 2.40.1 (20161225.0304)\n -->\n<!-- Title: %3 Pages: 1 -->\n<svg width=\"5306pt\" height=\"2625pt\"\n viewBox=\"0.00 0.00 5305.65 2624.70\" xmlns=\"http://www.w3.org/2000/svg\" xmlns:xlink=\"http://www.w3.org/1999/xlink\">\n<g id=\"graph0\" class=\"graph\" transform=\"scale(1 1) rotate(0) translate(4 2620.7047)\">\n<title>%3</title>\n<polygon fill=\"#ffffff\" stroke=\"transparent\" points=\"-4,4 -4,-2620.7047 5301.6476,-2620.7047 5301.6476,4 -4,4\"/>\n<!-- [0] -->\n<g id=\"node1\" class=\"node\">\n<title>[0]</title>\n<ellipse fill=\"none\" stroke=\"#000000\" cx=\"26.6476\" cy=\"-2590.0571\" rx=\"26.7961\" ry=\"26.7961\"/>\n<text text-anchor=\"middle\" x=\"26.6476\" y=\"-2586.3571\" font-family=\"Times,serif\" font-size=\"14.00\" fill=\"#000000\">q[0]</text>\n</g>\n<!-- [] -->\n<g id=\"node2\" class=\"node\">\n<title>[]</title>\n<ellipse fill=\"none\" stroke=\"#000000\" cx=\"2424.6476\" cy=\"-21.4481\" rx=\"21.3963\" ry=\"21.3963\"/>\n<text text-anchor=\"middle\" x=\"2424.6476\" y=\"-17.7481\" font-family=\"Times,serif\" font-size=\"14.00\" fill=\"#000000\">q[]</text>\n</g>\n<!-- [0]&#45;&gt;[] -->\n<g id=\"edge1\" class=\"edge\">\n<title>[0]&#45;&gt;[]</title>\n<path fill=\"none\" stroke=\"#000000\" d=\"M22.9367,-2563.5097C18.2101,-2527.3407 10.6476,-2460.5175 10.6476,-2403.2191 10.6476,-2403.2191 10.6476,-2403.2191 10.6476,-129.0934 10.6476,-66.5122 2109.069,-27.0528 2392.9967,-22.0002\"/>\n<polygon fill=\"#000000\" stroke=\"#000000\" points=\"2393.1046,-25.4989 2403.0411,-21.8224 2392.9807,-18.5 2393.1046,-25.4989\"/>\n<text text-anchor=\"middle\" x=\"641.1476\" y=\"-1217.0105\" font-family=\"Times,serif\" font-size=\"14.00\" fill=\"#000000\">[&#39;U&#39;, &#39;A&#39;, &#39;d&#39;, &#39;i&#39;, &#39;q&#39;, &#39;2&#39;, &#39;R&#39;, &#39;K&#39;, &#39;P&#39;, &#39;1&#39;, &#39;c&#39;, &#39;x&#39;, &#39;a&#39;, &#39;G&#39;, &#39;X&#39;, &#39;6&#39;, &#39;S&#39;, &#39;v&#39;, &#39;Q&#39;, &#39;H&#39;, &#39;f&#39;, &#39;k&#39;, &#39;t&#39;, &#39;D&#39;, &#39;O&#39;, &#39;o&#39;, &#39;z&#39;, &#39;W&#39;, &#39;5&#39;, &#39;8&#39;, &#39;M&#39;, &#39;p&#39;, &#39;J&#39;, &#39;j&#39;, &#39;y&#39;, &#39;F&#39;, &#39;e&#39;, &#39;I&#39;, &#39;T&#39;, &#39;Y&#39;, &#39;9&#39;, &#39;E&#39;, &#39;V&#39;, &#39;h&#39;, &#39;g&#39;, &#39;B&#39;, &#39;7&#39;, &#39;w&#39;, &#39;r&#39;, &#39;N&#39;, &#39;C&#39;, &#39;m&#39;, &#39;u&#39;, &#39;4&#39;, &#39;0&#39;, &#39;3&#39;, &#39;l&#39;, &#39;b&#39;, &#39; &#39;, &#39;s&#39;, &#39;n&#39;, &#39;Z&#39;, &#39;L&#39;]</text>\n</g>\n<!-- [2, 8, 10, 16, 18, 24, 26] -->\n<g id=\"node3\" class=\"node\">\n<title>[2, 8, 10, 16, 18, 24, 26]</title>\n<ellipse fill=\"none\" stroke=\"#000000\" cx=\"3424.6476\" cy=\"-2403.2191\" rx=\"109.381\" ry=\"109.381\"/>\n<text text-anchor=\"middle\" x=\"3424.6476\" y=\"-2399.5191\" font-family=\"Times,serif\" font-size=\"14.00\" fill=\"#000000\">q[2, 8, 10, 16, 18, 24, 26]</text>\n</g>\n<!-- [0]&#45;&gt;[2, 8, 10, 16, 18, 24, 26] -->\n<g id=\"edge2\" class=\"edge\">\n<title>[0]&#45;&gt;[2, 8, 10, 16, 18, 24, 26]</title>\n<path fill=\"none\" stroke=\"#000000\" d=\"M53.5045,-2588.5804C334.5816,-2573.1254 2738.6001,-2440.9413 3305.3223,-2409.7802\"/>\n<polygon fill=\"#000000\" stroke=\"#000000\" points=\"3305.7615,-2413.2614 3315.5542,-2409.2176 3305.3771,-2406.272 3305.7615,-2413.2614\"/>\n<text text-anchor=\"middle\" x=\"1041.6476\" y=\"-2534.2095\" font-family=\"Times,serif\" font-size=\"14.00\" fill=\"#000000\">[&#39;&quot;&#39;]</text>\n</g>\n<!-- []&#45;&gt;[] -->\n<g id=\"edge3\" class=\"edge\">\n<title>[]&#45;&gt;[]</title>\n<path fill=\"none\" stroke=\"#000000\" d=\"M2444.539,-29.7699C2454.8244,-31.0501 2464.0957,-28.2762 2464.0957,-21.4481 2464.0957,-17.0738 2460.2908,-14.3634 2454.8518,-13.3168\"/>\n<polygon fill=\"#000000\" stroke=\"#000000\" points=\"2454.602,-9.8117 2444.539,-13.1263 2454.4726,-16.8105 2454.602,-9.8117\"/>\n<text text-anchor=\"middle\" x=\"3103.5957\" y=\"-17.7481\" font-family=\"Times,serif\" font-size=\"14.00\" fill=\"#000000\">[&#39;U&#39;, &#39;A&#39;, &#39;d&#39;, &#39;i&#39;, &#39;q&#39;, &#39;2&#39;, &#39;R&#39;, &#39;K&#39;, &#39;P&#39;, &#39;1&#39;, &#39;c&#39;, &#39;x&#39;, &#39;a&#39;, &#39;G&#39;, &#39;X&#39;, &#39;6&#39;, &#39;S&#39;, &#39;v&#39;, &#39;Q&#39;, &#39;H&#39;, &#39;f&#39;, &#39;k&#39;, &#39;t&#39;, &#39;D&#39;, &#39;O&#39;, &#39;o&#39;, &#39;z&#39;, &#39;W&#39;, &#39;5&#39;, &#39;8&#39;, &#39;M&#39;, &#39;p&#39;, &#39;J&#39;, &#39;j&#39;, &#39;y&#39;, &#39;F&#39;, &#39;e&#39;, &#39;I&#39;, &#39;T&#39;, &#39;Y&#39;, &#39;9&#39;, &#39;E&#39;, &#39;V&#39;, &#39;h&#39;, &#39;&quot;&#39;, &#39;g&#39;, &#39;B&#39;, &#39;7&#39;, &#39;w&#39;, &#39;r&#39;, &#39;N&#39;, &#39;C&#39;, &#39;m&#39;, &#39;u&#39;, &#39;4&#39;, &#39;0&#39;, &#39;3&#39;, &#39;l&#39;, &#39;b&#39;, &#39; &#39;, &#39;s&#39;, &#39;n&#39;, &#39;Z&#39;, &#39;L&#39;]</text>\n</g>\n<!-- [2, 8, 10, 16, 18, 24, 26]&#45;&gt;[] -->\n<g id=\"edge7\" class=\"edge\">\n<title>[2, 8, 10, 16, 18, 24, 26]&#45;&gt;[]</title>\n<path fill=\"none\" stroke=\"#000000\" d=\"M3533.9906,-2397.6732C3886.6496,-2379.128 4979.3001,-2316.2965 5119.6476,-2243.0288 5215.9604,-2192.7492 5277.6476,-2165.1425 5277.6476,-2056.4954 5277.6476,-2056.4954 5277.6476,-2056.4954 5277.6476,-129.0934 5277.6476,-54.7348 2769.5261,-25.1825 2456.5754,-21.7845\"/>\n<polygon fill=\"#000000\" stroke=\"#000000\" points=\"2456.4137,-18.2826 2446.3766,-21.6746 2456.3382,-25.2822 2456.4137,-18.2826\"/>\n<text text-anchor=\"middle\" x=\"5287.6476\" y=\"-999.1276\" font-family=\"Times,serif\" font-size=\"14.00\" fill=\"#000000\">[&#39;&quot;&#39;]</text>\n</g>\n<!-- [32, 34, 36, 38, 40, 42, 44, 17, 19, 28, 30] -->\n<g id=\"node4\" class=\"node\">\n<title>[32, 34, 36, 38, 40, 42, 44, 17, 19, 28, 30]</title>\n<ellipse fill=\"none\" stroke=\"#000000\" cx=\"4245.6476\" cy=\"-2056.4954\" rx=\"177.3685\" ry=\"177.3685\"/>\n<text text-anchor=\"middle\" x=\"4245.6476\" y=\"-2052.7954\" font-family=\"Times,serif\" font-size=\"14.00\" fill=\"#000000\">q[32, 34, 36, 38, 40, 42, 44, 17, 19, 28, 30]</text>\n</g>\n<!-- [2, 8, 10, 16, 18, 24, 26]&#45;&gt;[32, 34, 36, 38, 40, 42, 44, 17, 19, 28, 30] -->\n<g id=\"edge4\" class=\"edge\">\n<title>[2, 8, 10, 16, 18, 24, 26]&#45;&gt;[32, 34, 36, 38, 40, 42, 44, 17, 19, 28, 30]</title>\n<path fill=\"none\" stroke=\"#000000\" d=\"M3525.3184,-2360.704C3661.5812,-2303.1576 3906.7365,-2199.6239 4072.7784,-2129.5013\"/>\n<polygon fill=\"#000000\" stroke=\"#000000\" points=\"4074.2591,-2132.6754 4082.1096,-2125.5606 4071.5357,-2126.2269 4074.2591,-2132.6754\"/>\n<text text-anchor=\"middle\" x=\"4019.6476\" y=\"-2264.8288\" font-family=\"Times,serif\" font-size=\"14.00\" fill=\"#000000\">[&#39;U&#39;, &#39;A&#39;, &#39;R&#39;, &#39;K&#39;, &#39;P&#39;, &#39;G&#39;, &#39;X&#39;, &#39;S&#39;, &#39;Q&#39;, &#39;H&#39;, &#39;D&#39;, &#39;O&#39;, &#39;W&#39;, &#39;M&#39;, &#39;J&#39;, &#39;F&#39;, &#39;I&#39;, &#39;T&#39;, &#39;Y&#39;, &#39;E&#39;, &#39;V&#39;, &#39;B&#39;, &#39;N&#39;, &#39;C&#39;, &#39;Z&#39;, &#39;L&#39;]</text>\n</g>\n<!-- [32, 34, 36, 38, 40, 9, 42, 11, 44, 19, 28, 30] -->\n<g id=\"node5\" class=\"node\">\n<title>[32, 34, 36, 38, 40, 9, 42, 11, 44, 19, 28, 30]</title>\n<ellipse fill=\"none\" stroke=\"#000000\" cx=\"2029.6476\" cy=\"-2056.4954\" rx=\"186.5669\" ry=\"186.5669\"/>\n<text text-anchor=\"middle\" x=\"2029.6476\" y=\"-2052.7954\" font-family=\"Times,serif\" font-size=\"14.00\" fill=\"#000000\">q[32, 34, 36, 38, 40, 9, 42, 11, 44, 19, 28, 30]</text>\n</g>\n<!-- [2, 8, 10, 16, 18, 24, 26]&#45;&gt;[32, 34, 36, 38, 40, 9, 42, 11, 44, 19, 28, 30] -->\n<g id=\"edge5\" class=\"edge\">\n<title>[2, 8, 10, 16, 18, 24, 26]&#45;&gt;[32, 34, 36, 38, 40, 9, 42, 11, 44, 19, 28, 30]</title>\n<path fill=\"none\" stroke=\"#000000\" d=\"M3318.6509,-2376.8739C3084.2292,-2318.609 2519.0269,-2178.1294 2220.9848,-2104.0518\"/>\n<polygon fill=\"#000000\" stroke=\"#000000\" points=\"2221.4826,-2100.5691 2210.9336,-2101.5536 2219.7941,-2107.3624 2221.4826,-2100.5691\"/>\n<text text-anchor=\"middle\" x=\"3136.1476\" y=\"-2264.8288\" font-family=\"Times,serif\" font-size=\"14.00\" fill=\"#000000\">[&#39;d&#39;, &#39;i&#39;, &#39;q&#39;, &#39;c&#39;, &#39;x&#39;, &#39;a&#39;, &#39;v&#39;, &#39;f&#39;, &#39;k&#39;, &#39;t&#39;, &#39;o&#39;, &#39;z&#39;, &#39;p&#39;, &#39;j&#39;, &#39;y&#39;, &#39;e&#39;, &#39;h&#39;, &#39;g&#39;, &#39;w&#39;, &#39;r&#39;, &#39;m&#39;, &#39;u&#39;, &#39;l&#39;, &#39;b&#39;, &#39;s&#39;, &#39;n&#39;]</text>\n</g>\n<!-- [32, 34, 36, 38, 40, 42, 44, 25, 28, 30] -->\n<g id=\"node6\" class=\"node\">\n<title>[32, 34, 36, 38, 40, 42, 44, 25, 28, 30]</title>\n<ellipse fill=\"none\" stroke=\"#000000\" cx=\"4947.6476\" cy=\"-2056.4954\" rx=\"163.2712\" ry=\"163.2712\"/>\n<text text-anchor=\"middle\" x=\"4947.6476\" y=\"-2052.7954\" font-family=\"Times,serif\" font-size=\"14.00\" fill=\"#000000\">q[32, 34, 36, 38, 40, 42, 44, 25, 28, 30]</text>\n</g>\n<!-- [2, 8, 10, 16, 18, 24, 26]&#45;&gt;[32, 34, 36, 38, 40, 42, 44, 25, 28, 30] -->\n<g id=\"edge6\" class=\"edge\">\n<title>[2, 8, 10, 16, 18, 24, 26]&#45;&gt;[32, 34, 36, 38, 40, 42, 44, 25, 28, 30]</title>\n<path fill=\"none\" stroke=\"#000000\" d=\"M3533.9285,-2396.2167C3721.3623,-2381.9315 4114.5859,-2341.9755 4431.6476,-2243.0288 4551.5713,-2205.6038 4684.8785,-2157.2336 4785.9523,-2119.1279\"/>\n<polygon fill=\"#000000\" stroke=\"#000000\" points=\"4787.2038,-2122.3966 4795.3228,-2115.5898 4784.7311,-2115.8479 4787.2038,-2122.3966\"/>\n<text text-anchor=\"middle\" x=\"4450.1476\" y=\"-2264.8288\" font-family=\"Times,serif\" font-size=\"14.00\" fill=\"#000000\">[&#39;2&#39;, &#39;1&#39;, &#39;6&#39;, &#39;5&#39;, &#39;8&#39;, &#39;9&#39;, &#39;7&#39;, &#39;4&#39;, &#39;0&#39;, &#39;3&#39;]</text>\n</g>\n<!-- [32, 34, 3, 36, 38, 40, 42, 11, 44, 19, 28, 30] -->\n<g id=\"node7\" class=\"node\">\n<title>[32, 34, 3, 36, 38, 40, 42, 11, 44, 19, 28, 30]</title>\n<ellipse fill=\"none\" stroke=\"#000000\" cx=\"1378.6476\" cy=\"-2056.4954\" rx=\"186.5669\" ry=\"186.5669\"/>\n<text text-anchor=\"middle\" x=\"1378.6476\" y=\"-2052.7954\" font-family=\"Times,serif\" font-size=\"14.00\" fill=\"#000000\">q[32, 34, 3, 36, 38, 40, 42, 11, 44, 19, 28, 30]</text>\n</g>\n<!-- [2, 8, 10, 16, 18, 24, 26]&#45;&gt;[32, 34, 3, 36, 38, 40, 42, 11, 44, 19, 28, 30] -->\n<g id=\"edge8\" class=\"edge\">\n<title>[2, 8, 10, 16, 18, 24, 26]&#45;&gt;[32, 34, 3, 36, 38, 40, 42, 11, 44, 19, 28, 30]</title>\n<path fill=\"none\" stroke=\"#000000\" d=\"M3315.5604,-2396.3477C3004.2981,-2376.0904 2116.2035,-2313.5861 1833.6476,-2243.0288 1738.9407,-2219.3795 1638.0678,-2179.6451 1555.4292,-2142.9116\"/>\n<polygon fill=\"#000000\" stroke=\"#000000\" points=\"1556.7716,-2139.6779 1546.2137,-2138.7941 1553.9161,-2146.069 1556.7716,-2139.6779\"/>\n<text text-anchor=\"middle\" x=\"2001.6476\" y=\"-2264.8288\" font-family=\"Times,serif\" font-size=\"14.00\" fill=\"#000000\">[&#39; &#39;]</text>\n</g>\n<!-- [32, 34, 36, 38, 39, 40, 44, 28, 29, 30, 31] -->\n<g id=\"node8\" class=\"node\">\n<title>[32, 34, 36, 38, 39, 40, 44, 28, 29, 30, 31]</title>\n<ellipse fill=\"none\" stroke=\"#000000\" cx=\"1976.6476\" cy=\"-1641.5277\" rx=\"177.3685\" ry=\"177.3685\"/>\n<text text-anchor=\"middle\" x=\"1976.6476\" y=\"-1637.8277\" font-family=\"Times,serif\" font-size=\"14.00\" fill=\"#000000\">q[32, 34, 36, 38, 39, 40, 44, 28, 29, 30, 31]</text>\n</g>\n<!-- [32, 34, 36, 38, 40, 42, 44, 17, 19, 28, 30]&#45;&gt;[32, 34, 36, 38, 39, 40, 44, 28, 29, 30, 31] -->\n<g id=\"edge9\" class=\"edge\">\n<title>[32, 34, 36, 38, 40, 42, 44, 17, 19, 28, 30]&#45;&gt;[32, 34, 36, 38, 39, 40, 44, 28, 29, 30, 31]</title>\n<path fill=\"none\" stroke=\"#000000\" d=\"M4069.6013,-2032.4286C3789.5465,-1993.2623 3225.7479,-1910.8146 2751.6476,-1818.9619 2547.5736,-1779.4244 2315.4035,-1725.0013 2158.8154,-1686.8884\"/>\n<polygon fill=\"#000000\" stroke=\"#000000\" points=\"2159.6246,-1683.4833 2149.0802,-1684.5162 2157.9673,-1690.2843 2159.6246,-1683.4833\"/>\n<text text-anchor=\"middle\" x=\"3195.6476\" y=\"-1840.7619\" font-family=\"Times,serif\" font-size=\"14.00\" fill=\"#000000\">[&#39;U&#39;, &#39;A&#39;, &#39;R&#39;, &#39;K&#39;, &#39;P&#39;, &#39;G&#39;, &#39;X&#39;, &#39;S&#39;, &#39;Q&#39;, &#39;H&#39;, &#39;D&#39;, &#39;O&#39;, &#39;W&#39;, &#39;M&#39;, &#39;J&#39;, &#39;F&#39;, &#39;I&#39;, &#39;T&#39;, &#39;Y&#39;, &#39;E&#39;, &#39;V&#39;, &#39;B&#39;, &#39;N&#39;, &#39;C&#39;, &#39;Z&#39;, &#39;L&#39;]</text>\n</g>\n<!-- [32, 33, 34, 36, 37, 38, 40, 44, 28, 29, 30, 31] -->\n<g id=\"node9\" class=\"node\">\n<title>[32, 33, 34, 36, 37, 38, 40, 44, 28, 29, 30, 31]</title>\n<ellipse fill=\"none\" stroke=\"#000000\" cx=\"3190.6476\" cy=\"-1220.7105\" rx=\"192.2659\" ry=\"192.2659\"/>\n<text text-anchor=\"middle\" x=\"3190.6476\" y=\"-1217.0105\" font-family=\"Times,serif\" font-size=\"14.00\" fill=\"#000000\">q[32, 33, 34, 36, 37, 38, 40, 44, 28, 29, 30, 31]</text>\n</g>\n<!-- [32, 34, 36, 38, 40, 42, 44, 17, 19, 28, 30]&#45;&gt;[32, 33, 34, 36, 37, 38, 40, 44, 28, 29, 30, 31] -->\n<g id=\"edge10\" class=\"edge\">\n<title>[32, 34, 36, 38, 40, 42, 44, 17, 19, 28, 30]&#45;&gt;[32, 33, 34, 36, 37, 38, 40, 44, 28, 29, 30, 31]</title>\n<path fill=\"none\" stroke=\"#000000\" d=\"M4190.0776,-1887.7948C4177.0753,-1867.9414 4161.1404,-1850.109 4141.6476,-1836.9619 4084.8065,-1798.6249 3883.8069,-1865.7026 3833.6476,-1818.9619 3717.295,-1710.5395 3884.6913,-1590.093 3787.6476,-1464.0934 3692.7003,-1340.8157 3524.8177,-1279.6555 3391.2152,-1249.5019\"/>\n<polygon fill=\"#000000\" stroke=\"#000000\" points=\"3391.7712,-1246.0404 3381.2511,-1247.2959 3390.2581,-1252.8749 3391.7712,-1246.0404\"/>\n<text text-anchor=\"middle\" x=\"4077.1476\" y=\"-1637.8277\" font-family=\"Times,serif\" font-size=\"14.00\" fill=\"#000000\">[&#39;d&#39;, &#39;i&#39;, &#39;q&#39;, &#39;c&#39;, &#39;x&#39;, &#39;a&#39;, &#39;v&#39;, &#39;f&#39;, &#39;k&#39;, &#39;t&#39;, &#39;o&#39;, &#39;z&#39;, &#39;p&#39;, &#39;j&#39;, &#39;y&#39;, &#39;e&#39;, &#39;h&#39;, &#39;g&#39;, &#39;w&#39;, &#39;r&#39;, &#39;m&#39;, &#39;u&#39;, &#39;l&#39;, &#39;b&#39;, &#39;s&#39;, &#39;n&#39;]</text>\n</g>\n<!-- [32, 34, 36, 38, 40, 41, 44, 28, 29, 30] -->\n<g id=\"node10\" class=\"node\">\n<title>[32, 34, 36, 38, 40, 41, 44, 28, 29, 30]</title>\n<ellipse fill=\"none\" stroke=\"#000000\" cx=\"2648.6476\" cy=\"-378.4262\" rx=\"163.2712\" ry=\"163.2712\"/>\n<text text-anchor=\"middle\" x=\"2648.6476\" y=\"-374.7262\" font-family=\"Times,serif\" font-size=\"14.00\" fill=\"#000000\">q[32, 34, 36, 38, 40, 41, 44, 28, 29, 30]</text>\n</g>\n<!-- [32, 34, 36, 38, 40, 42, 44, 17, 19, 28, 30]&#45;&gt;[32, 34, 36, 38, 40, 41, 44, 28, 29, 30] -->\n<g id=\"edge11\" class=\"edge\">\n<title>[32, 34, 36, 38, 40, 42, 44, 17, 19, 28, 30]&#45;&gt;[32, 34, 36, 38, 40, 41, 44, 28, 29, 30]</title>\n<path fill=\"none\" stroke=\"#000000\" d=\"M4318.4445,-1894.6103C4324.6806,-1880.222 4330.8253,-1865.8512 4336.6476,-1851.9619 4403.3298,-1692.8902 4386.4701,-1632.5999 4349.6476,-1464.0934 4258.6612,-1047.7229 4288.4647,-851.1076 3949.6476,-592.5617 3775.4205,-459.6117 3133.9523,-405.7462 2821.6941,-387.0401\"/>\n<polygon fill=\"#000000\" stroke=\"#000000\" points=\"2821.8292,-383.5421 2811.6393,-386.4431 2821.4143,-390.5298 2821.8292,-383.5421\"/>\n<text text-anchor=\"middle\" x=\"4435.1476\" y=\"-1217.0105\" font-family=\"Times,serif\" font-size=\"14.00\" fill=\"#000000\">[&#39;2&#39;, &#39;1&#39;, &#39;6&#39;, &#39;5&#39;, &#39;8&#39;, &#39;9&#39;, &#39;7&#39;, &#39;4&#39;, &#39;0&#39;, &#39;3&#39;]</text>\n</g>\n<!-- [45] -->\n<g id=\"node11\" class=\"node\">\n<title>[45]</title>\n<ellipse fill=\"none\" stroke=\"#000000\" cx=\"2424.6476\" cy=\"-129.0934\" rx=\"31.373\" ry=\"31.373\"/>\n<ellipse fill=\"none\" stroke=\"#000000\" cx=\"2424.6476\" cy=\"-129.0934\" rx=\"35.3956\" ry=\"35.3956\"/>\n<text text-anchor=\"middle\" x=\"2424.6476\" y=\"-125.3934\" font-family=\"Times,serif\" font-size=\"14.00\" fill=\"#000000\">q[45]</text>\n</g>\n<!-- [32, 34, 36, 38, 40, 42, 44, 17, 19, 28, 30]&#45;&gt;[45] -->\n<g id=\"edge12\" class=\"edge\">\n<title>[32, 34, 36, 38, 40, 42, 44, 17, 19, 28, 30]&#45;&gt;[45]</title>\n<path fill=\"none\" stroke=\"#000000\" d=\"M4413.0432,-1997.5822C4612.576,-1927.3471 4919.4045,-1819.3027 4919.6476,-1818.9619 4945.9803,-1782.05 4925.6476,-1048.1696 4925.6476,-1002.8276 4925.6476,-1002.8276 4925.6476,-1002.8276 4925.6476,-378.4262 4925.6476,-249.9737 2809.1344,-146.8532 2470.1858,-131.1625\"/>\n<polygon fill=\"#000000\" stroke=\"#000000\" points=\"2470.1533,-127.6574 2460.0026,-130.6927 2469.8306,-134.65 2470.1533,-127.6574\"/>\n<text text-anchor=\"middle\" x=\"4935.6476\" y=\"-999.1276\" font-family=\"Times,serif\" font-size=\"14.00\" fill=\"#000000\">[&#39;&quot;&#39;]</text>\n</g>\n<!-- [32, 33, 34, 35, 36, 38, 40, 44, 28, 29, 30, 31] -->\n<g id=\"node12\" class=\"node\">\n<title>[32, 33, 34, 35, 36, 38, 40, 44, 28, 29, 30, 31]</title>\n<ellipse fill=\"none\" stroke=\"#000000\" cx=\"2659.6476\" cy=\"-784.9446\" rx=\"192.2659\" ry=\"192.2659\"/>\n<text text-anchor=\"middle\" x=\"2659.6476\" y=\"-781.2446\" font-family=\"Times,serif\" font-size=\"14.00\" fill=\"#000000\">q[32, 33, 34, 35, 36, 38, 40, 44, 28, 29, 30, 31]</text>\n</g>\n<!-- [32, 34, 36, 38, 40, 42, 44, 17, 19, 28, 30]&#45;&gt;[32, 33, 34, 35, 36, 38, 40, 44, 28, 29, 30, 31] -->\n<g id=\"edge13\" class=\"edge\">\n<title>[32, 34, 36, 38, 40, 42, 44, 17, 19, 28, 30]&#45;&gt;[32, 33, 34, 35, 36, 38, 40, 44, 28, 29, 30, 31]</title>\n<path fill=\"none\" stroke=\"#000000\" d=\"M4309.6866,-1890.799C4346.7603,-1768.7154 4376.1967,-1600.8395 4320.6476,-1464.0934 4218.9481,-1213.7376 4142.763,-1139.8985 3896.6476,-1028.3276 3847.145,-1005.8867 2970.8042,-995.6882 2919.6476,-977.3276 2881.8879,-963.7752 2844.9537,-942.8031 2811.3252,-919.6083\"/>\n<polygon fill=\"#000000\" stroke=\"#000000\" points=\"2813.046,-916.5403 2802.8483,-913.6666 2809.0281,-922.2724 2813.046,-916.5403\"/>\n<text text-anchor=\"middle\" x=\"4319.6476\" y=\"-1434.8934\" font-family=\"Times,serif\" font-size=\"14.00\" fill=\"#000000\">[&#39; &#39;]</text>\n</g>\n<!-- [32, 34, 36, 38, 40, 9, 42, 11, 44, 19, 28, 30]&#45;&gt;[32, 34, 36, 38, 39, 40, 44, 28, 29, 30, 31] -->\n<g id=\"edge14\" class=\"edge\">\n<title>[32, 34, 36, 38, 40, 9, 42, 11, 44, 19, 28, 30]&#45;&gt;[32, 34, 36, 38, 39, 40, 44, 28, 29, 30, 31]</title>\n<path fill=\"none\" stroke=\"#000000\" d=\"M2028.1777,-1869.7424C2027.227,-1858.6318 2026.0631,-1847.6384 2024.6476,-1836.9619 2024.057,-1832.5068 2023.4045,-1828.0059 2022.6979,-1823.4751\"/>\n<polygon fill=\"#000000\" stroke=\"#000000\" points=\"2026.137,-1822.8181 2021.0675,-1813.5149 2019.229,-1823.9489 2026.137,-1822.8181\"/>\n<text text-anchor=\"middle\" x=\"2308.6476\" y=\"-1840.7619\" font-family=\"Times,serif\" font-size=\"14.00\" fill=\"#000000\">[&#39;U&#39;, &#39;A&#39;, &#39;R&#39;, &#39;K&#39;, &#39;P&#39;, &#39;G&#39;, &#39;X&#39;, &#39;S&#39;, &#39;Q&#39;, &#39;H&#39;, &#39;D&#39;, &#39;O&#39;, &#39;W&#39;, &#39;M&#39;, &#39;J&#39;, &#39;F&#39;, &#39;I&#39;, &#39;T&#39;, &#39;Y&#39;, &#39;E&#39;, &#39;V&#39;, &#39;B&#39;, &#39;N&#39;, &#39;C&#39;, &#39;Z&#39;, &#39;L&#39;]</text>\n</g>\n<!-- [32, 34, 36, 38, 40, 9, 42, 11, 44, 19, 28, 30]&#45;&gt;[32, 33, 34, 36, 37, 38, 40, 44, 28, 29, 30, 31] -->\n<g id=\"edge15\" class=\"edge\">\n<title>[32, 34, 36, 38, 40, 9, 42, 11, 44, 19, 28, 30]&#45;&gt;[32, 33, 34, 36, 37, 38, 40, 44, 28, 29, 30, 31]</title>\n<path fill=\"none\" stroke=\"#000000\" d=\"M2209.2795,-2004.8009C2396.6223,-1953.1638 2699.6562,-1876.0137 2966.6476,-1836.9619 2999.4699,-1832.1612 3241.91,-1843.1145 3264.6476,-1818.9619 3318.7027,-1761.5433 3276.2438,-1542.0958 3264.6476,-1464.0934 3262.164,-1447.3869 3258.7709,-1430.2403 3254.7955,-1413.1579\"/>\n<polygon fill=\"#000000\" stroke=\"#000000\" points=\"3258.1224,-1412.0213 3252.3901,-1403.1112 3251.3148,-1413.6513 3258.1224,-1412.0213\"/>\n<text text-anchor=\"middle\" x=\"3534.1476\" y=\"-1637.8277\" font-family=\"Times,serif\" font-size=\"14.00\" fill=\"#000000\">[&#39;d&#39;, &#39;i&#39;, &#39;q&#39;, &#39;c&#39;, &#39;x&#39;, &#39;a&#39;, &#39;v&#39;, &#39;f&#39;, &#39;k&#39;, &#39;t&#39;, &#39;o&#39;, &#39;z&#39;, &#39;p&#39;, &#39;j&#39;, &#39;y&#39;, &#39;e&#39;, &#39;h&#39;, &#39;g&#39;, &#39;w&#39;, &#39;r&#39;, &#39;m&#39;, &#39;u&#39;, &#39;l&#39;, &#39;b&#39;, &#39;s&#39;, &#39;n&#39;]</text>\n</g>\n<!-- [32, 34, 36, 38, 40, 9, 42, 11, 44, 19, 28, 30]&#45;&gt;[32, 34, 36, 38, 40, 41, 44, 28, 29, 30] -->\n<g id=\"edge16\" class=\"edge\">\n<title>[32, 34, 36, 38, 40, 9, 42, 11, 44, 19, 28, 30]&#45;&gt;[32, 34, 36, 38, 40, 41, 44, 28, 29, 30]</title>\n<path fill=\"none\" stroke=\"#000000\" d=\"M2003.1477,-1871.7897C1995.6266,-1858.6938 1986.2656,-1846.8024 1974.6476,-1836.9619 1936.5414,-1804.6859 1788.4636,-1851.5775 1750.6476,-1818.9619 1609.5831,-1697.2964 1591.6425,-1181.5873 1594.6476,-995.3276 1596.0923,-905.7891 1545.1574,-656.7037 1607.6476,-592.5617 1675.4519,-522.9651 2391.7116,-580.6961 2480.6476,-541.5617 2499.5152,-533.2594 2517.4992,-521.8465 2534.2095,-508.8807\"/>\n<polygon fill=\"#000000\" stroke=\"#000000\" points=\"2536.6888,-511.3793 2542.3087,-502.3977 2532.3145,-505.9144 2536.6888,-511.3793\"/>\n<text text-anchor=\"middle\" x=\"1714.1476\" y=\"-1217.0105\" font-family=\"Times,serif\" font-size=\"14.00\" fill=\"#000000\">[&#39;2&#39;, &#39;1&#39;, &#39;6&#39;, &#39;5&#39;, &#39;8&#39;, &#39;9&#39;, &#39;7&#39;, &#39;4&#39;, &#39;0&#39;, &#39;3&#39;]</text>\n</g>\n<!-- [32, 34, 36, 38, 40, 9, 42, 11, 44, 19, 28, 30]&#45;&gt;[45] -->\n<g id=\"edge17\" class=\"edge\">\n<title>[32, 34, 36, 38, 40, 9, 42, 11, 44, 19, 28, 30]&#45;&gt;[45]</title>\n<path fill=\"none\" stroke=\"#000000\" d=\"M1861.4946,-1975.3215C1777.1802,-1937.8039 1672.431,-1895.91 1574.6476,-1869.9619 1544.7557,-1862.0298 1459.0622,-1873.27 1436.6476,-1851.9619 1292.9498,-1715.3579 1374.4979,-1610.5551 1356.6476,-1413.0934 1323.7944,-1049.6669 1299.9223,-947.2578 1385.6476,-592.5617 1428.5579,-415.0169 1401.1127,-322.9795 1548.6476,-215.2907 1616.2396,-165.9539 2209.4736,-137.9404 2379.3659,-130.8797\"/>\n<polygon fill=\"#000000\" stroke=\"#000000\" points=\"2379.6241,-134.3721 2389.4717,-130.4637 2379.3361,-127.378 2379.6241,-134.3721\"/>\n<text text-anchor=\"middle\" x=\"1337.6476\" y=\"-999.1276\" font-family=\"Times,serif\" font-size=\"14.00\" fill=\"#000000\">[&#39;&quot;&#39;]</text>\n</g>\n<!-- [32, 34, 36, 38, 40, 9, 42, 11, 44, 19, 28, 30]&#45;&gt;[32, 33, 34, 35, 36, 38, 40, 44, 28, 29, 30, 31] -->\n<g id=\"edge18\" class=\"edge\">\n<title>[32, 34, 36, 38, 40, 9, 42, 11, 44, 19, 28, 30]&#45;&gt;[32, 33, 34, 35, 36, 38, 40, 44, 28, 29, 30, 31]</title>\n<path fill=\"none\" stroke=\"#000000\" d=\"M2023.4906,-1869.9125C2017.486,-1857.7086 2009.6811,-1846.5069 1999.6476,-1836.9619 1965.8728,-1804.8318 1822.1645,-1853.3098 1790.6476,-1818.9619 1737.3315,-1760.8566 1748.8038,-1530.9361 1790.6476,-1464.0934 1804.4117,-1442.1062 1878.9415,-1432.9377 1895.6476,-1413.0934 2010.2723,-1276.9377 1869.7152,-1142.0232 2006.6476,-1028.3276 2038.7668,-1001.6588 2153.6899,-1022.4207 2193.6476,-1010.3276 2207.16,-1006.2381 2209.0595,-1001.7187 2221.6476,-995.3276 2304.6682,-953.1771 2397.5176,-908.266 2476.2887,-870.8096\"/>\n<polygon fill=\"#000000\" stroke=\"#000000\" points=\"2477.8018,-873.9657 2485.332,-866.5128 2474.7977,-867.6431 2477.8018,-873.9657\"/>\n<text text-anchor=\"middle\" x=\"1869.6476\" y=\"-1434.8934\" font-family=\"Times,serif\" font-size=\"14.00\" fill=\"#000000\">[&#39; &#39;]</text>\n</g>\n<!-- [32, 34, 36, 38, 40, 42, 44, 25, 28, 30]&#45;&gt;[32, 34, 36, 38, 39, 40, 44, 28, 29, 30, 31] -->\n<g id=\"edge19\" class=\"edge\">\n<title>[32, 34, 36, 38, 40, 42, 44, 25, 28, 30]&#45;&gt;[32, 34, 36, 38, 39, 40, 44, 28, 29, 30, 31]</title>\n<path fill=\"none\" stroke=\"#000000\" d=\"M4799.0773,-1988.5593C4697.841,-1945.8492 4559.4845,-1894.3637 4431.6476,-1869.9619 4302.1473,-1845.2426 3970.3996,-1856.7371 3838.6476,-1851.9619 3680.3889,-1846.2261 3640.9221,-1842.2446 3482.6476,-1836.9619 3320.2444,-1831.5414 2912.8767,-1839.1956 2751.6476,-1818.9619 2545.0613,-1793.0361 2312.857,-1736.0598 2156.9484,-1693.6255\"/>\n<polygon fill=\"#000000\" stroke=\"#000000\" points=\"2157.8256,-1690.237 2147.2568,-1690.9797 2155.982,-1696.9898 2157.8256,-1690.237\"/>\n<text text-anchor=\"middle\" x=\"4121.6476\" y=\"-1840.7619\" font-family=\"Times,serif\" font-size=\"14.00\" fill=\"#000000\">[&#39;U&#39;, &#39;A&#39;, &#39;R&#39;, &#39;K&#39;, &#39;P&#39;, &#39;G&#39;, &#39;X&#39;, &#39;S&#39;, &#39;Q&#39;, &#39;H&#39;, &#39;D&#39;, &#39;O&#39;, &#39;W&#39;, &#39;M&#39;, &#39;J&#39;, &#39;F&#39;, &#39;I&#39;, &#39;T&#39;, &#39;Y&#39;, &#39;E&#39;, &#39;V&#39;, &#39;B&#39;, &#39;N&#39;, &#39;C&#39;, &#39;Z&#39;, &#39;L&#39;]</text>\n</g>\n<!-- [32, 34, 36, 38, 40, 42, 44, 25, 28, 30]&#45;&gt;[32, 33, 34, 36, 37, 38, 40, 44, 28, 29, 30, 31] -->\n<g id=\"edge20\" class=\"edge\">\n<title>[32, 34, 36, 38, 40, 42, 44, 25, 28, 30]&#45;&gt;[32, 33, 34, 36, 37, 38, 40, 44, 28, 29, 30, 31]</title>\n<path fill=\"none\" stroke=\"#000000\" d=\"M4790.7976,-2010.5777C4688.0114,-1973.4659 4557.1548,-1911.9064 4470.6476,-1818.9619 4354.454,-1694.122 4455.5323,-1573.433 4324.6476,-1464.0934 4185.2425,-1347.6359 3679.0656,-1274.4406 3392.3463,-1241.3728\"/>\n<polygon fill=\"#000000\" stroke=\"#000000\" points=\"3392.5741,-1237.8761 3382.2403,-1240.2134 3391.7762,-1244.8304 3392.5741,-1237.8761\"/>\n<text text-anchor=\"middle\" x=\"4714.1476\" y=\"-1637.8277\" font-family=\"Times,serif\" font-size=\"14.00\" fill=\"#000000\">[&#39;d&#39;, &#39;i&#39;, &#39;q&#39;, &#39;c&#39;, &#39;x&#39;, &#39;a&#39;, &#39;v&#39;, &#39;f&#39;, &#39;k&#39;, &#39;t&#39;, &#39;o&#39;, &#39;z&#39;, &#39;p&#39;, &#39;j&#39;, &#39;y&#39;, &#39;e&#39;, &#39;h&#39;, &#39;g&#39;, &#39;w&#39;, &#39;r&#39;, &#39;m&#39;, &#39;u&#39;, &#39;l&#39;, &#39;b&#39;, &#39;s&#39;, &#39;n&#39;]</text>\n</g>\n<!-- [32, 34, 36, 38, 40, 42, 44, 25, 28, 30]&#45;&gt;[32, 34, 36, 38, 40, 41, 44, 28, 29, 30] -->\n<g id=\"edge21\" class=\"edge\">\n<title>[32, 34, 36, 38, 40, 42, 44, 25, 28, 30]&#45;&gt;[32, 34, 36, 38, 40, 41, 44, 28, 29, 30]</title>\n<path fill=\"none\" stroke=\"#000000\" d=\"M4988.5543,-1898.2932C4991.4398,-1882.7217 4993.8964,-1867.0888 4995.6476,-1851.9619 4996.4143,-1845.3395 4995.7816,-1843.6273 4995.6476,-1836.9619 4991.8823,-1649.6908 5054.5791,-1150.4857 4949.6476,-995.3276 4717.9301,-652.6957 4504.5344,-718.8268 4110.6476,-592.5617 3660.1685,-448.1553 3100.0615,-400.6795 2822.0196,-385.4194\"/>\n<polygon fill=\"#000000\" stroke=\"#000000\" points=\"2822.0162,-381.9141 2811.8416,-384.8683 2821.6377,-388.9039 2822.0162,-381.9141\"/>\n<text text-anchor=\"middle\" x=\"5109.1476\" y=\"-1217.0105\" font-family=\"Times,serif\" font-size=\"14.00\" fill=\"#000000\">[&#39;2&#39;, &#39;1&#39;, &#39;6&#39;, &#39;5&#39;, &#39;8&#39;, &#39;9&#39;, &#39;7&#39;, &#39;4&#39;, &#39;0&#39;, &#39;3&#39;]</text>\n</g>\n<!-- [32, 34, 36, 38, 40, 42, 44, 25, 28, 30]&#45;&gt;[45] -->\n<g id=\"edge22\" class=\"edge\">\n<title>[32, 34, 36, 38, 40, 42, 44, 25, 28, 30]&#45;&gt;[45]</title>\n<path fill=\"none\" stroke=\"#000000\" d=\"M5073.1125,-1951.5736C5150.3398,-1874.7574 5234.6476,-1763.0656 5234.6476,-1641.5277 5234.6476,-1641.5277 5234.6476,-1641.5277 5234.6476,-378.4262 5234.6476,-228.6028 5084.055,-255.2103 4939.6476,-215.2907 4692.9509,-147.0944 2790.5089,-131.5226 2470.3222,-129.3756\"/>\n<polygon fill=\"#000000\" stroke=\"#000000\" points=\"2470.0522,-125.8739 2460.0292,-129.3076 2470.0059,-132.8737 2470.0522,-125.8739\"/>\n<text text-anchor=\"middle\" x=\"5244.6476\" y=\"-999.1276\" font-family=\"Times,serif\" font-size=\"14.00\" fill=\"#000000\">[&#39;&quot;&#39;]</text>\n</g>\n<!-- [32, 34, 36, 38, 40, 42, 44, 25, 28, 30]&#45;&gt;[32, 33, 34, 35, 36, 38, 40, 44, 28, 29, 30, 31] -->\n<g id=\"edge23\" class=\"edge\">\n<title>[32, 34, 36, 38, 40, 42, 44, 25, 28, 30]&#45;&gt;[32, 33, 34, 35, 36, 38, 40, 44, 28, 29, 30, 31]</title>\n<path fill=\"none\" stroke=\"#000000\" d=\"M4976.6051,-1895.8065C4991.8227,-1773.6504 4998.1898,-1603.4395 4947.6476,-1464.0934 4861.6023,-1226.8641 4810.5729,-1138.7201 4583.6476,-1028.3276 4542.0632,-1008.098 2963.3386,-992.4802 2919.6476,-977.3276 2881.6221,-964.1398 2844.508,-943.2557 2810.7758,-920.0187\"/>\n<polygon fill=\"#000000\" stroke=\"#000000\" points=\"2812.4727,-916.9342 2802.2742,-914.0636 2808.4567,-922.6675 2812.4727,-916.9342\"/>\n<text text-anchor=\"middle\" x=\"4948.6476\" y=\"-1434.8934\" font-family=\"Times,serif\" font-size=\"14.00\" fill=\"#000000\">[&#39; &#39;]</text>\n</g>\n<!-- [32, 34, 3, 36, 38, 40, 42, 11, 44, 19, 28, 30]&#45;&gt;[32, 34, 36, 38, 39, 40, 44, 28, 29, 30, 31] -->\n<g id=\"edge24\" class=\"edge\">\n<title>[32, 34, 3, 36, 38, 40, 42, 11, 44, 19, 28, 30]&#45;&gt;[32, 34, 36, 38, 39, 40, 44, 28, 29, 30, 31]</title>\n<path fill=\"none\" stroke=\"#000000\" d=\"M1420.7595,-1874.5107C1429.9328,-1860.1748 1441.0873,-1847.2817 1454.6476,-1836.9619 1504.7938,-1798.7995 1678.4753,-1840.6333 1737.6476,-1818.9619 1771.9123,-1806.4128 1805.4579,-1787.2873 1836.0742,-1766.1679\"/>\n<polygon fill=\"#000000\" stroke=\"#000000\" points=\"1838.4561,-1768.7722 1844.6301,-1760.1621 1834.4344,-1763.0428 1838.4561,-1768.7722\"/>\n<text text-anchor=\"middle\" x=\"1737.6476\" y=\"-1840.7619\" font-family=\"Times,serif\" font-size=\"14.00\" fill=\"#000000\">[&#39;U&#39;, &#39;A&#39;, &#39;R&#39;, &#39;K&#39;, &#39;P&#39;, &#39;G&#39;, &#39;X&#39;, &#39;S&#39;, &#39;Q&#39;, &#39;H&#39;, &#39;D&#39;, &#39;O&#39;, &#39;W&#39;, &#39;M&#39;, &#39;J&#39;, &#39;F&#39;, &#39;I&#39;, &#39;T&#39;, &#39;Y&#39;, &#39;E&#39;, &#39;V&#39;, &#39;B&#39;, &#39;N&#39;, &#39;C&#39;, &#39;Z&#39;, &#39;L&#39;]</text>\n</g>\n<!-- [32, 34, 3, 36, 38, 40, 42, 11, 44, 19, 28, 30]&#45;&gt;[32, 33, 34, 36, 37, 38, 40, 44, 28, 29, 30, 31] -->\n<g id=\"edge25\" class=\"edge\">\n<title>[32, 34, 3, 36, 38, 40, 42, 11, 44, 19, 28, 30]&#45;&gt;[32, 33, 34, 36, 37, 38, 40, 44, 28, 29, 30, 31]</title>\n<path fill=\"none\" stroke=\"#000000\" d=\"M1544.6662,-1971.2917C1628.9001,-1932.5463 1734.2082,-1890.7767 1833.6476,-1869.9619 1933.0949,-1849.1455 2679.9748,-1895.6289 2746.6476,-1818.9619 2798.5458,-1759.2843 2716.8559,-1519.1347 2773.6476,-1464.0934 2805.834,-1432.8991 3144.6788,-1477.5107 3176.6476,-1446.0934 3183.9112,-1438.9552 3189.8448,-1430.945 3194.6435,-1422.3133\"/>\n<polygon fill=\"#000000\" stroke=\"#000000\" points=\"3197.9061,-1423.614 3199.2418,-1413.1037 3191.6433,-1420.487 3197.9061,-1423.614\"/>\n<text text-anchor=\"middle\" x=\"3017.1476\" y=\"-1637.8277\" font-family=\"Times,serif\" font-size=\"14.00\" fill=\"#000000\">[&#39;d&#39;, &#39;i&#39;, &#39;q&#39;, &#39;c&#39;, &#39;x&#39;, &#39;a&#39;, &#39;v&#39;, &#39;f&#39;, &#39;k&#39;, &#39;t&#39;, &#39;o&#39;, &#39;z&#39;, &#39;p&#39;, &#39;j&#39;, &#39;y&#39;, &#39;e&#39;, &#39;h&#39;, &#39;g&#39;, &#39;w&#39;, &#39;r&#39;, &#39;m&#39;, &#39;u&#39;, &#39;l&#39;, &#39;b&#39;, &#39;s&#39;, &#39;n&#39;]</text>\n</g>\n<!-- [32, 34, 3, 36, 38, 40, 42, 11, 44, 19, 28, 30]&#45;&gt;[32, 34, 36, 38, 40, 41, 44, 28, 29, 30] -->\n<g id=\"edge26\" class=\"edge\">\n<title>[32, 34, 3, 36, 38, 40, 42, 11, 44, 19, 28, 30]&#45;&gt;[32, 34, 36, 38, 40, 41, 44, 28, 29, 30]</title>\n<path fill=\"none\" stroke=\"#000000\" d=\"M1367.4872,-1869.9756C1358.0115,-1663.3797 1350.8651,-1320.8006 1385.6476,-1028.3276 1409.1374,-830.8109 1345.4069,-731.6019 1487.6476,-592.5617 1566.6517,-515.3353 2378.7237,-584.1889 2480.6476,-541.5617 2499.6649,-533.6082 2517.7392,-522.4059 2534.4982,-509.5536\"/>\n<polygon fill=\"#000000\" stroke=\"#000000\" points=\"2536.9545,-512.0728 2542.618,-503.1188 2532.6068,-506.5867 2536.9545,-512.0728\"/>\n<text text-anchor=\"middle\" x=\"1484.1476\" y=\"-1217.0105\" font-family=\"Times,serif\" font-size=\"14.00\" fill=\"#000000\">[&#39;2&#39;, &#39;1&#39;, &#39;6&#39;, &#39;5&#39;, &#39;8&#39;, &#39;9&#39;, &#39;7&#39;, &#39;4&#39;, &#39;0&#39;, &#39;3&#39;]</text>\n</g>\n<!-- [32, 34, 3, 36, 38, 40, 42, 11, 44, 19, 28, 30]&#45;&gt;[45] -->\n<g id=\"edge27\" class=\"edge\">\n<title>[32, 34, 3, 36, 38, 40, 42, 11, 44, 19, 28, 30]&#45;&gt;[45]</title>\n<path fill=\"none\" stroke=\"#000000\" d=\"M1329.1767,-1876.6248C1313.256,-1804.1698 1299.6476,-1719.4482 1299.6476,-1641.5277 1299.6476,-1641.5277 1299.6476,-1641.5277 1299.6476,-378.4262 1299.6476,-294.9674 1324.0749,-262.8633 1392.6476,-215.2907 1474.6527,-158.3993 2190.8392,-135.3501 2379.3431,-130.2375\"/>\n<polygon fill=\"#000000\" stroke=\"#000000\" points=\"2379.558,-133.7331 2389.4608,-129.9666 2379.3706,-126.7356 2379.558,-133.7331\"/>\n<text text-anchor=\"middle\" x=\"1309.6476\" y=\"-999.1276\" font-family=\"Times,serif\" font-size=\"14.00\" fill=\"#000000\">[&#39;&quot;&#39;]</text>\n</g>\n<!-- [32, 34, 3, 36, 38, 40, 42, 11, 44, 19, 28, 30]&#45;&gt;[32, 33, 34, 35, 36, 38, 40, 44, 28, 29, 30, 31] -->\n<g id=\"edge28\" class=\"edge\">\n<title>[32, 34, 3, 36, 38, 40, 42, 11, 44, 19, 28, 30]&#45;&gt;[32, 33, 34, 35, 36, 38, 40, 44, 28, 29, 30, 31]</title>\n<path fill=\"none\" stroke=\"#000000\" d=\"M1419.911,-1874.3842C1424.9086,-1861.4632 1430.469,-1848.8561 1436.6476,-1836.9619 1536.5203,-1644.7014 1591.6235,-1611.2327 1750.6476,-1464.0934 1769.116,-1447.0053 1774.0421,-1442.1423 1796.6476,-1431.0934 1822.0433,-1418.6809 1839.6297,-1434.8734 1857.6476,-1413.0934 1912.4148,-1346.8913 1833.9111,-1088.0834 1895.6476,-1028.3276 1917.4907,-1007.1853 2139.4225,-1018.6942 2168.6476,-1010.3276 2182.2201,-1006.442 2183.9922,-1001.5844 2196.6476,-995.3276 2286.9482,-950.6834 2388.7232,-904.0452 2473.809,-866.0579\"/>\n<polygon fill=\"#000000\" stroke=\"#000000\" points=\"2475.3345,-869.2099 2483.042,-861.9404 2472.4835,-862.8168 2475.3345,-869.2099\"/>\n<text text-anchor=\"middle\" x=\"1805.6476\" y=\"-1434.8934\" font-family=\"Times,serif\" font-size=\"14.00\" fill=\"#000000\">[&#39; &#39;]</text>\n</g>\n<!-- [32, 34, 36, 38, 39, 40, 44, 28, 29, 30, 31]&#45;&gt;[32, 34, 36, 38, 39, 40, 44, 28, 29, 30, 31] -->\n<g id=\"edge29\" class=\"edge\">\n<title>[32, 34, 36, 38, 39, 40, 44, 28, 29, 30, 31]&#45;&gt;[32, 34, 36, 38, 39, 40, 44, 28, 29, 30, 31]</title>\n<path fill=\"none\" stroke=\"#000000\" d=\"M2151.9318,-1669.3329C2164.4398,-1663.0266 2172.0819,-1653.7582 2172.0819,-1641.5277 2172.0819,-1632.5459 2167.9605,-1625.1616 2160.8171,-1619.3748\"/>\n<polygon fill=\"#000000\" stroke=\"#000000\" points=\"2162.2479,-1616.1369 2151.9318,-1613.7225 2158.4907,-1622.0431 2162.2479,-1616.1369\"/>\n<text text-anchor=\"middle\" x=\"2455.0819\" y=\"-1637.8277\" font-family=\"Times,serif\" font-size=\"14.00\" fill=\"#000000\">[&#39;U&#39;, &#39;A&#39;, &#39;R&#39;, &#39;K&#39;, &#39;P&#39;, &#39;G&#39;, &#39;X&#39;, &#39;S&#39;, &#39;Q&#39;, &#39;H&#39;, &#39;D&#39;, &#39;O&#39;, &#39;W&#39;, &#39;M&#39;, &#39;J&#39;, &#39;F&#39;, &#39;I&#39;, &#39;T&#39;, &#39;Y&#39;, &#39;E&#39;, &#39;V&#39;, &#39;B&#39;, &#39;N&#39;, &#39;C&#39;, &#39;Z&#39;, &#39;L&#39;]</text>\n</g>\n<!-- [32, 34, 36, 38, 39, 40, 44, 28, 29, 30, 31]&#45;&gt;[32, 33, 34, 36, 37, 38, 40, 44, 28, 29, 30, 31] -->\n<g id=\"edge30\" class=\"edge\">\n<title>[32, 34, 36, 38, 39, 40, 44, 28, 29, 30, 31]&#45;&gt;[32, 33, 34, 36, 37, 38, 40, 44, 28, 29, 30, 31]</title>\n<path fill=\"none\" stroke=\"#000000\" d=\"M2150.8093,-1607.5073C2293.4763,-1576.0658 2498.4981,-1522.5916 2666.6476,-1446.0934 2677.7561,-1441.0397 2678.8666,-1436.8125 2689.6476,-1431.0934 2789.3527,-1378.2018 2905.2893,-1328.7972 3000.5088,-1291.1726\"/>\n<polygon fill=\"#000000\" stroke=\"#000000\" points=\"3001.9294,-1294.3748 3009.9509,-1287.4534 2999.3639,-1287.8619 3001.9294,-1294.3748\"/>\n<text text-anchor=\"middle\" x=\"2933.1476\" y=\"-1434.8934\" font-family=\"Times,serif\" font-size=\"14.00\" fill=\"#000000\">[&#39;d&#39;, &#39;i&#39;, &#39;q&#39;, &#39;c&#39;, &#39;x&#39;, &#39;a&#39;, &#39;v&#39;, &#39;f&#39;, &#39;k&#39;, &#39;t&#39;, &#39;o&#39;, &#39;z&#39;, &#39;p&#39;, &#39;j&#39;, &#39;y&#39;, &#39;e&#39;, &#39;h&#39;, &#39;g&#39;, &#39;w&#39;, &#39;r&#39;, &#39;m&#39;, &#39;u&#39;, &#39;l&#39;, &#39;b&#39;, &#39;s&#39;, &#39;n&#39;]</text>\n</g>\n<!-- [32, 34, 36, 38, 39, 40, 44, 28, 29, 30, 31]&#45;&gt;[32, 34, 36, 38, 40, 41, 44, 28, 29, 30] -->\n<g id=\"edge31\" class=\"edge\">\n<title>[32, 34, 36, 38, 39, 40, 44, 28, 29, 30, 31]&#45;&gt;[32, 34, 36, 38, 40, 41, 44, 28, 29, 30]</title>\n<path fill=\"none\" stroke=\"#000000\" d=\"M1974.7341,-1463.7558C1974.7248,-1294.014 1980.1799,-1059.5213 2009.6476,-1028.3276 2034.5213,-1001.9969 2140.5756,-1028.9428 2171.6476,-1010.3276 2364.8891,-894.5567 2319.8498,-769.9886 2458.6476,-592.5617 2481.1107,-563.8469 2506.3004,-534.0065 2530.81,-506.0432\"/>\n<polygon fill=\"#000000\" stroke=\"#000000\" points=\"2533.725,-508.0285 2537.702,-498.2084 2528.4692,-503.4051 2533.725,-508.0285\"/>\n<text text-anchor=\"middle\" x=\"2291.1476\" y=\"-999.1276\" font-family=\"Times,serif\" font-size=\"14.00\" fill=\"#000000\">[&#39;2&#39;, &#39;1&#39;, &#39;6&#39;, &#39;5&#39;, &#39;8&#39;, &#39;9&#39;, &#39;7&#39;, &#39;4&#39;, &#39;0&#39;, &#39;3&#39;]</text>\n</g>\n<!-- [32, 34, 36, 38, 39, 40, 44, 28, 29, 30, 31]&#45;&gt;[45] -->\n<g id=\"edge32\" class=\"edge\">\n<title>[32, 34, 36, 38, 39, 40, 44, 28, 29, 30, 31]&#45;&gt;[45]</title>\n<path fill=\"none\" stroke=\"#000000\" d=\"M1813.6235,-1570.6008C1747.3636,-1533.3735 1676.6521,-1481.1435 1634.6476,-1413.0934 1544.1294,-1266.4477 1663.0939,-1182.7766 1586.6476,-1028.3276 1572.2878,-999.3156 1547.1806,-1007.1743 1534.6476,-977.3276 1468.4399,-819.6572 1488.634,-757.2619 1534.6476,-592.5617 1636.9337,-226.4412 2211.476,-147.7347 2378.8762,-132.4757\"/>\n<polygon fill=\"#000000\" stroke=\"#000000\" points=\"2379.649,-135.9214 2389.3045,-131.56 2379.0366,-128.9483 2379.649,-135.9214\"/>\n<text text-anchor=\"middle\" x=\"1544.6476\" y=\"-781.2446\" font-family=\"Times,serif\" font-size=\"14.00\" fill=\"#000000\">[&#39;&quot;&#39;]</text>\n</g>\n<!-- [32, 34, 36, 38, 39, 40, 44, 28, 29, 30, 31]&#45;&gt;[32, 33, 34, 35, 36, 38, 40, 44, 28, 29, 30, 31] -->\n<g id=\"edge33\" class=\"edge\">\n<title>[32, 34, 36, 38, 39, 40, 44, 28, 29, 30, 31]&#45;&gt;[32, 33, 34, 35, 36, 38, 40, 44, 28, 29, 30, 31]</title>\n<path fill=\"none\" stroke=\"#000000\" d=\"M2036.6704,-1473.9924C2048.8348,-1457.1905 2063.3531,-1442.248 2080.6476,-1431.0934 2130.2578,-1399.096 2569.0292,-1453.9428 2611.6476,-1413.0934 2642.2272,-1383.7832 2653.3743,-1159.9268 2657.4095,-987.7099\"/>\n<polygon fill=\"#000000\" stroke=\"#000000\" points=\"2660.9138,-987.5586 2657.6423,-977.4815 2653.9156,-987.3993 2660.9138,-987.5586\"/>\n<text text-anchor=\"middle\" x=\"2664.6476\" y=\"-1217.0105\" font-family=\"Times,serif\" font-size=\"14.00\" fill=\"#000000\">[&#39; &#39;]</text>\n</g>\n<!-- [32, 33, 34, 36, 37, 38, 40, 44, 28, 29, 30, 31]&#45;&gt;[32, 34, 36, 38, 39, 40, 44, 28, 29, 30, 31] -->\n<g id=\"edge34\" class=\"edge\">\n<title>[32, 33, 34, 36, 37, 38, 40, 44, 28, 29, 30, 31]&#45;&gt;[32, 34, 36, 38, 39, 40, 44, 28, 29, 30, 31]</title>\n<path fill=\"none\" stroke=\"#000000\" d=\"M3015.4855,-1300.9043C2915.2937,-1342.6667 2785.9631,-1389.7752 2665.6476,-1413.0934 2603.5493,-1425.1287 2150.8332,-1398.4595 2096.6476,-1431.0934 2085.5255,-1437.7919 2072.788,-1453.5001 2059.8612,-1473.4825\"/>\n<polygon fill=\"#000000\" stroke=\"#000000\" points=\"2056.8812,-1471.6465 2054.5111,-1481.9729 2062.8035,-1475.3784 2056.8812,-1471.6465\"/>\n<text text-anchor=\"middle\" x=\"2379.6476\" y=\"-1434.8934\" font-family=\"Times,serif\" font-size=\"14.00\" fill=\"#000000\">[&#39;U&#39;, &#39;A&#39;, &#39;R&#39;, &#39;K&#39;, &#39;P&#39;, &#39;G&#39;, &#39;X&#39;, &#39;S&#39;, &#39;Q&#39;, &#39;H&#39;, &#39;D&#39;, &#39;O&#39;, &#39;W&#39;, &#39;M&#39;, &#39;J&#39;, &#39;F&#39;, &#39;I&#39;, &#39;T&#39;, &#39;Y&#39;, &#39;E&#39;, &#39;V&#39;, &#39;B&#39;, &#39;N&#39;, &#39;C&#39;, &#39;Z&#39;, &#39;L&#39;]</text>\n</g>\n<!-- [32, 33, 34, 36, 37, 38, 40, 44, 28, 29, 30, 31]&#45;&gt;[32, 33, 34, 36, 37, 38, 40, 44, 28, 29, 30, 31] -->\n<g id=\"edge35\" class=\"edge\">\n<title>[32, 33, 34, 36, 37, 38, 40, 44, 28, 29, 30, 31]&#45;&gt;[32, 33, 34, 36, 37, 38, 40, 44, 28, 29, 30, 31]</title>\n<path fill=\"none\" stroke=\"#000000\" d=\"M3380.9423,-1249.6116C3393.454,-1242.895 3401.0306,-1233.2613 3401.0306,-1220.7105 3401.0306,-1211.2974 3396.7687,-1203.5252 3389.3594,-1197.3938\"/>\n<polygon fill=\"#000000\" stroke=\"#000000\" points=\"3391.2101,-1194.4214 3380.9423,-1191.8094 3387.3401,-1200.2544 3391.2101,-1194.4214\"/>\n<text text-anchor=\"middle\" x=\"3644.5306\" y=\"-1217.0105\" font-family=\"Times,serif\" font-size=\"14.00\" fill=\"#000000\">[&#39;d&#39;, &#39;i&#39;, &#39;q&#39;, &#39;c&#39;, &#39;x&#39;, &#39;a&#39;, &#39;v&#39;, &#39;f&#39;, &#39;k&#39;, &#39;t&#39;, &#39;o&#39;, &#39;z&#39;, &#39;p&#39;, &#39;j&#39;, &#39;y&#39;, &#39;e&#39;, &#39;h&#39;, &#39;g&#39;, &#39;w&#39;, &#39;r&#39;, &#39;m&#39;, &#39;u&#39;, &#39;l&#39;, &#39;b&#39;, &#39;s&#39;, &#39;n&#39;]</text>\n</g>\n<!-- [32, 33, 34, 36, 37, 38, 40, 44, 28, 29, 30, 31]&#45;&gt;[32, 34, 36, 38, 40, 41, 44, 28, 29, 30] -->\n<g id=\"edge36\" class=\"edge\">\n<title>[32, 33, 34, 36, 37, 38, 40, 44, 28, 29, 30, 31]&#45;&gt;[32, 34, 36, 38, 40, 41, 44, 28, 29, 30]</title>\n<path fill=\"none\" stroke=\"#000000\" d=\"M3213.8734,-1029.6389C3212.0729,-1017.8989 3209.3973,-1006.3752 3205.6476,-995.3276 3130.904,-775.1098 2929.513,-587.67 2790.5594,-479.0169\"/>\n<polygon fill=\"#000000\" stroke=\"#000000\" points=\"2792.3737,-475.9941 2782.3312,-472.6179 2788.0764,-481.5198 2792.3737,-475.9941\"/>\n<text text-anchor=\"middle\" x=\"3295.1476\" y=\"-781.2446\" font-family=\"Times,serif\" font-size=\"14.00\" fill=\"#000000\">[&#39;2&#39;, &#39;1&#39;, &#39;6&#39;, &#39;5&#39;, &#39;8&#39;, &#39;9&#39;, &#39;7&#39;, &#39;4&#39;, &#39;0&#39;, &#39;3&#39;]</text>\n</g>\n<!-- [32, 33, 34, 36, 37, 38, 40, 44, 28, 29, 30, 31]&#45;&gt;[45] -->\n<g id=\"edge37\" class=\"edge\">\n<title>[32, 33, 34, 36, 37, 38, 40, 44, 28, 29, 30, 31]&#45;&gt;[45]</title>\n<path fill=\"none\" stroke=\"#000000\" d=\"M3012.4689,-1147.371C2914.6791,-1108.7806 2790.6556,-1062.5177 2677.6476,-1028.3276 2581.9919,-999.3873 2524.1301,-1052.8233 2458.6476,-977.3276 2252.7961,-739.9981 2366.1866,-309.7815 2409.8953,-172.4563\"/>\n<polygon fill=\"#000000\" stroke=\"#000000\" points=\"2413.3019,-173.2961 2413.0397,-162.7045 2406.6396,-171.1479 2413.3019,-173.2961\"/>\n<text text-anchor=\"middle\" x=\"2348.6476\" y=\"-563.3617\" font-family=\"Times,serif\" font-size=\"14.00\" fill=\"#000000\">[&#39;&quot;&#39;]</text>\n</g>\n<!-- [32, 33, 34, 36, 37, 38, 40, 44, 28, 29, 30, 31]&#45;&gt;[32, 33, 34, 35, 36, 38, 40, 44, 28, 29, 30, 31] -->\n<g id=\"edge38\" class=\"edge\">\n<title>[32, 33, 34, 36, 37, 38, 40, 44, 28, 29, 30, 31]&#45;&gt;[32, 33, 34, 35, 36, 38, 40, 44, 28, 29, 30, 31]</title>\n<path fill=\"none\" stroke=\"#000000\" d=\"M3000.1797,-1192.9858C2887.6399,-1166.0765 2752.8579,-1113.3391 2677.6476,-1010.3276 2672.266,-1002.9567 2667.7135,-995.0656 2663.8837,-986.8096\"/>\n<polygon fill=\"#000000\" stroke=\"#000000\" points=\"2666.9929,-985.1768 2659.8613,-977.3415 2660.5502,-987.914 2666.9929,-985.1768\"/>\n<text text-anchor=\"middle\" x=\"2686.6476\" y=\"-999.1276\" font-family=\"Times,serif\" font-size=\"14.00\" fill=\"#000000\">[&#39; &#39;]</text>\n</g>\n<!-- [32, 34, 36, 38, 40, 41, 44, 28, 29, 30]&#45;&gt;[32, 34, 36, 38, 39, 40, 44, 28, 29, 30, 31] -->\n<g id=\"edge39\" class=\"edge\">\n<title>[32, 34, 36, 38, 40, 41, 44, 28, 29, 30]&#45;&gt;[32, 34, 36, 38, 39, 40, 44, 28, 29, 30, 31]</title>\n<path fill=\"none\" stroke=\"#000000\" d=\"M2540.2712,-500.9365C2521.7327,-516.5538 2501.6329,-530.8084 2480.6476,-541.5617 2440.0688,-562.3553 2424.4296,-550.9833 2379.6476,-559.5617 2307.9088,-573.304 2286.1991,-564.7748 2218.6476,-592.5617 1915.7919,-717.14 1757.5653,-707.3501 1601.6476,-995.3276 1598.4735,-1001.1901 1597.1019,-1005.451 1601.6476,-1010.3276 1640.5335,-1052.0436 1814.9482,-990.5241 1857.6476,-1028.3276 1920.2152,-1083.7211 1950.5778,-1294.6573 1964.8353,-1453.7818\"/>\n<polygon fill=\"#000000\" stroke=\"#000000\" points=\"1961.3877,-1454.5314 1965.7513,-1464.1859 1968.3607,-1453.9175 1961.3877,-1454.5314\"/>\n<text text-anchor=\"middle\" x=\"1884.6476\" y=\"-999.1276\" font-family=\"Times,serif\" font-size=\"14.00\" fill=\"#000000\">[&#39;U&#39;, &#39;A&#39;, &#39;R&#39;, &#39;K&#39;, &#39;P&#39;, &#39;G&#39;, &#39;X&#39;, &#39;S&#39;, &#39;Q&#39;, &#39;H&#39;, &#39;D&#39;, &#39;O&#39;, &#39;W&#39;, &#39;M&#39;, &#39;J&#39;, &#39;F&#39;, &#39;I&#39;, &#39;T&#39;, &#39;Y&#39;, &#39;E&#39;, &#39;V&#39;, &#39;B&#39;, &#39;N&#39;, &#39;C&#39;, &#39;Z&#39;, &#39;L&#39;]</text>\n</g>\n<!-- [32, 34, 36, 38, 40, 41, 44, 28, 29, 30]&#45;&gt;[32, 33, 34, 36, 37, 38, 40, 44, 28, 29, 30, 31] -->\n<g id=\"edge40\" class=\"edge\">\n<title>[32, 34, 36, 38, 40, 41, 44, 28, 29, 30]&#45;&gt;[32, 33, 34, 36, 37, 38, 40, 44, 28, 29, 30, 31]</title>\n<path fill=\"none\" stroke=\"#000000\" d=\"M2810.2919,-401.6944C3008.5408,-433.9234 3327.054,-498.9573 3397.6476,-592.5617 3500.6159,-729.0936 3456.6702,-816.8291 3397.6476,-977.3276 3384.0575,-1014.2828 3362.0886,-1049.4567 3337.4325,-1080.9956\"/>\n<polygon fill=\"#000000\" stroke=\"#000000\" points=\"3334.6018,-1078.9318 3331.1096,-1088.9346 3340.0774,-1083.2928 3334.6018,-1078.9318\"/>\n<text text-anchor=\"middle\" x=\"3702.1476\" y=\"-781.2446\" font-family=\"Times,serif\" font-size=\"14.00\" fill=\"#000000\">[&#39;d&#39;, &#39;i&#39;, &#39;q&#39;, &#39;c&#39;, &#39;x&#39;, &#39;a&#39;, &#39;v&#39;, &#39;f&#39;, &#39;k&#39;, &#39;t&#39;, &#39;o&#39;, &#39;z&#39;, &#39;p&#39;, &#39;j&#39;, &#39;y&#39;, &#39;e&#39;, &#39;h&#39;, &#39;g&#39;, &#39;w&#39;, &#39;r&#39;, &#39;m&#39;, &#39;u&#39;, &#39;l&#39;, &#39;b&#39;, &#39;s&#39;, &#39;n&#39;]</text>\n</g>\n<!-- [32, 34, 36, 38, 40, 41, 44, 28, 29, 30]&#45;&gt;[32, 34, 36, 38, 40, 41, 44, 28, 29, 30] -->\n<g id=\"edge41\" class=\"edge\">\n<title>[32, 34, 36, 38, 40, 41, 44, 28, 29, 30]&#45;&gt;[32, 34, 36, 38, 40, 41, 44, 28, 29, 30]</title>\n<path fill=\"none\" stroke=\"#000000\" d=\"M2809.6832,-405.0008C2822.1175,-399.1262 2829.7832,-390.268 2829.7832,-378.4262 2829.7832,-369.7299 2825.649,-362.6426 2818.5281,-357.1644\"/>\n<polygon fill=\"#000000\" stroke=\"#000000\" points=\"2820.0578,-354.0004 2809.6832,-351.8515 2816.4533,-360.0011 2820.0578,-354.0004\"/>\n<text text-anchor=\"middle\" x=\"2928.2832\" y=\"-374.7262\" font-family=\"Times,serif\" font-size=\"14.00\" fill=\"#000000\">[&#39;2&#39;, &#39;1&#39;, &#39;6&#39;, &#39;5&#39;, &#39;8&#39;, &#39;9&#39;, &#39;7&#39;, &#39;4&#39;, &#39;0&#39;, &#39;3&#39;]</text>\n</g>\n<!-- [32, 34, 36, 38, 40, 41, 44, 28, 29, 30]&#45;&gt;[45] -->\n<g id=\"edge42\" class=\"edge\">\n<title>[32, 34, 36, 38, 40, 41, 44, 28, 29, 30]&#45;&gt;[45]</title>\n<path fill=\"none\" stroke=\"#000000\" d=\"M2539.6005,-257.0466C2508.678,-222.627 2477.4552,-187.8731 2455.3694,-163.2895\"/>\n<polygon fill=\"#000000\" stroke=\"#000000\" points=\"2457.8184,-160.7784 2448.5317,-155.6786 2452.6111,-165.4565 2457.8184,-160.7784\"/>\n<text text-anchor=\"middle\" x=\"2494.6476\" y=\"-186.0907\" font-family=\"Times,serif\" font-size=\"14.00\" fill=\"#000000\">[&#39;&quot;&#39;]</text>\n</g>\n<!-- [32, 34, 36, 38, 40, 41, 44, 28, 29, 30]&#45;&gt;[32, 33, 34, 35, 36, 38, 40, 44, 28, 29, 30, 31] -->\n<g id=\"edge43\" class=\"edge\">\n<title>[32, 34, 36, 38, 40, 41, 44, 28, 29, 30]&#45;&gt;[32, 33, 34, 35, 36, 38, 40, 44, 28, 29, 30, 31]</title>\n<path fill=\"none\" stroke=\"#000000\" d=\"M2635.4617,-541.3193C2635.1526,-547.4762 2634.8787,-553.5734 2634.6476,-559.5617 2634.3374,-567.6025 2634.236,-575.7961 2634.3122,-584.0668\"/>\n<polygon fill=\"#000000\" stroke=\"#000000\" points=\"2630.8148,-584.2518 2634.491,-594.1884 2637.8137,-584.1281 2630.8148,-584.2518\"/>\n<text text-anchor=\"middle\" x=\"2643.6476\" y=\"-563.3617\" font-family=\"Times,serif\" font-size=\"14.00\" fill=\"#000000\">[&#39; &#39;]</text>\n</g>\n<!-- [45]&#45;&gt;[] -->\n<g id=\"edge44\" class=\"edge\">\n<title>[45]&#45;&gt;[]</title>\n<path fill=\"none\" stroke=\"#000000\" d=\"M2424.6476,-93.8463C2424.6476,-80.7208 2424.6476,-65.9154 2424.6476,-53.1291\"/>\n<polygon fill=\"#000000\" stroke=\"#000000\" points=\"2428.1477,-52.9448 2424.6476,-42.9448 2421.1477,-52.9448 2428.1477,-52.9448\"/>\n<text text-anchor=\"middle\" x=\"3064.1476\" y=\"-64.6962\" font-family=\"Times,serif\" font-size=\"14.00\" fill=\"#000000\">[&#39;U&#39;, &#39;A&#39;, &#39;d&#39;, &#39;i&#39;, &#39;q&#39;, &#39;2&#39;, &#39;R&#39;, &#39;K&#39;, &#39;P&#39;, &#39;1&#39;, &#39;c&#39;, &#39;x&#39;, &#39;a&#39;, &#39;G&#39;, &#39;X&#39;, &#39;6&#39;, &#39;S&#39;, &#39;v&#39;, &#39;Q&#39;, &#39;H&#39;, &#39;f&#39;, &#39;k&#39;, &#39;t&#39;, &#39;D&#39;, &#39;O&#39;, &#39;o&#39;, &#39;z&#39;, &#39;W&#39;, &#39;5&#39;, &#39;8&#39;, &#39;M&#39;, &#39;p&#39;, &#39;J&#39;, &#39;j&#39;, &#39;y&#39;, &#39;F&#39;, &#39;e&#39;, &#39;I&#39;, &#39;T&#39;, &#39;Y&#39;, &#39;9&#39;, &#39;E&#39;, &#39;V&#39;, &#39;h&#39;, &#39;&quot;&#39;, &#39;g&#39;, &#39;B&#39;, &#39;7&#39;, &#39;w&#39;, &#39;r&#39;, &#39;N&#39;, &#39;C&#39;, &#39;m&#39;, &#39;u&#39;, &#39;4&#39;, &#39;0&#39;, &#39;3&#39;, &#39;l&#39;, &#39;b&#39;, &#39; &#39;, &#39;s&#39;, &#39;n&#39;, &#39;Z&#39;, &#39;L&#39;]</text>\n</g>\n<!-- [32, 33, 34, 35, 36, 38, 40, 44, 28, 29, 30, 31]&#45;&gt;[32, 34, 36, 38, 39, 40, 44, 28, 29, 30, 31] -->\n<g id=\"edge45\" class=\"edge\">\n<title>[32, 33, 34, 35, 36, 38, 40, 44, 28, 29, 30, 31]&#45;&gt;[32, 34, 36, 38, 39, 40, 44, 28, 29, 30, 31]</title>\n<path fill=\"none\" stroke=\"#000000\" d=\"M2541.9127,-937.3267C2511.5978,-966.5674 2476.6724,-993.3348 2438.6476,-1010.3276 2398.3336,-1028.3434 2073.3533,-997.5942 2041.6476,-1028.3276 2008.2202,-1060.73 2015.3069,-1399.8843 2009.6476,-1446.0934 2009.2217,-1449.5716 2008.7774,-1453.0823 2008.3169,-1456.6175\"/>\n<polygon fill=\"#000000\" stroke=\"#000000\" points=\"2004.8332,-1456.2627 2006.978,-1466.6382 2011.7716,-1457.1898 2004.8332,-1456.2627\"/>\n<text text-anchor=\"middle\" x=\"2324.6476\" y=\"-1217.0105\" font-family=\"Times,serif\" font-size=\"14.00\" fill=\"#000000\">[&#39;U&#39;, &#39;A&#39;, &#39;R&#39;, &#39;K&#39;, &#39;P&#39;, &#39;G&#39;, &#39;X&#39;, &#39;S&#39;, &#39;Q&#39;, &#39;H&#39;, &#39;D&#39;, &#39;O&#39;, &#39;W&#39;, &#39;M&#39;, &#39;J&#39;, &#39;F&#39;, &#39;I&#39;, &#39;T&#39;, &#39;Y&#39;, &#39;E&#39;, &#39;V&#39;, &#39;B&#39;, &#39;N&#39;, &#39;C&#39;, &#39;Z&#39;, &#39;L&#39;]</text>\n</g>\n<!-- [32, 33, 34, 35, 36, 38, 40, 44, 28, 29, 30, 31]&#45;&gt;[32, 33, 34, 36, 37, 38, 40, 44, 28, 29, 30, 31] -->\n<g id=\"edge46\" class=\"edge\">\n<title>[32, 33, 34, 35, 36, 38, 40, 44, 28, 29, 30, 31]&#45;&gt;[32, 33, 34, 36, 37, 38, 40, 44, 28, 29, 30, 31]</title>\n<path fill=\"none\" stroke=\"#000000\" d=\"M2694.8788,-974.1623C2701.507,-987.135 2709.3561,-999.3802 2718.6476,-1010.3276 2788.6662,-1092.8238 2897.4742,-1144.2843 2992.9811,-1175.6417\"/>\n<polygon fill=\"#000000\" stroke=\"#000000\" points=\"2992.1803,-1179.061 3002.772,-1178.8018 2994.3305,-1172.3994 2992.1803,-1179.061\"/>\n<text text-anchor=\"middle\" x=\"2962.1476\" y=\"-999.1276\" font-family=\"Times,serif\" font-size=\"14.00\" fill=\"#000000\">[&#39;d&#39;, &#39;i&#39;, &#39;q&#39;, &#39;c&#39;, &#39;x&#39;, &#39;a&#39;, &#39;v&#39;, &#39;f&#39;, &#39;k&#39;, &#39;t&#39;, &#39;o&#39;, &#39;z&#39;, &#39;p&#39;, &#39;j&#39;, &#39;y&#39;, &#39;e&#39;, &#39;h&#39;, &#39;g&#39;, &#39;w&#39;, &#39;r&#39;, &#39;m&#39;, &#39;u&#39;, &#39;l&#39;, &#39;b&#39;, &#39;s&#39;, &#39;n&#39;]</text>\n</g>\n<!-- [32, 33, 34, 35, 36, 38, 40, 44, 28, 29, 30, 31]&#45;&gt;[32, 34, 36, 38, 40, 41, 44, 28, 29, 30] -->\n<g id=\"edge47\" class=\"edge\">\n<title>[32, 33, 34, 35, 36, 38, 40, 44, 28, 29, 30, 31]&#45;&gt;[32, 34, 36, 38, 40, 41, 44, 28, 29, 30]</title>\n<path fill=\"none\" stroke=\"#000000\" d=\"M2654.4376,-592.3997C2654.0725,-578.9081 2653.7057,-565.3534 2653.3437,-551.9742\"/>\n<polygon fill=\"#000000\" stroke=\"#000000\" points=\"2656.8372,-551.6829 2653.0679,-541.7813 2649.8397,-551.8723 2656.8372,-551.6829\"/>\n<text text-anchor=\"middle\" x=\"2752.1476\" y=\"-563.3617\" font-family=\"Times,serif\" font-size=\"14.00\" fill=\"#000000\">[&#39;2&#39;, &#39;1&#39;, &#39;6&#39;, &#39;5&#39;, &#39;8&#39;, &#39;9&#39;, &#39;7&#39;, &#39;4&#39;, &#39;0&#39;, &#39;3&#39;]</text>\n</g>\n<!-- [32, 33, 34, 35, 36, 38, 40, 44, 28, 29, 30, 31]&#45;&gt;[45] -->\n<g id=\"edge48\" class=\"edge\">\n<title>[32, 33, 34, 35, 36, 38, 40, 44, 28, 29, 30, 31]&#45;&gt;[45]</title>\n<path fill=\"none\" stroke=\"#000000\" d=\"M2522.5459,-649.973C2496.3755,-616.9947 2472.2992,-580.0424 2456.6476,-541.5617 2430.0373,-476.1379 2425.427,-267.7988 2424.7194,-174.745\"/>\n<polygon fill=\"#000000\" stroke=\"#000000\" points=\"2428.218,-174.4921 2424.654,-164.5147 2421.2181,-174.5369 2428.218,-174.4921\"/>\n<text text-anchor=\"middle\" x=\"2466.6476\" y=\"-374.7262\" font-family=\"Times,serif\" font-size=\"14.00\" fill=\"#000000\">[&#39;&quot;&#39;]</text>\n</g>\n<!-- [32, 33, 34, 35, 36, 38, 40, 44, 28, 29, 30, 31]&#45;&gt;[32, 33, 34, 35, 36, 38, 40, 44, 28, 29, 30, 31] -->\n<g id=\"edge49\" class=\"edge\">\n<title>[32, 33, 34, 35, 36, 38, 40, 44, 28, 29, 30, 31]&#45;&gt;[32, 33, 34, 35, 36, 38, 40, 44, 28, 29, 30, 31]</title>\n<path fill=\"none\" stroke=\"#000000\" d=\"M2849.9423,-813.8458C2862.454,-807.1291 2870.0306,-797.4954 2870.0306,-784.9446 2870.0306,-775.5316 2865.7687,-767.7593 2858.3594,-761.6279\"/>\n<polygon fill=\"#000000\" stroke=\"#000000\" points=\"2860.2101,-758.6555 2849.9423,-756.0435 2856.3401,-764.4885 2860.2101,-758.6555\"/>\n<text text-anchor=\"middle\" x=\"2879.0306\" y=\"-781.2446\" font-family=\"Times,serif\" font-size=\"14.00\" fill=\"#000000\">[&#39; &#39;]</text>\n</g>\n</g>\n</svg>\n"
          },
          "metadata": {},
          "execution_count": 250
        }
      ]
    },
    {
      "cell_type": "code",
      "source": [
        "info = dfa_born(regex_to_NFA('([0-9]+)|([0-9]+.[0-9]+)')[0])\n",
        "draw_DFA(info, \"regex Number_DFA\")"
      ],
      "metadata": {
        "id": "mKFNqtlY-iW7",
        "colab": {
          "base_uri": "https://localhost:8080/",
          "height": 1000
        },
        "outputId": "3b91e563-6451-45c4-fa12-03725802dc41"
      },
      "execution_count": 251,
      "outputs": [
        {
          "output_type": "execute_result",
          "data": {
            "text/plain": [
              "<graphviz.dot.Digraph at 0x7fe57957b910>"
            ],
            "image/svg+xml": "<?xml version=\"1.0\" encoding=\"UTF-8\" standalone=\"no\"?>\n<!DOCTYPE svg PUBLIC \"-//W3C//DTD SVG 1.1//EN\"\n \"http://www.w3.org/Graphics/SVG/1.1/DTD/svg11.dtd\">\n<!-- Generated by graphviz version 2.40.1 (20161225.0304)\n -->\n<!-- Title: %3 Pages: 1 -->\n<svg width=\"631pt\" height=\"1283pt\"\n viewBox=\"0.00 0.00 630.64 1283.22\" xmlns=\"http://www.w3.org/2000/svg\" xmlns:xlink=\"http://www.w3.org/1999/xlink\">\n<g id=\"graph0\" class=\"graph\" transform=\"scale(1 1) rotate(0) translate(4 1279.2168)\">\n<title>%3</title>\n<polygon fill=\"#ffffff\" stroke=\"transparent\" points=\"-4,4 -4,-1279.2168 626.6407,-1279.2168 626.6407,4 -4,4\"/>\n<!-- [32, 4, 14] -->\n<g id=\"node1\" class=\"node\">\n<title>[32, 4, 14]</title>\n<ellipse fill=\"none\" stroke=\"#000000\" cx=\"498.6407\" cy=\"-1219.3218\" rx=\"55.7903\" ry=\"55.7903\"/>\n<text text-anchor=\"middle\" x=\"498.6407\" y=\"-1215.6218\" font-family=\"Times,serif\" font-size=\"14.00\" fill=\"#000000\">q[32, 4, 14]</text>\n</g>\n<!-- [33, 6, 8, 9, 16, 18, 20] -->\n<g id=\"node2\" class=\"node\">\n<title>[33, 6, 8, 9, 16, 18, 20]</title>\n<ellipse fill=\"none\" stroke=\"#000000\" cx=\"392.6407\" cy=\"-1003.786\" rx=\"104.7764\" ry=\"104.7764\"/>\n<ellipse fill=\"none\" stroke=\"#000000\" cx=\"392.6407\" cy=\"-1003.786\" rx=\"108.7816\" ry=\"108.7816\"/>\n<text text-anchor=\"middle\" x=\"392.6407\" y=\"-1000.086\" font-family=\"Times,serif\" font-size=\"14.00\" fill=\"#000000\">q[33, 6, 8, 9, 16, 18, 20]</text>\n</g>\n<!-- [32, 4, 14]&#45;&gt;[33, 6, 8, 9, 16, 18, 20] -->\n<g id=\"edge1\" class=\"edge\">\n<title>[32, 4, 14]&#45;&gt;[33, 6, 8, 9, 16, 18, 20]</title>\n<path fill=\"none\" stroke=\"#000000\" d=\"M447.3399,-1196.4775C426.7656,-1184.4534 405.2204,-1167.5447 393.6407,-1145.4268 389.789,-1138.0698 386.9361,-1130.1891 384.8854,-1122.0508\"/>\n<polygon fill=\"#000000\" stroke=\"#000000\" points=\"388.2571,-1121.0767 382.7688,-1112.0142 381.4077,-1122.5212 388.2571,-1121.0767\"/>\n<text text-anchor=\"middle\" x=\"492.1407\" y=\"-1134.2268\" font-family=\"Times,serif\" font-size=\"14.00\" fill=\"#000000\">[&#39;6&#39;, &#39;8&#39;, &#39;7&#39;, &#39;2&#39;, &#39;4&#39;, &#39;0&#39;, &#39;3&#39;, &#39;1&#39;, &#39;9&#39;, &#39;5&#39;]</text>\n</g>\n<!-- [] -->\n<g id=\"node3\" class=\"node\">\n<title>[]</title>\n<ellipse fill=\"none\" stroke=\"#000000\" cx=\"224.6407\" cy=\"-21.4481\" rx=\"21.3963\" ry=\"21.3963\"/>\n<text text-anchor=\"middle\" x=\"224.6407\" y=\"-17.7481\" font-family=\"Times,serif\" font-size=\"14.00\" fill=\"#000000\">q[]</text>\n</g>\n<!-- [32, 4, 14]&#45;&gt;[] -->\n<g id=\"edge2\" class=\"edge\">\n<title>[32, 4, 14]&#45;&gt;[]</title>\n<path fill=\"none\" stroke=\"#000000\" d=\"M547.1787,-1191.5707C563.7372,-1179.5681 580.5927,-1163.9819 590.6407,-1145.4268 620.7634,-1089.801 604.6407,-1067.0442 604.6407,-1003.786 604.6407,-1003.786 604.6407,-1003.786 604.6407,-173.2895 604.6407,-137.0072 611.7644,-119.0747 585.6407,-93.8962 538.4959,-48.457 335.6214,-29.3474 256.4546,-23.5262\"/>\n<polygon fill=\"#000000\" stroke=\"#000000\" points=\"256.3572,-20.0105 246.1339,-22.7917 255.8601,-26.9929 256.3572,-20.0105\"/>\n<text text-anchor=\"middle\" x=\"613.6407\" y=\"-540.9667\" font-family=\"Times,serif\" font-size=\"14.00\" fill=\"#000000\">[&#39;.&#39;]</text>\n</g>\n<!-- [33, 6, 7, 9, 16, 17, 20] -->\n<g id=\"node4\" class=\"node\">\n<title>[33, 6, 7, 9, 16, 17, 20]</title>\n<ellipse fill=\"none\" stroke=\"#000000\" cx=\"108.6407\" cy=\"-735.5046\" rx=\"104.7764\" ry=\"104.7764\"/>\n<ellipse fill=\"none\" stroke=\"#000000\" cx=\"108.6407\" cy=\"-735.5046\" rx=\"108.7816\" ry=\"108.7816\"/>\n<text text-anchor=\"middle\" x=\"108.6407\" y=\"-731.8046\" font-family=\"Times,serif\" font-size=\"14.00\" fill=\"#000000\">q[33, 6, 7, 9, 16, 17, 20]</text>\n</g>\n<!-- [33, 6, 8, 9, 16, 18, 20]&#45;&gt;[33, 6, 7, 9, 16, 17, 20] -->\n<g id=\"edge3\" class=\"edge\">\n<title>[33, 6, 8, 9, 16, 18, 20]&#45;&gt;[33, 6, 7, 9, 16, 17, 20]</title>\n<path fill=\"none\" stroke=\"#000000\" d=\"M313.3211,-929.5427C295.013,-912.3606 275.6314,-894.1344 257.6407,-877.1453 237.3029,-857.9398 215.4524,-837.2181 194.9216,-817.7086\"/>\n<polygon fill=\"#000000\" stroke=\"#000000\" points=\"197.0821,-814.9334 187.4226,-810.5808 192.2595,-820.0071 197.0821,-814.9334\"/>\n<text text-anchor=\"middle\" x=\"356.1407\" y=\"-865.9453\" font-family=\"Times,serif\" font-size=\"14.00\" fill=\"#000000\">[&#39;6&#39;, &#39;8&#39;, &#39;7&#39;, &#39;2&#39;, &#39;4&#39;, &#39;0&#39;, &#39;3&#39;, &#39;1&#39;, &#39;9&#39;, &#39;5&#39;]</text>\n</g>\n<!-- [26] -->\n<g id=\"node5\" class=\"node\">\n<title>[26]</title>\n<ellipse fill=\"none\" stroke=\"#000000\" cx=\"174.6407\" cy=\"-544.6667\" rx=\"31.3957\" ry=\"31.3957\"/>\n<text text-anchor=\"middle\" x=\"174.6407\" y=\"-540.9667\" font-family=\"Times,serif\" font-size=\"14.00\" fill=\"#000000\">q[26]</text>\n</g>\n<!-- [33, 6, 8, 9, 16, 18, 20]&#45;&gt;[26] -->\n<g id=\"edge4\" class=\"edge\">\n<title>[33, 6, 8, 9, 16, 18, 20]&#45;&gt;[26]</title>\n<path fill=\"none\" stroke=\"#000000\" d=\"M444.9111,-908.3162C448.861,-898.0243 452.2376,-887.5193 454.6407,-877.1453 464.0925,-836.3436 581.2714,-805.4182 441.6407,-626.8639 413.5775,-590.9777 282.9256,-563.4973 215.3587,-551.4102\"/>\n<polygon fill=\"#000000\" stroke=\"#000000\" points=\"215.9294,-547.9569 205.4742,-549.6714 214.7166,-554.8511 215.9294,-547.9569\"/>\n<text text-anchor=\"middle\" x=\"517.6407\" y=\"-731.8046\" font-family=\"Times,serif\" font-size=\"14.00\" fill=\"#000000\">[&#39;.&#39;]</text>\n</g>\n<!-- []&#45;&gt;[] -->\n<g id=\"edge5\" class=\"edge\">\n<title>[]&#45;&gt;[]</title>\n<path fill=\"none\" stroke=\"#000000\" d=\"M244.5321,-29.7699C254.8175,-31.0501 264.0888,-28.2762 264.0888,-21.4481 264.0888,-17.0738 260.2839,-14.3634 254.8449,-13.3168\"/>\n<polygon fill=\"#000000\" stroke=\"#000000\" points=\"254.5951,-9.8117 244.5321,-13.1263 254.4657,-16.8105 254.5951,-9.8117\"/>\n<text text-anchor=\"middle\" x=\"370.5888\" y=\"-17.7481\" font-family=\"Times,serif\" font-size=\"14.00\" fill=\"#000000\">[&#39;6&#39;, &#39;.&#39;, &#39;8&#39;, &#39;7&#39;, &#39;2&#39;, &#39;4&#39;, &#39;0&#39;, &#39;3&#39;, &#39;1&#39;, &#39;9&#39;, &#39;5&#39;]</text>\n</g>\n<!-- [33, 6, 7, 9, 16, 17, 20]&#45;&gt;[33, 6, 7, 9, 16, 17, 20] -->\n<g id=\"edge6\" class=\"edge\">\n<title>[33, 6, 7, 9, 16, 17, 20]&#45;&gt;[33, 6, 7, 9, 16, 17, 20]</title>\n<path fill=\"none\" stroke=\"#000000\" d=\"M215.3503,-756.7958C227.4437,-752.8087 235.2814,-745.7116 235.2814,-735.5046 235.2814,-728.3278 231.4066,-722.6885 224.902,-718.5867\"/>\n<polygon fill=\"#000000\" stroke=\"#000000\" points=\"225.8996,-715.1941 215.3503,-714.2134 222.9855,-721.5587 225.8996,-715.1941\"/>\n<text text-anchor=\"middle\" x=\"333.7814\" y=\"-731.8046\" font-family=\"Times,serif\" font-size=\"14.00\" fill=\"#000000\">[&#39;6&#39;, &#39;8&#39;, &#39;7&#39;, &#39;2&#39;, &#39;4&#39;, &#39;0&#39;, &#39;3&#39;, &#39;1&#39;, &#39;9&#39;, &#39;5&#39;]</text>\n</g>\n<!-- [33, 6, 7, 9, 16, 17, 20]&#45;&gt;[26] -->\n<g id=\"edge7\" class=\"edge\">\n<title>[33, 6, 7, 9, 16, 17, 20]&#45;&gt;[26]</title>\n<path fill=\"none\" stroke=\"#000000\" d=\"M144.1522,-632.8236C150.1515,-615.4769 156.0394,-598.4521 161.0167,-584.0602\"/>\n<polygon fill=\"#000000\" stroke=\"#000000\" points=\"164.3465,-585.1405 164.3072,-574.5457 157.7309,-582.8525 164.3465,-585.1405\"/>\n<text text-anchor=\"middle\" x=\"166.6407\" y=\"-597.6639\" font-family=\"Times,serif\" font-size=\"14.00\" fill=\"#000000\">[&#39;.&#39;]</text>\n</g>\n<!-- [26]&#45;&gt;[] -->\n<g id=\"edge9\" class=\"edge\">\n<title>[26]&#45;&gt;[]</title>\n<path fill=\"none\" stroke=\"#000000\" d=\"M159.9979,-516.9972C152.5964,-501.4443 144.402,-481.4032 140.6407,-462.4694 108.6753,-301.5625 109.0425,-249.6218 160.6407,-93.8962 167.6332,-72.7927 184.5257,-54.1307 199.2004,-41.0342\"/>\n<polygon fill=\"#000000\" stroke=\"#000000\" points=\"201.704,-43.4992 207.0478,-34.3507 197.1653,-38.17 201.704,-43.4992\"/>\n<text text-anchor=\"middle\" x=\"128.6407\" y=\"-274.4828\" font-family=\"Times,serif\" font-size=\"14.00\" fill=\"#000000\">[&#39;.&#39;]</text>\n</g>\n<!-- [33, 28, 30, 31] -->\n<g id=\"node6\" class=\"node\">\n<title>[33, 28, 30, 31]</title>\n<ellipse fill=\"none\" stroke=\"#000000\" cx=\"228.6407\" cy=\"-383.0761\" rx=\"75.2921\" ry=\"75.2921\"/>\n<ellipse fill=\"none\" stroke=\"#000000\" cx=\"228.6407\" cy=\"-383.0761\" rx=\"79.2868\" ry=\"79.2868\"/>\n<text text-anchor=\"middle\" x=\"228.6407\" y=\"-379.3761\" font-family=\"Times,serif\" font-size=\"14.00\" fill=\"#000000\">q[33, 28, 30, 31]</text>\n</g>\n<!-- [26]&#45;&gt;[33, 28, 30, 31] -->\n<g id=\"edge8\" class=\"edge\">\n<title>[26]&#45;&gt;[33, 28, 30, 31]</title>\n<path fill=\"none\" stroke=\"#000000\" d=\"M184.5451,-515.0285C188.9993,-501.6996 194.508,-485.2154 200.105,-468.4669\"/>\n<polygon fill=\"#000000\" stroke=\"#000000\" points=\"203.5533,-469.1907 203.4033,-458.597 196.9142,-466.972 203.5533,-469.1907\"/>\n<text text-anchor=\"middle\" x=\"294.1407\" y=\"-484.2694\" font-family=\"Times,serif\" font-size=\"14.00\" fill=\"#000000\">[&#39;6&#39;, &#39;8&#39;, &#39;7&#39;, &#39;2&#39;, &#39;4&#39;, &#39;0&#39;, &#39;3&#39;, &#39;1&#39;, &#39;9&#39;, &#39;5&#39;]</text>\n</g>\n<!-- [33, 28, 30, 31]&#45;&gt;[] -->\n<g id=\"edge11\" class=\"edge\">\n<title>[33, 28, 30, 31]&#45;&gt;[]</title>\n<path fill=\"none\" stroke=\"#000000\" d=\"M194.3176,-311.1051C187.018,-292.4911 180.3868,-272.1891 176.6407,-252.6828 163.3311,-183.3774 156.2867,-161.4691 176.6407,-93.8962 181.9952,-76.1199 193.2917,-58.6946 203.581,-45.3897\"/>\n<polygon fill=\"#000000\" stroke=\"#000000\" points=\"206.5694,-47.2597 210.1246,-37.2792 201.1214,-42.8643 206.5694,-47.2597\"/>\n<text text-anchor=\"middle\" x=\"185.6407\" y=\"-169.5895\" font-family=\"Times,serif\" font-size=\"14.00\" fill=\"#000000\">[&#39;.&#39;]</text>\n</g>\n<!-- [33, 28, 29, 31] -->\n<g id=\"node7\" class=\"node\">\n<title>[33, 28, 29, 31]</title>\n<ellipse fill=\"none\" stroke=\"#000000\" cx=\"282.6407\" cy=\"-173.2895\" rx=\"75.2921\" ry=\"75.2921\"/>\n<ellipse fill=\"none\" stroke=\"#000000\" cx=\"282.6407\" cy=\"-173.2895\" rx=\"79.2868\" ry=\"79.2868\"/>\n<text text-anchor=\"middle\" x=\"282.6407\" y=\"-169.5895\" font-family=\"Times,serif\" font-size=\"14.00\" fill=\"#000000\">q[33, 28, 29, 31]</text>\n</g>\n<!-- [33, 28, 30, 31]&#45;&gt;[33, 28, 29, 31] -->\n<g id=\"edge10\" class=\"edge\">\n<title>[33, 28, 30, 31]&#45;&gt;[33, 28, 29, 31]</title>\n<path fill=\"none\" stroke=\"#000000\" d=\"M248.4417,-306.1506C252.2936,-291.186 256.3565,-275.4021 260.2842,-260.1433\"/>\n<polygon fill=\"#000000\" stroke=\"#000000\" points=\"263.7388,-260.7626 262.8421,-250.2058 256.9598,-259.0176 263.7388,-260.7626\"/>\n<text text-anchor=\"middle\" x=\"356.1407\" y=\"-274.4828\" font-family=\"Times,serif\" font-size=\"14.00\" fill=\"#000000\">[&#39;6&#39;, &#39;8&#39;, &#39;7&#39;, &#39;2&#39;, &#39;4&#39;, &#39;0&#39;, &#39;3&#39;, &#39;1&#39;, &#39;9&#39;, &#39;5&#39;]</text>\n</g>\n<!-- [33, 28, 29, 31]&#45;&gt;[] -->\n<g id=\"edge13\" class=\"edge\">\n<title>[33, 28, 29, 31]&#45;&gt;[]</title>\n<path fill=\"none\" stroke=\"#000000\" d=\"M254.1505,-98.7033C247.6956,-81.8049 241.2072,-64.8183 235.9646,-51.0936\"/>\n<polygon fill=\"#000000\" stroke=\"#000000\" points=\"239.2237,-49.8171 232.3858,-41.7243 232.6846,-52.3149 239.2237,-49.8171\"/>\n<text text-anchor=\"middle\" x=\"254.6407\" y=\"-64.6962\" font-family=\"Times,serif\" font-size=\"14.00\" fill=\"#000000\">[&#39;.&#39;]</text>\n</g>\n<!-- [33, 28, 29, 31]&#45;&gt;[33, 28, 29, 31] -->\n<g id=\"edge12\" class=\"edge\">\n<title>[33, 28, 29, 31]&#45;&gt;[33, 28, 29, 31]</title>\n<path fill=\"none\" stroke=\"#000000\" d=\"M360.1911,-191.0709C372.0091,-188.3573 380.034,-182.4301 380.034,-173.2895 380.034,-167.0053 376.241,-162.24 370.03,-158.9936\"/>\n<polygon fill=\"#000000\" stroke=\"#000000\" points=\"370.7858,-155.5483 360.1911,-155.5081 368.4483,-162.1465 370.7858,-155.5483\"/>\n<text text-anchor=\"middle\" x=\"478.534\" y=\"-169.5895\" font-family=\"Times,serif\" font-size=\"14.00\" fill=\"#000000\">[&#39;6&#39;, &#39;8&#39;, &#39;7&#39;, &#39;2&#39;, &#39;4&#39;, &#39;0&#39;, &#39;3&#39;, &#39;1&#39;, &#39;9&#39;, &#39;5&#39;]</text>\n</g>\n</g>\n</svg>\n"
          },
          "metadata": {},
          "execution_count": 251
        }
      ]
    },
    {
      "cell_type": "code",
      "source": [
        "info = dfa_born(regex_to_NFA('(True)|(False)')[0])\n",
        "draw_DFA(info, \"regex Bool_NFA\")\n"
      ],
      "metadata": {
        "id": "JDU8FZ36-wgV",
        "colab": {
          "base_uri": "https://localhost:8080/",
          "height": 1000
        },
        "outputId": "0262e5f2-4dda-4689-a7ed-d163465ce643"
      },
      "execution_count": 252,
      "outputs": [
        {
          "output_type": "execute_result",
          "data": {
            "text/plain": [
              "<graphviz.dot.Digraph at 0x7fe57968d590>"
            ],
            "image/svg+xml": "<?xml version=\"1.0\" encoding=\"UTF-8\" standalone=\"no\"?>\n<!DOCTYPE svg PUBLIC \"-//W3C//DTD SVG 1.1//EN\"\n \"http://www.w3.org/Graphics/SVG/1.1/DTD/svg11.dtd\">\n<!-- Generated by graphviz version 2.40.1 (20161225.0304)\n -->\n<!-- Title: %3 Pages: 1 -->\n<svg width=\"1047pt\" height=\"808pt\"\n viewBox=\"0.00 0.00 1047.00 808.16\" xmlns=\"http://www.w3.org/2000/svg\" xmlns:xlink=\"http://www.w3.org/1999/xlink\">\n<g id=\"graph0\" class=\"graph\" transform=\"scale(1 1) rotate(0) translate(4 804.1569)\">\n<title>%3</title>\n<polygon fill=\"#ffffff\" stroke=\"transparent\" points=\"-4,4 -4,-804.1569 1043,-804.1569 1043,4 -4,4\"/>\n<!-- [8, 0, 18] -->\n<g id=\"node1\" class=\"node\">\n<title>[8, 0, 18]</title>\n<ellipse fill=\"none\" stroke=\"#000000\" cx=\"135\" cy=\"-749.4614\" rx=\"50.8918\" ry=\"50.8918\"/>\n<text text-anchor=\"middle\" x=\"135\" y=\"-745.7614\" font-family=\"Times,serif\" font-size=\"14.00\" fill=\"#000000\">q[8, 0, 18]</text>\n</g>\n<!-- [] -->\n<g id=\"node2\" class=\"node\">\n<title>[]</title>\n<ellipse fill=\"none\" stroke=\"#000000\" cx=\"351\" cy=\"-21.4481\" rx=\"21.3963\" ry=\"21.3963\"/>\n<text text-anchor=\"middle\" x=\"351\" y=\"-17.7481\" font-family=\"Times,serif\" font-size=\"14.00\" fill=\"#000000\">q[]</text>\n</g>\n<!-- [8, 0, 18]&#45;&gt;[] -->\n<g id=\"edge1\" class=\"edge\">\n<title>[8, 0, 18]&#45;&gt;[]</title>\n<path fill=\"none\" stroke=\"#000000\" d=\"M88.9182,-727.744C49.8098,-705.7544 0,-667.7094 0,-616.5686 0,-616.5686 0,-616.5686 0,-144.0421 0,-76.6573 233.4817,-37.6412 319.5936,-25.5429\"/>\n<polygon fill=\"#000000\" stroke=\"#000000\" points=\"320.1424,-29.0004 329.5717,-24.1695 319.1879,-22.0658 320.1424,-29.0004\"/>\n<text text-anchor=\"middle\" x=\"53.5\" y=\"-386.0797\" font-family=\"Times,serif\" font-size=\"14.00\" fill=\"#000000\">[&#39;r&#39;, &#39;u&#39;, &#39;e&#39;, &#39;l&#39;, &#39;a&#39;, &#39;s&#39;]</text>\n</g>\n<!-- [10] -->\n<g id=\"node3\" class=\"node\">\n<title>[10]</title>\n<ellipse fill=\"none\" stroke=\"#000000\" cx=\"135\" cy=\"-616.5686\" rx=\"31.3957\" ry=\"31.3957\"/>\n<text text-anchor=\"middle\" x=\"135\" y=\"-612.8686\" font-family=\"Times,serif\" font-size=\"14.00\" fill=\"#000000\">q[10]</text>\n</g>\n<!-- [8, 0, 18]&#45;&gt;[10] -->\n<g id=\"edge2\" class=\"edge\">\n<title>[8, 0, 18]&#45;&gt;[10]</title>\n<path fill=\"none\" stroke=\"#000000\" d=\"M135,-698.4616C135,-685.1948 135,-671.0583 135,-658.3304\"/>\n<polygon fill=\"#000000\" stroke=\"#000000\" points=\"138.5001,-658.0202 135,-648.0203 131.5001,-658.0203 138.5001,-658.0202\"/>\n<text text-anchor=\"middle\" x=\"146\" y=\"-669.5659\" font-family=\"Times,serif\" font-size=\"14.00\" fill=\"#000000\">[&#39;F&#39;]</text>\n</g>\n<!-- [2] -->\n<g id=\"node4\" class=\"node\">\n<title>[2]</title>\n<ellipse fill=\"none\" stroke=\"#000000\" cx=\"564\" cy=\"-503.1742\" rx=\"26.7961\" ry=\"26.7961\"/>\n<text text-anchor=\"middle\" x=\"564\" y=\"-499.4742\" font-family=\"Times,serif\" font-size=\"14.00\" fill=\"#000000\">q[2]</text>\n</g>\n<!-- [8, 0, 18]&#45;&gt;[2] -->\n<g id=\"edge3\" class=\"edge\">\n<title>[8, 0, 18]&#45;&gt;[2]</title>\n<path fill=\"none\" stroke=\"#000000\" d=\"M179.2947,-724.0319C265.9016,-674.3113 455.8276,-565.2755 531.727,-521.7019\"/>\n<polygon fill=\"#000000\" stroke=\"#000000\" points=\"533.4733,-524.7352 540.4032,-516.721 529.9881,-518.6645 533.4733,-524.7352\"/>\n<text text-anchor=\"middle\" x=\"430.5\" y=\"-612.8686\" font-family=\"Times,serif\" font-size=\"14.00\" fill=\"#000000\">[&#39;T&#39;]</text>\n</g>\n<!-- []&#45;&gt;[] -->\n<g id=\"edge4\" class=\"edge\">\n<title>[]&#45;&gt;[]</title>\n<path fill=\"none\" stroke=\"#000000\" d=\"M370.8914,-29.7699C381.1768,-31.0501 390.4481,-28.2762 390.4481,-21.4481 390.4481,-17.0738 386.6431,-14.3634 381.2042,-13.3168\"/>\n<polygon fill=\"#000000\" stroke=\"#000000\" points=\"380.9544,-9.8117 370.8914,-13.1263 380.825,-16.8105 380.9544,-9.8117\"/>\n<text text-anchor=\"middle\" x=\"464.4481\" y=\"-17.7481\" font-family=\"Times,serif\" font-size=\"14.00\" fill=\"#000000\">[&#39;r&#39;, &#39;u&#39;, &#39;F&#39;, &#39;e&#39;, &#39;T&#39;, &#39;l&#39;, &#39;a&#39;, &#39;s&#39;]</text>\n</g>\n<!-- [10]&#45;&gt;[] -->\n<g id=\"edge5\" class=\"edge\">\n<title>[10]&#45;&gt;[]</title>\n<path fill=\"none\" stroke=\"#000000\" d=\"M135,-585.2837C135,-562.5124 135,-530.9322 135,-503.1742 135,-503.1742 135,-503.1742 135,-144.0421 135,-60.2481 259.4694,-33.0273 319.4364,-24.7752\"/>\n<polygon fill=\"#000000\" stroke=\"#000000\" points=\"320.0254,-28.2285 329.4994,-23.4859 319.1356,-21.2852 320.0254,-28.2285\"/>\n<text text-anchor=\"middle\" x=\"200\" y=\"-329.3825\" font-family=\"Times,serif\" font-size=\"14.00\" fill=\"#000000\">[&#39;r&#39;, &#39;u&#39;, &#39;F&#39;, &#39;e&#39;, &#39;T&#39;, &#39;l&#39;, &#39;s&#39;]</text>\n</g>\n<!-- [12] -->\n<g id=\"node5\" class=\"node\">\n<title>[12]</title>\n<ellipse fill=\"none\" stroke=\"#000000\" cx=\"280\" cy=\"-503.1742\" rx=\"31.3957\" ry=\"31.3957\"/>\n<text text-anchor=\"middle\" x=\"280\" y=\"-499.4742\" font-family=\"Times,serif\" font-size=\"14.00\" fill=\"#000000\">q[12]</text>\n</g>\n<!-- [10]&#45;&gt;[12] -->\n<g id=\"edge6\" class=\"edge\">\n<title>[10]&#45;&gt;[12]</title>\n<path fill=\"none\" stroke=\"#000000\" d=\"M159.5973,-597.3328C183.7613,-578.4358 220.7756,-549.4895 247.3841,-528.6808\"/>\n<polygon fill=\"#000000\" stroke=\"#000000\" points=\"249.5609,-531.4217 255.2821,-522.5044 245.2487,-525.9076 249.5609,-531.4217\"/>\n<text text-anchor=\"middle\" x=\"227\" y=\"-556.1714\" font-family=\"Times,serif\" font-size=\"14.00\" fill=\"#000000\">[&#39;a&#39;]</text>\n</g>\n<!-- [2]&#45;&gt;[] -->\n<g id=\"edge8\" class=\"edge\">\n<title>[2]&#45;&gt;[]</title>\n<path fill=\"none\" stroke=\"#000000\" d=\"M562.6314,-476.3805C560.5398,-429.4505 557.4384,-329.3604 564,-245.188 565.7832,-222.3136 569.8305,-217.029 572,-194.188 577.6041,-135.1861 614.1185,-106.2792 576,-60.8962 551.6783,-31.9393 438.7276,-24.2335 382.6951,-22.1865\"/>\n<polygon fill=\"#000000\" stroke=\"#000000\" points=\"382.7186,-18.6855 372.6096,-21.857 382.49,-25.6817 382.7186,-18.6855\"/>\n<text text-anchor=\"middle\" x=\"630\" y=\"-272.6852\" font-family=\"Times,serif\" font-size=\"14.00\" fill=\"#000000\">[&#39;u&#39;, &#39;F&#39;, &#39;e&#39;, &#39;T&#39;, &#39;l&#39;, &#39;a&#39;, &#39;s&#39;]</text>\n</g>\n<!-- [4] -->\n<g id=\"node6\" class=\"node\">\n<title>[4]</title>\n<ellipse fill=\"none\" stroke=\"#000000\" cx=\"724\" cy=\"-389.7797\" rx=\"26.7961\" ry=\"26.7961\"/>\n<text text-anchor=\"middle\" x=\"724\" y=\"-386.0797\" font-family=\"Times,serif\" font-size=\"14.00\" fill=\"#000000\">q[4]</text>\n</g>\n<!-- [2]&#45;&gt;[4] -->\n<g id=\"edge7\" class=\"edge\">\n<title>[2]&#45;&gt;[4]</title>\n<path fill=\"none\" stroke=\"#000000\" d=\"M585.9118,-487.6449C613.8402,-467.8516 662.2611,-433.535 693.7082,-411.248\"/>\n<polygon fill=\"#000000\" stroke=\"#000000\" points=\"695.9617,-413.9408 702.0967,-405.3029 691.9141,-408.2296 695.9617,-413.9408\"/>\n<text text-anchor=\"middle\" x=\"662.5\" y=\"-442.7769\" font-family=\"Times,serif\" font-size=\"14.00\" fill=\"#000000\">[&#39;r&#39;]</text>\n</g>\n<!-- [12]&#45;&gt;[] -->\n<g id=\"edge9\" class=\"edge\">\n<title>[12]&#45;&gt;[]</title>\n<path fill=\"none\" stroke=\"#000000\" d=\"M286.1183,-472.2784C291.8488,-434.3235 295.6379,-369.5701 266,-325.5825 256.0043,-310.7472 239.4046,-322.7994 230,-307.5825 207.3688,-270.9644 217.5426,-143.361 247,-93.8962 264.0961,-65.1885 297.5001,-45.0479 321.8517,-33.4111\"/>\n<polygon fill=\"#000000\" stroke=\"#000000\" points=\"323.3701,-36.5655 331.0114,-29.2264 320.4613,-30.1985 323.3701,-36.5655\"/>\n<text text-anchor=\"middle\" x=\"296.5\" y=\"-272.6852\" font-family=\"Times,serif\" font-size=\"14.00\" fill=\"#000000\">[&#39;r&#39;, &#39;u&#39;, &#39;F&#39;, &#39;e&#39;, &#39;T&#39;, &#39;a&#39;, &#39;s&#39;]</text>\n</g>\n<!-- [14] -->\n<g id=\"node7\" class=\"node\">\n<title>[14]</title>\n<ellipse fill=\"none\" stroke=\"#000000\" cx=\"391\" cy=\"-389.7797\" rx=\"31.3957\" ry=\"31.3957\"/>\n<text text-anchor=\"middle\" x=\"391\" y=\"-386.0797\" font-family=\"Times,serif\" font-size=\"14.00\" fill=\"#000000\">q[14]</text>\n</g>\n<!-- [12]&#45;&gt;[14] -->\n<g id=\"edge10\" class=\"edge\">\n<title>[12]&#45;&gt;[14]</title>\n<path fill=\"none\" stroke=\"#000000\" d=\"M301.93,-480.7711C319.1094,-463.2211 343.1626,-438.6491 361.9435,-419.463\"/>\n<polygon fill=\"#000000\" stroke=\"#000000\" points=\"364.6214,-421.7307 369.1155,-412.1363 359.6191,-416.8341 364.6214,-421.7307\"/>\n<text text-anchor=\"middle\" x=\"352\" y=\"-442.7769\" font-family=\"Times,serif\" font-size=\"14.00\" fill=\"#000000\">[&#39;l&#39;]</text>\n</g>\n<!-- [4]&#45;&gt;[] -->\n<g id=\"edge11\" class=\"edge\">\n<title>[4]&#45;&gt;[]</title>\n<path fill=\"none\" stroke=\"#000000\" d=\"M726.9971,-363.1016C729.0449,-331.3979 727.4774,-278.5989 700,-245.188 685.5278,-227.5907 667.4258,-243.9557 652,-227.188 600.0012,-170.6656 662.5015,-111.8102 605,-60.8962 572.6147,-32.221 443.6209,-24.3537 382.9069,-22.2239\"/>\n<polygon fill=\"#000000\" stroke=\"#000000\" points=\"382.8517,-18.7205 372.745,-21.8991 382.628,-25.7169 382.8517,-18.7205\"/>\n<text text-anchor=\"middle\" x=\"716.5\" y=\"-215.988\" font-family=\"Times,serif\" font-size=\"14.00\" fill=\"#000000\">[&#39;r&#39;, &#39;F&#39;, &#39;e&#39;, &#39;T&#39;, &#39;l&#39;, &#39;a&#39;, &#39;s&#39;]</text>\n</g>\n<!-- [6] -->\n<g id=\"node8\" class=\"node\">\n<title>[6]</title>\n<ellipse fill=\"none\" stroke=\"#000000\" cx=\"799\" cy=\"-276.3852\" rx=\"26.7961\" ry=\"26.7961\"/>\n<text text-anchor=\"middle\" x=\"799\" y=\"-272.6852\" font-family=\"Times,serif\" font-size=\"14.00\" fill=\"#000000\">q[6]</text>\n</g>\n<!-- [4]&#45;&gt;[6] -->\n<g id=\"edge12\" class=\"edge\">\n<title>[4]&#45;&gt;[6]</title>\n<path fill=\"none\" stroke=\"#000000\" d=\"M738.8176,-367.3766C750.2198,-350.1373 766.1036,-326.1222 778.6901,-307.0923\"/>\n<polygon fill=\"#000000\" stroke=\"#000000\" points=\"781.6158,-309.0133 784.2132,-298.7418 775.7773,-305.1517 781.6158,-309.0133\"/>\n<text text-anchor=\"middle\" x=\"776\" y=\"-329.3825\" font-family=\"Times,serif\" font-size=\"14.00\" fill=\"#000000\">[&#39;u&#39;]</text>\n</g>\n<!-- [14]&#45;&gt;[] -->\n<g id=\"edge13\" class=\"edge\">\n<title>[14]&#45;&gt;[]</title>\n<path fill=\"none\" stroke=\"#000000\" d=\"M395.2941,-358.6804C397.9327,-325.8636 396.333,-274.8716 367,-245.188 334.9507,-212.7557 295.2766,-262.1436 266,-227.188 218.6582,-170.6631 289.0858,-84.1232 328.0428,-43.6979\"/>\n<polygon fill=\"#000000\" stroke=\"#000000\" points=\"330.8518,-45.8333 335.3703,-36.2503 325.862,-40.9239 330.8518,-45.8333\"/>\n<text text-anchor=\"middle\" x=\"331.5\" y=\"-215.988\" font-family=\"Times,serif\" font-size=\"14.00\" fill=\"#000000\">[&#39;r&#39;, &#39;u&#39;, &#39;F&#39;, &#39;e&#39;, &#39;T&#39;, &#39;l&#39;, &#39;a&#39;]</text>\n</g>\n<!-- [16] -->\n<g id=\"node9\" class=\"node\">\n<title>[16]</title>\n<ellipse fill=\"none\" stroke=\"#000000\" cx=\"450\" cy=\"-276.3852\" rx=\"31.3957\" ry=\"31.3957\"/>\n<text text-anchor=\"middle\" x=\"450\" y=\"-272.6852\" font-family=\"Times,serif\" font-size=\"14.00\" fill=\"#000000\">q[16]</text>\n</g>\n<!-- [14]&#45;&gt;[16] -->\n<g id=\"edge14\" class=\"edge\">\n<title>[14]&#45;&gt;[16]</title>\n<path fill=\"none\" stroke=\"#000000\" d=\"M405.433,-362.0403C413.0758,-347.3513 422.563,-329.1174 430.8173,-313.2533\"/>\n<polygon fill=\"#000000\" stroke=\"#000000\" points=\"434.0006,-314.7178 435.5115,-304.2313 427.7909,-311.4868 434.0006,-314.7178\"/>\n<text text-anchor=\"middle\" x=\"433.5\" y=\"-329.3825\" font-family=\"Times,serif\" font-size=\"14.00\" fill=\"#000000\">[&#39;s&#39;]</text>\n</g>\n<!-- [6]&#45;&gt;[] -->\n<g id=\"edge15\" class=\"edge\">\n<title>[6]&#45;&gt;[]</title>\n<path fill=\"none\" stroke=\"#000000\" d=\"M795.8537,-249.6156C793.7888,-237.7594 790.4253,-223.8809 785,-212.188 749.3382,-135.3275 742.529,-103.0007 669,-60.8962 620.6697,-33.2211 453.4169,-24.7057 382.8279,-22.3087\"/>\n<polygon fill=\"#000000\" stroke=\"#000000\" points=\"382.8571,-18.808 372.7502,-21.9862 382.6331,-25.8044 382.8571,-18.808\"/>\n<text text-anchor=\"middle\" x=\"841\" y=\"-140.3421\" font-family=\"Times,serif\" font-size=\"14.00\" fill=\"#000000\">[&#39;r&#39;, &#39;u&#39;, &#39;F&#39;, &#39;T&#39;, &#39;l&#39;, &#39;a&#39;, &#39;s&#39;]</text>\n</g>\n<!-- [19, 7] -->\n<g id=\"node10\" class=\"node\">\n<title>[19, 7]</title>\n<ellipse fill=\"none\" stroke=\"#000000\" cx=\"992\" cy=\"-144.0421\" rx=\"40.8976\" ry=\"40.8976\"/>\n<ellipse fill=\"none\" stroke=\"#000000\" cx=\"992\" cy=\"-144.0421\" rx=\"44.8928\" ry=\"44.8928\"/>\n<text text-anchor=\"middle\" x=\"992\" y=\"-140.3421\" font-family=\"Times,serif\" font-size=\"14.00\" fill=\"#000000\">q[19, 7]</text>\n</g>\n<!-- [6]&#45;&gt;[19, 7] -->\n<g id=\"edge16\" class=\"edge\">\n<title>[6]&#45;&gt;[19, 7]</title>\n<path fill=\"none\" stroke=\"#000000\" d=\"M822.4573,-263.4652C849.7709,-248.0907 895.8798,-221.1019 933,-194.188 938.8362,-189.9565 944.8162,-185.2974 950.6236,-180.5756\"/>\n<polygon fill=\"#000000\" stroke=\"#000000\" points=\"952.9357,-183.2053 958.4062,-174.1321 948.4715,-177.8135 952.9357,-183.2053\"/>\n<text text-anchor=\"middle\" x=\"914\" y=\"-215.988\" font-family=\"Times,serif\" font-size=\"14.00\" fill=\"#000000\">[&#39;e&#39;]</text>\n</g>\n<!-- [16]&#45;&gt;[] -->\n<g id=\"edge17\" class=\"edge\">\n<title>[16]&#45;&gt;[]</title>\n<path fill=\"none\" stroke=\"#000000\" d=\"M434.9562,-248.6938C426.5816,-235.7603 415.0087,-221.2513 401,-212.188 371.4924,-193.0972 345.8403,-221.7227 324,-194.188 290.7541,-152.274 316.0842,-86.1949 335.0925,-49.0921\"/>\n<polygon fill=\"#000000\" stroke=\"#000000\" points=\"338.3874,-50.3504 339.9906,-39.8775 332.2064,-47.0648 338.3874,-50.3504\"/>\n<text text-anchor=\"middle\" x=\"389\" y=\"-140.3421\" font-family=\"Times,serif\" font-size=\"14.00\" fill=\"#000000\">[&#39;r&#39;, &#39;u&#39;, &#39;F&#39;, &#39;T&#39;, &#39;l&#39;, &#39;a&#39;, &#39;s&#39;]</text>\n</g>\n<!-- [17, 19] -->\n<g id=\"node11\" class=\"node\">\n<title>[17, 19]</title>\n<ellipse fill=\"none\" stroke=\"#000000\" cx=\"513\" cy=\"-144.0421\" rx=\"46.2806\" ry=\"46.2806\"/>\n<ellipse fill=\"none\" stroke=\"#000000\" cx=\"513\" cy=\"-144.0421\" rx=\"50.2922\" ry=\"50.2922\"/>\n<text text-anchor=\"middle\" x=\"513\" y=\"-140.3421\" font-family=\"Times,serif\" font-size=\"14.00\" fill=\"#000000\">q[17, 19]</text>\n</g>\n<!-- [16]&#45;&gt;[17, 19] -->\n<g id=\"edge18\" class=\"edge\">\n<title>[16]&#45;&gt;[17, 19]</title>\n<path fill=\"none\" stroke=\"#000000\" d=\"M463.5151,-247.9943C470.3484,-233.6396 478.8799,-215.7177 486.9246,-198.8182\"/>\n<polygon fill=\"#000000\" stroke=\"#000000\" points=\"490.192,-200.0975 491.33,-189.5639 483.8715,-197.0887 490.192,-200.0975\"/>\n<text text-anchor=\"middle\" x=\"489\" y=\"-215.988\" font-family=\"Times,serif\" font-size=\"14.00\" fill=\"#000000\">[&#39;e&#39;]</text>\n</g>\n<!-- [19, 7]&#45;&gt;[] -->\n<g id=\"edge19\" class=\"edge\">\n<title>[19, 7]&#45;&gt;[]</title>\n<path fill=\"none\" stroke=\"#000000\" d=\"M959.8519,-112.3946C951.6007,-105.5363 942.3882,-98.8605 933,-93.8962 884.1022,-68.0397 867.4513,-70.6232 813,-60.8962 653.2518,-32.3592 458.6172,-24.3043 383.0935,-22.1693\"/>\n<polygon fill=\"#000000\" stroke=\"#000000\" points=\"382.9231,-18.6636 372.8333,-21.8956 382.7363,-25.6611 382.9231,-18.6636\"/>\n<text text-anchor=\"middle\" x=\"965\" y=\"-64.6962\" font-family=\"Times,serif\" font-size=\"14.00\" fill=\"#000000\">[&#39;r&#39;, &#39;u&#39;, &#39;F&#39;, &#39;e&#39;, &#39;T&#39;, &#39;l&#39;, &#39;a&#39;, &#39;s&#39;]</text>\n</g>\n<!-- [17, 19]&#45;&gt;[] -->\n<g id=\"edge20\" class=\"edge\">\n<title>[17, 19]&#45;&gt;[]</title>\n<path fill=\"none\" stroke=\"#000000\" d=\"M473.5319,-112.8382C465.4488,-106.5265 456.9747,-99.9662 449,-93.8962 424.6549,-75.3656 396.545,-54.6541 376.6909,-40.1377\"/>\n<polygon fill=\"#000000\" stroke=\"#000000\" points=\"378.5985,-37.1969 368.458,-34.1273 374.471,-42.8506 378.5985,-37.1969\"/>\n<text text-anchor=\"middle\" x=\"498\" y=\"-64.6962\" font-family=\"Times,serif\" font-size=\"14.00\" fill=\"#000000\">[&#39;r&#39;, &#39;u&#39;, &#39;F&#39;, &#39;e&#39;, &#39;T&#39;, &#39;l&#39;, &#39;a&#39;, &#39;s&#39;]</text>\n</g>\n</g>\n</svg>\n"
          },
          "metadata": {},
          "execution_count": 252
        }
      ]
    },
    {
      "cell_type": "code",
      "source": [
        "info = dfa_born(regex_to_NFA('(Null)|(null)|(NULL)')[0])\n",
        "draw_DFA(info,\"regex Null_DFA\")"
      ],
      "metadata": {
        "id": "_2CrMqgY-5Rz",
        "colab": {
          "base_uri": "https://localhost:8080/",
          "height": 1000
        },
        "outputId": "1dd199a7-5851-4b2c-d4c5-44cc0df88e47"
      },
      "execution_count": 253,
      "outputs": [
        {
          "output_type": "execute_result",
          "data": {
            "text/plain": [
              "<graphviz.dot.Digraph at 0x7fe5795dac10>"
            ],
            "image/svg+xml": "<?xml version=\"1.0\" encoding=\"UTF-8\" standalone=\"no\"?>\n<!DOCTYPE svg PUBLIC \"-//W3C//DTD SVG 1.1//EN\"\n \"http://www.w3.org/Graphics/SVG/1.1/DTD/svg11.dtd\">\n<!-- Generated by graphviz version 2.40.1 (20161225.0304)\n -->\n<!-- Title: %3 Pages: 1 -->\n<svg width=\"1242pt\" height=\"801pt\"\n viewBox=\"0.00 0.00 1242.44 801.35\" xmlns=\"http://www.w3.org/2000/svg\" xmlns:xlink=\"http://www.w3.org/1999/xlink\">\n<g id=\"graph0\" class=\"graph\" transform=\"scale(1 1) rotate(0) translate(4 797.3529)\">\n<title>%3</title>\n<polygon fill=\"#ffffff\" stroke=\"transparent\" points=\"-4,4 -4,-797.3529 1238.4446,-797.3529 1238.4446,4 -4,4\"/>\n<!-- [0, 8, 16, 18, 26] -->\n<g id=\"node1\" class=\"node\">\n<title>[0, 8, 16, 18, 26]</title>\n<ellipse fill=\"none\" stroke=\"#000000\" cx=\"677\" cy=\"-713.41\" rx=\"79.8859\" ry=\"79.8859\"/>\n<text text-anchor=\"middle\" x=\"677\" y=\"-709.71\" font-family=\"Times,serif\" font-size=\"14.00\" fill=\"#000000\">q[0, 8, 16, 18, 26]</text>\n</g>\n<!-- [2, 20] -->\n<g id=\"node2\" class=\"node\">\n<title>[2, 20]</title>\n<ellipse fill=\"none\" stroke=\"#000000\" cx=\"303\" cy=\"-541.5208\" rx=\"40.8928\" ry=\"40.8928\"/>\n<text text-anchor=\"middle\" x=\"303\" y=\"-537.8208\" font-family=\"Times,serif\" font-size=\"14.00\" fill=\"#000000\">q[2, 20]</text>\n</g>\n<!-- [0, 8, 16, 18, 26]&#45;&gt;[2, 20] -->\n<g id=\"edge1\" class=\"edge\">\n<title>[0, 8, 16, 18, 26]&#45;&gt;[2, 20]</title>\n<path fill=\"none\" stroke=\"#000000\" d=\"M604.0012,-679.86C528.7828,-645.2899 413.7711,-592.4308 349.8915,-563.072\"/>\n<polygon fill=\"#000000\" stroke=\"#000000\" points=\"351.0183,-559.7379 340.4704,-558.742 348.095,-566.0983 351.0183,-559.7379\"/>\n<text text-anchor=\"middle\" x=\"468.5\" y=\"-604.2671\" font-family=\"Times,serif\" font-size=\"14.00\" fill=\"#000000\">[&#39;N&#39;]</text>\n</g>\n<!-- [] -->\n<g id=\"node3\" class=\"node\">\n<title>[]</title>\n<ellipse fill=\"none\" stroke=\"#000000\" cx=\"491\" cy=\"-21.4481\" rx=\"21.3963\" ry=\"21.3963\"/>\n<text text-anchor=\"middle\" x=\"491\" y=\"-17.7481\" font-family=\"Times,serif\" font-size=\"14.00\" fill=\"#000000\">q[]</text>\n</g>\n<!-- [0, 8, 16, 18, 26]&#45;&gt;[] -->\n<g id=\"edge2\" class=\"edge\">\n<title>[0, 8, 16, 18, 26]&#45;&gt;[]</title>\n<path fill=\"none\" stroke=\"#000000\" d=\"M671.5258,-633.6145C667.7128,-560.6513 664.9194,-449.8519 675,-354.1799 681.2567,-294.7999 696.7433,-282.1655 703,-222.7855 709.0026,-165.8167 724.0924,-147.1558 703,-93.8962 695.5906,-75.1869 689.5069,-70.8183 672,-60.8962 646.7442,-46.5824 567.0997,-32.8394 522.334,-25.9802\"/>\n<polygon fill=\"#000000\" stroke=\"#000000\" points=\"522.6959,-22.4953 512.2861,-24.4665 521.6531,-29.4172 522.6959,-22.4953\"/>\n<text text-anchor=\"middle\" x=\"715.5\" y=\"-357.9799\" font-family=\"Times,serif\" font-size=\"14.00\" fill=\"#000000\">[&#39;U&#39;, &#39;u&#39;, &#39;l&#39;, &#39;L&#39;]</text>\n</g>\n<!-- [10] -->\n<g id=\"node4\" class=\"node\">\n<title>[10]</title>\n<ellipse fill=\"none\" stroke=\"#000000\" cx=\"773\" cy=\"-541.5208\" rx=\"31.3957\" ry=\"31.3957\"/>\n<text text-anchor=\"middle\" x=\"773\" y=\"-537.8208\" font-family=\"Times,serif\" font-size=\"14.00\" fill=\"#000000\">q[10]</text>\n</g>\n<!-- [0, 8, 16, 18, 26]&#45;&gt;[10] -->\n<g id=\"edge3\" class=\"edge\">\n<title>[0, 8, 16, 18, 26]&#45;&gt;[10]</title>\n<path fill=\"none\" stroke=\"#000000\" d=\"M716.0469,-643.4961C728.627,-620.9711 742.0578,-596.9231 752.7156,-577.8403\"/>\n<polygon fill=\"#000000\" stroke=\"#000000\" points=\"755.8885,-579.3369 757.7089,-568.8996 749.7771,-575.9236 755.8885,-579.3369\"/>\n<text text-anchor=\"middle\" x=\"750\" y=\"-604.2671\" font-family=\"Times,serif\" font-size=\"14.00\" fill=\"#000000\">[&#39;n&#39;]</text>\n</g>\n<!-- [2, 20]&#45;&gt;[] -->\n<g id=\"edge4\" class=\"edge\">\n<title>[2, 20]&#45;&gt;[]</title>\n<path fill=\"none\" stroke=\"#000000\" d=\"M262.4505,-533.8891C179.8857,-517.1893 0,-474.379 0,-418.3772 0,-418.3772 0,-418.3772 0,-158.3408 0,-119.8069 26.082,-115.4856 58,-93.8962 93.2894,-70.0263 106.5469,-70.7324 148,-60.8962 260.5126,-34.1988 398.2351,-25.3367 459.2777,-22.5903\"/>\n<polygon fill=\"#000000\" stroke=\"#000000\" points=\"459.5793,-26.0807 469.4217,-22.1592 459.282,-19.0871 459.5793,-26.0807\"/>\n<text text-anchor=\"middle\" x=\"40.5\" y=\"-301.2827\" font-family=\"Times,serif\" font-size=\"14.00\" fill=\"#000000\">[&#39;N&#39;, &#39;l&#39;, &#39;n&#39;, &#39;L&#39;]</text>\n</g>\n<!-- [22] -->\n<g id=\"node5\" class=\"node\">\n<title>[22]</title>\n<ellipse fill=\"none\" stroke=\"#000000\" cx=\"266\" cy=\"-418.3772\" rx=\"31.3957\" ry=\"31.3957\"/>\n<text text-anchor=\"middle\" x=\"266\" y=\"-414.6772\" font-family=\"Times,serif\" font-size=\"14.00\" fill=\"#000000\">q[22]</text>\n</g>\n<!-- [2, 20]&#45;&gt;[22] -->\n<g id=\"edge5\" class=\"edge\">\n<title>[2, 20]&#45;&gt;[22]</title>\n<path fill=\"none\" stroke=\"#000000\" d=\"M291.1912,-502.2188C286.9707,-488.1719 282.2131,-472.3378 277.9784,-458.2438\"/>\n<polygon fill=\"#000000\" stroke=\"#000000\" points=\"281.232,-456.909 275.0024,-448.3391 274.5281,-458.9233 281.232,-456.909\"/>\n<text text-anchor=\"middle\" x=\"296.5\" y=\"-471.3744\" font-family=\"Times,serif\" font-size=\"14.00\" fill=\"#000000\">[&#39;U&#39;]</text>\n</g>\n<!-- [4] -->\n<g id=\"node6\" class=\"node\">\n<title>[4]</title>\n<ellipse fill=\"none\" stroke=\"#000000\" cx=\"354\" cy=\"-418.3772\" rx=\"26.7961\" ry=\"26.7961\"/>\n<text text-anchor=\"middle\" x=\"354\" y=\"-414.6772\" font-family=\"Times,serif\" font-size=\"14.00\" fill=\"#000000\">q[4]</text>\n</g>\n<!-- [2, 20]&#45;&gt;[4] -->\n<g id=\"edge6\" class=\"edge\">\n<title>[2, 20]&#45;&gt;[4]</title>\n<path fill=\"none\" stroke=\"#000000\" d=\"M318.7178,-503.5688C325.4558,-487.2995 333.2677,-468.4369 339.8256,-452.6024\"/>\n<polygon fill=\"#000000\" stroke=\"#000000\" points=\"343.1331,-453.7631 343.7259,-443.1848 336.6658,-451.0846 343.1331,-453.7631\"/>\n<text text-anchor=\"middle\" x=\"344\" y=\"-471.3744\" font-family=\"Times,serif\" font-size=\"14.00\" fill=\"#000000\">[&#39;u&#39;]</text>\n</g>\n<!-- []&#45;&gt;[] -->\n<g id=\"edge7\" class=\"edge\">\n<title>[]&#45;&gt;[]</title>\n<path fill=\"none\" stroke=\"#000000\" d=\"M510.8914,-29.7699C521.1768,-31.0501 530.4481,-28.2762 530.4481,-21.4481 530.4481,-17.0738 526.6431,-14.3634 521.2042,-13.3168\"/>\n<polygon fill=\"#000000\" stroke=\"#000000\" points=\"520.9544,-9.8117 510.8914,-13.1263 520.825,-16.8105 520.9544,-9.8117\"/>\n<text text-anchor=\"middle\" x=\"591.9481\" y=\"-17.7481\" font-family=\"Times,serif\" font-size=\"14.00\" fill=\"#000000\">[&#39;N&#39;, &#39;U&#39;, &#39;u&#39;, &#39;l&#39;, &#39;n&#39;, &#39;L&#39;]</text>\n</g>\n<!-- [10]&#45;&gt;[] -->\n<g id=\"edge8\" class=\"edge\">\n<title>[10]&#45;&gt;[]</title>\n<path fill=\"none\" stroke=\"#000000\" d=\"M770.8527,-510.2899C763.5373,-404.3576 739.8286,-65.0498 736,-60.8962 721.6811,-45.3619 585.4672,-30.4733 522.5617,-24.3609\"/>\n<polygon fill=\"#000000\" stroke=\"#000000\" points=\"522.7061,-20.8589 512.418,-23.3898 522.0389,-27.827 522.7061,-20.8589\"/>\n<text text-anchor=\"middle\" x=\"809.5\" y=\"-301.2827\" font-family=\"Times,serif\" font-size=\"14.00\" fill=\"#000000\">[&#39;N&#39;, &#39;U&#39;, &#39;l&#39;, &#39;n&#39;, &#39;L&#39;]</text>\n</g>\n<!-- [12] -->\n<g id=\"node7\" class=\"node\">\n<title>[12]</title>\n<ellipse fill=\"none\" stroke=\"#000000\" cx=\"891\" cy=\"-418.3772\" rx=\"31.3957\" ry=\"31.3957\"/>\n<text text-anchor=\"middle\" x=\"891\" y=\"-414.6772\" font-family=\"Times,serif\" font-size=\"14.00\" fill=\"#000000\">q[12]</text>\n</g>\n<!-- [10]&#45;&gt;[12] -->\n<g id=\"edge9\" class=\"edge\">\n<title>[10]&#45;&gt;[12]</title>\n<path fill=\"none\" stroke=\"#000000\" d=\"M794.643,-518.9343C813.5694,-499.1829 841.2086,-470.339 862.0368,-448.6028\"/>\n<polygon fill=\"#000000\" stroke=\"#000000\" points=\"864.703,-450.8793 869.0946,-441.2374 859.6488,-446.0362 864.703,-450.8793\"/>\n<text text-anchor=\"middle\" x=\"853\" y=\"-471.3744\" font-family=\"Times,serif\" font-size=\"14.00\" fill=\"#000000\">[&#39;u&#39;]</text>\n</g>\n<!-- [22]&#45;&gt;[] -->\n<g id=\"edge10\" class=\"edge\">\n<title>[22]&#45;&gt;[]</title>\n<path fill=\"none\" stroke=\"#000000\" d=\"M239.5276,-401.554C201.5206,-375.6347 133.0901,-321.9371 106,-255.7855 87.6801,-211.05 -5.7687,-310.2557 136,-93.8962 149.9887,-72.5474 159.2015,-70.1204 183,-60.8962 232.9792,-41.5244 391.1643,-28.4449 459.2877,-23.5713\"/>\n<polygon fill=\"#000000\" stroke=\"#000000\" points=\"459.6872,-27.0519 469.4174,-22.8599 459.1967,-20.0691 459.6872,-27.0519\"/>\n<text text-anchor=\"middle\" x=\"157\" y=\"-244.5855\" font-family=\"Times,serif\" font-size=\"14.00\" fill=\"#000000\">[&#39;N&#39;, &#39;U&#39;, &#39;u&#39;, &#39;l&#39;, &#39;n&#39;]</text>\n</g>\n<!-- [24] -->\n<g id=\"node8\" class=\"node\">\n<title>[24]</title>\n<ellipse fill=\"none\" stroke=\"#000000\" cx=\"266\" cy=\"-304.9827\" rx=\"31.3957\" ry=\"31.3957\"/>\n<text text-anchor=\"middle\" x=\"266\" y=\"-301.2827\" font-family=\"Times,serif\" font-size=\"14.00\" fill=\"#000000\">q[24]</text>\n</g>\n<!-- [22]&#45;&gt;[24] -->\n<g id=\"edge11\" class=\"edge\">\n<title>[22]&#45;&gt;[24]</title>\n<path fill=\"none\" stroke=\"#000000\" d=\"M266,-387.0915C266,-374.677 266,-360.2131 266,-346.9142\"/>\n<polygon fill=\"#000000\" stroke=\"#000000\" points=\"269.5001,-346.5599 266,-336.56 262.5001,-346.56 269.5001,-346.5599\"/>\n<text text-anchor=\"middle\" x=\"277.5\" y=\"-357.9799\" font-family=\"Times,serif\" font-size=\"14.00\" fill=\"#000000\">[&#39;L&#39;]</text>\n</g>\n<!-- [4]&#45;&gt;[] -->\n<g id=\"edge12\" class=\"edge\">\n<title>[4]&#45;&gt;[]</title>\n<path fill=\"none\" stroke=\"#000000\" d=\"M345.7018,-392.7245C335.517,-356.1637 322.8239,-288.2493 351,-240.7855 359.5281,-226.4195 372.5798,-234.9793 384,-222.7855 438.2053,-164.9079 417.0341,-128.1784 459,-60.8962 462.229,-55.7193 466.05,-50.4592 469.9071,-45.5392\"/>\n<polygon fill=\"#000000\" stroke=\"#000000\" points=\"472.7288,-47.6171 476.3344,-37.6546 467.3031,-43.1942 472.7288,-47.6171\"/>\n<text text-anchor=\"middle\" x=\"404.5\" y=\"-244.5855\" font-family=\"Times,serif\" font-size=\"14.00\" fill=\"#000000\">[&#39;N&#39;, &#39;U&#39;, &#39;u&#39;, &#39;n&#39;, &#39;L&#39;]</text>\n</g>\n<!-- [6] -->\n<g id=\"node9\" class=\"node\">\n<title>[6]</title>\n<ellipse fill=\"none\" stroke=\"#000000\" cx=\"476\" cy=\"-304.9827\" rx=\"26.7961\" ry=\"26.7961\"/>\n<text text-anchor=\"middle\" x=\"476\" y=\"-301.2827\" font-family=\"Times,serif\" font-size=\"14.00\" fill=\"#000000\">q[6]</text>\n</g>\n<!-- [4]&#45;&gt;[6] -->\n<g id=\"edge13\" class=\"edge\">\n<title>[4]&#45;&gt;[6]</title>\n<path fill=\"none\" stroke=\"#000000\" d=\"M373.6014,-400.1584C394.0557,-381.1469 426.2684,-351.2064 449.096,-329.989\"/>\n<polygon fill=\"#000000\" stroke=\"#000000\" points=\"451.5053,-332.528 456.4472,-323.1563 446.7397,-327.4007 451.5053,-332.528\"/>\n<text text-anchor=\"middle\" x=\"431\" y=\"-357.9799\" font-family=\"Times,serif\" font-size=\"14.00\" fill=\"#000000\">[&#39;l&#39;]</text>\n</g>\n<!-- [12]&#45;&gt;[] -->\n<g id=\"edge14\" class=\"edge\">\n<title>[12]&#45;&gt;[]</title>\n<path fill=\"none\" stroke=\"#000000\" d=\"M888.0708,-387.1316C884.7672,-357.5024 878.3178,-311.9666 867,-273.7855 865.166,-267.5983 779.1423,-64.795 774,-60.8962 735.057,-31.3703 588.4196,-23.9261 522.931,-22.0632\"/>\n<polygon fill=\"#000000\" stroke=\"#000000\" points=\"522.8678,-18.5605 512.7808,-21.8012 522.6871,-25.5582 522.8678,-18.5605\"/>\n<text text-anchor=\"middle\" x=\"912.5\" y=\"-244.5855\" font-family=\"Times,serif\" font-size=\"14.00\" fill=\"#000000\">[&#39;N&#39;, &#39;U&#39;, &#39;u&#39;, &#39;n&#39;, &#39;L&#39;]</text>\n</g>\n<!-- [14] -->\n<g id=\"node10\" class=\"node\">\n<title>[14]</title>\n<ellipse fill=\"none\" stroke=\"#000000\" cx=\"981\" cy=\"-304.9827\" rx=\"31.3957\" ry=\"31.3957\"/>\n<text text-anchor=\"middle\" x=\"981\" y=\"-301.2827\" font-family=\"Times,serif\" font-size=\"14.00\" fill=\"#000000\">q[14]</text>\n</g>\n<!-- [12]&#45;&gt;[14] -->\n<g id=\"edge15\" class=\"edge\">\n<title>[12]&#45;&gt;[14]</title>\n<path fill=\"none\" stroke=\"#000000\" d=\"M910.5287,-393.7723C923.6197,-377.2783 940.9991,-355.3814 955.2229,-337.4602\"/>\n<polygon fill=\"#000000\" stroke=\"#000000\" points=\"958.0341,-339.5482 961.5095,-329.5396 952.5512,-335.1965 958.0341,-339.5482\"/>\n<text text-anchor=\"middle\" x=\"950\" y=\"-357.9799\" font-family=\"Times,serif\" font-size=\"14.00\" fill=\"#000000\">[&#39;l&#39;]</text>\n</g>\n<!-- [24]&#45;&gt;[] -->\n<g id=\"edge16\" class=\"edge\">\n<title>[24]&#45;&gt;[]</title>\n<path fill=\"none\" stroke=\"#000000\" d=\"M248.7945,-278.7374C239.2433,-265.8526 226.3924,-250.9545 212,-240.7855 193.3921,-227.6379 176.9777,-241.5122 164,-222.7855 131.3713,-175.7022 131.1156,-140.8012 164,-93.8962 197.8834,-45.5663 383.6748,-28.3282 459.1299,-23.2629\"/>\n<polygon fill=\"#000000\" stroke=\"#000000\" points=\"459.6756,-26.7352 469.4308,-22.6016 459.2271,-19.7495 459.6756,-26.7352\"/>\n<text text-anchor=\"middle\" x=\"215\" y=\"-154.6408\" font-family=\"Times,serif\" font-size=\"14.00\" fill=\"#000000\">[&#39;N&#39;, &#39;U&#39;, &#39;u&#39;, &#39;l&#39;, &#39;n&#39;]</text>\n</g>\n<!-- [25, 27] -->\n<g id=\"node11\" class=\"node\">\n<title>[25, 27]</title>\n<ellipse fill=\"none\" stroke=\"#000000\" cx=\"325\" cy=\"-158.3408\" rx=\"46.2806\" ry=\"46.2806\"/>\n<ellipse fill=\"none\" stroke=\"#000000\" cx=\"325\" cy=\"-158.3408\" rx=\"50.2922\" ry=\"50.2922\"/>\n<text text-anchor=\"middle\" x=\"325\" y=\"-154.6408\" font-family=\"Times,serif\" font-size=\"14.00\" fill=\"#000000\">q[25, 27]</text>\n</g>\n<!-- [24]&#45;&gt;[25, 27] -->\n<g id=\"edge17\" class=\"edge\">\n<title>[24]&#45;&gt;[25, 27]</title>\n<path fill=\"none\" stroke=\"#000000\" d=\"M277.6565,-276.011C284.7042,-258.4943 293.9283,-235.5682 302.3606,-214.61\"/>\n<polygon fill=\"#000000\" stroke=\"#000000\" points=\"305.6829,-215.7293 306.1685,-205.1456 299.1888,-213.1164 305.6829,-215.7293\"/>\n<text text-anchor=\"middle\" x=\"301.5\" y=\"-244.5855\" font-family=\"Times,serif\" font-size=\"14.00\" fill=\"#000000\">[&#39;L&#39;]</text>\n</g>\n<!-- [6]&#45;&gt;[] -->\n<g id=\"edge18\" class=\"edge\">\n<title>[6]&#45;&gt;[]</title>\n<path fill=\"none\" stroke=\"#000000\" d=\"M470.3017,-278.7407C467.7699,-267.1103 464.7469,-253.2629 462,-240.7855 460.238,-232.782 458.8942,-230.9317 458,-222.7855 451.7493,-165.8434 445.8509,-149.8772 458,-93.8962 461.373,-78.3539 468.3812,-62.1463 475.0751,-49.0116\"/>\n<polygon fill=\"#000000\" stroke=\"#000000\" points=\"478.2382,-50.5175 479.8372,-40.044 472.0559,-47.2344 478.2382,-50.5175\"/>\n<text text-anchor=\"middle\" x=\"511.5\" y=\"-154.6408\" font-family=\"Times,serif\" font-size=\"14.00\" fill=\"#000000\">[&#39;N&#39;, &#39;U&#39;, &#39;u&#39;, &#39;n&#39;, &#39;L&#39;]</text>\n</g>\n<!-- [17, 27, 7] -->\n<g id=\"node12\" class=\"node\">\n<title>[17, 27, 7]</title>\n<ellipse fill=\"none\" stroke=\"#000000\" cx=\"634\" cy=\"-158.3408\" rx=\"55.7973\" ry=\"55.7973\"/>\n<ellipse fill=\"none\" stroke=\"#000000\" cx=\"634\" cy=\"-158.3408\" rx=\"59.7903\" ry=\"59.7903\"/>\n<text text-anchor=\"middle\" x=\"634\" y=\"-154.6408\" font-family=\"Times,serif\" font-size=\"14.00\" fill=\"#000000\">q[17, 27, 7]</text>\n</g>\n<!-- [6]&#45;&gt;[17, 27, 7] -->\n<g id=\"edge19\" class=\"edge\">\n<title>[6]&#45;&gt;[17, 27, 7]</title>\n<path fill=\"none\" stroke=\"#000000\" d=\"M495.6913,-286.7069C517.2733,-266.6764 552.7719,-233.7297 582.401,-206.2305\"/>\n<polygon fill=\"#000000\" stroke=\"#000000\" points=\"584.8467,-208.7359 589.7953,-199.3678 580.0847,-203.6051 584.8467,-208.7359\"/>\n<text text-anchor=\"middle\" x=\"549\" y=\"-244.5855\" font-family=\"Times,serif\" font-size=\"14.00\" fill=\"#000000\">[&#39;l&#39;]</text>\n</g>\n<!-- [14]&#45;&gt;[] -->\n<g id=\"edge20\" class=\"edge\">\n<title>[14]&#45;&gt;[]</title>\n<path fill=\"none\" stroke=\"#000000\" d=\"M977.5724,-273.6804C969.8032,-219.6745 945.4762,-110.0649 873,-60.8962 844.2336,-41.3807 608.8178,-27.4818 522.5394,-23\"/>\n<polygon fill=\"#000000\" stroke=\"#000000\" points=\"522.7136,-19.5044 512.5478,-22.4886 522.3558,-26.4953 522.7136,-19.5044\"/>\n<text text-anchor=\"middle\" x=\"1020.5\" y=\"-154.6408\" font-family=\"Times,serif\" font-size=\"14.00\" fill=\"#000000\">[&#39;N&#39;, &#39;U&#39;, &#39;u&#39;, &#39;n&#39;, &#39;L&#39;]</text>\n</g>\n<!-- [17, 27, 15] -->\n<g id=\"node13\" class=\"node\">\n<title>[17, 27, 15]</title>\n<ellipse fill=\"none\" stroke=\"#000000\" cx=\"1170\" cy=\"-158.3408\" rx=\"60.3928\" ry=\"60.3928\"/>\n<ellipse fill=\"none\" stroke=\"#000000\" cx=\"1170\" cy=\"-158.3408\" rx=\"64.3893\" ry=\"64.3893\"/>\n<text text-anchor=\"middle\" x=\"1170\" y=\"-154.6408\" font-family=\"Times,serif\" font-size=\"14.00\" fill=\"#000000\">q[17, 27, 15]</text>\n</g>\n<!-- [14]&#45;&gt;[17, 27, 15] -->\n<g id=\"edge21\" class=\"edge\">\n<title>[14]&#45;&gt;[17, 27, 15]</title>\n<path fill=\"none\" stroke=\"#000000\" d=\"M1006.4148,-286.7514C1029.1008,-270.3389 1063.1058,-245.3944 1092,-222.7855 1098.6619,-217.5727 1105.5776,-212.0406 1112.4158,-206.4939\"/>\n<polygon fill=\"#000000\" stroke=\"#000000\" points=\"1114.8491,-209.0259 1120.3877,-199.9941 1110.4256,-203.6006 1114.8491,-209.0259\"/>\n<text text-anchor=\"middle\" x=\"1077\" y=\"-244.5855\" font-family=\"Times,serif\" font-size=\"14.00\" fill=\"#000000\">[&#39;l&#39;]</text>\n</g>\n<!-- [25, 27]&#45;&gt;[] -->\n<g id=\"edge22\" class=\"edge\">\n<title>[25, 27]&#45;&gt;[]</title>\n<path fill=\"none\" stroke=\"#000000\" d=\"M285.9598,-126.8678C265.9199,-106.9361 248.9557,-81.1888 266,-60.8962 290.3217,-31.9393 403.2724,-24.2335 459.3049,-22.1865\"/>\n<polygon fill=\"#000000\" stroke=\"#000000\" points=\"459.51,-25.6817 469.3904,-21.857 459.2814,-18.6855 459.51,-25.6817\"/>\n<text text-anchor=\"middle\" x=\"327.5\" y=\"-64.6962\" font-family=\"Times,serif\" font-size=\"14.00\" fill=\"#000000\">[&#39;N&#39;, &#39;U&#39;, &#39;u&#39;, &#39;l&#39;, &#39;n&#39;, &#39;L&#39;]</text>\n</g>\n<!-- [17, 27, 7]&#45;&gt;[] -->\n<g id=\"edge23\" class=\"edge\">\n<title>[17, 27, 7]&#45;&gt;[]</title>\n<path fill=\"none\" stroke=\"#000000\" d=\"M590.7072,-116.897C565.4866,-92.7535 534.6895,-63.2717 514.0551,-43.5186\"/>\n<polygon fill=\"#000000\" stroke=\"#000000\" points=\"516.3212,-40.8427 506.6772,-36.4558 511.4806,-45.8992 516.3212,-40.8427\"/>\n<text text-anchor=\"middle\" x=\"606.5\" y=\"-64.6962\" font-family=\"Times,serif\" font-size=\"14.00\" fill=\"#000000\">[&#39;N&#39;, &#39;U&#39;, &#39;u&#39;, &#39;l&#39;, &#39;n&#39;, &#39;L&#39;]</text>\n</g>\n<!-- [17, 27, 15]&#45;&gt;[] -->\n<g id=\"edge24\" class=\"edge\">\n<title>[17, 27, 15]&#45;&gt;[]</title>\n<path fill=\"none\" stroke=\"#000000\" d=\"M1122.4602,-114.5428C1112.8213,-106.9958 1102.4292,-99.7192 1092,-93.8962 1052.24,-71.6967 1039.6024,-70.0777 995,-60.8962 903.9475,-42.1528 618.4801,-27.4178 522.6946,-22.8916\"/>\n<polygon fill=\"#000000\" stroke=\"#000000\" points=\"522.6399,-19.3853 512.4873,-22.4142 522.3128,-26.3777 522.6399,-19.3853\"/>\n<text text-anchor=\"middle\" x=\"1114.5\" y=\"-64.6962\" font-family=\"Times,serif\" font-size=\"14.00\" fill=\"#000000\">[&#39;N&#39;, &#39;U&#39;, &#39;u&#39;, &#39;l&#39;, &#39;n&#39;, &#39;L&#39;]</text>\n</g>\n</g>\n</svg>\n"
          },
          "metadata": {},
          "execution_count": 253
        }
      ]
    },
    {
      "cell_type": "code",
      "source": [
        "info = dfa_born(regex_to_NFA('{')[0])\n",
        "draw_DFA(info,\"regex Left_Key_DFA\")"
      ],
      "metadata": {
        "id": "Aedv1Pne_Gf0",
        "colab": {
          "base_uri": "https://localhost:8080/",
          "height": 377
        },
        "outputId": "d6c09373-5826-4602-f318-984b11e32810"
      },
      "execution_count": 254,
      "outputs": [
        {
          "output_type": "execute_result",
          "data": {
            "text/plain": [
              "<graphviz.dot.Digraph at 0x7fe5795da050>"
            ],
            "image/svg+xml": "<?xml version=\"1.0\" encoding=\"UTF-8\" standalone=\"no\"?>\n<!DOCTYPE svg PUBLIC \"-//W3C//DTD SVG 1.1//EN\"\n \"http://www.w3.org/Graphics/SVG/1.1/DTD/svg11.dtd\">\n<!-- Generated by graphviz version 2.40.1 (20161225.0304)\n -->\n<!-- Title: %3 Pages: 1 -->\n<svg width=\"99pt\" height=\"267pt\"\n viewBox=\"0.00 0.00 99.10 267.49\" xmlns=\"http://www.w3.org/2000/svg\" xmlns:xlink=\"http://www.w3.org/1999/xlink\">\n<g id=\"graph0\" class=\"graph\" transform=\"scale(1 1) rotate(0) translate(4 263.4867)\">\n<title>%3</title>\n<polygon fill=\"#ffffff\" stroke=\"transparent\" points=\"-4,4 -4,-263.4867 95.0957,-263.4867 95.0957,4 -4,4\"/>\n<!-- [0] -->\n<g id=\"node1\" class=\"node\">\n<title>[0]</title>\n<ellipse fill=\"none\" stroke=\"#000000\" cx=\"30.6476\" cy=\"-232.8391\" rx=\"26.7961\" ry=\"26.7961\"/>\n<text text-anchor=\"middle\" x=\"30.6476\" y=\"-229.1391\" font-family=\"Times,serif\" font-size=\"14.00\" fill=\"#000000\">q[0]</text>\n</g>\n<!-- [1] -->\n<g id=\"node2\" class=\"node\">\n<title>[1]</title>\n<ellipse fill=\"none\" stroke=\"#000000\" cx=\"30.6476\" cy=\"-124.5438\" rx=\"26.7766\" ry=\"26.7766\"/>\n<ellipse fill=\"none\" stroke=\"#000000\" cx=\"30.6476\" cy=\"-124.5438\" rx=\"30.796\" ry=\"30.796\"/>\n<text text-anchor=\"middle\" x=\"30.6476\" y=\"-120.8438\" font-family=\"Times,serif\" font-size=\"14.00\" fill=\"#000000\">q[1]</text>\n</g>\n<!-- [0]&#45;&gt;[1] -->\n<g id=\"edge1\" class=\"edge\">\n<title>[0]&#45;&gt;[1]</title>\n<path fill=\"none\" stroke=\"#000000\" d=\"M30.6476,-206.0695C30.6476,-193.791 30.6476,-178.9637 30.6476,-165.3393\"/>\n<polygon fill=\"#000000\" stroke=\"#000000\" points=\"34.1477,-165.2172 30.6476,-155.2172 27.1477,-165.2172 34.1477,-165.2172\"/>\n<text text-anchor=\"middle\" x=\"41.1476\" y=\"-176.9915\" font-family=\"Times,serif\" font-size=\"14.00\" fill=\"#000000\">[&#39;{&#39;]</text>\n</g>\n<!-- [] -->\n<g id=\"node3\" class=\"node\">\n<title>[]</title>\n<ellipse fill=\"none\" stroke=\"#000000\" cx=\"30.6476\" cy=\"-21.4481\" rx=\"21.3963\" ry=\"21.3963\"/>\n<text text-anchor=\"middle\" x=\"30.6476\" y=\"-17.7481\" font-family=\"Times,serif\" font-size=\"14.00\" fill=\"#000000\">q[]</text>\n</g>\n<!-- [1]&#45;&gt;[] -->\n<g id=\"edge2\" class=\"edge\">\n<title>[1]&#45;&gt;[]</title>\n<path fill=\"none\" stroke=\"#000000\" d=\"M30.6476,-93.8908C30.6476,-81.0924 30.6476,-66.2254 30.6476,-53.302\"/>\n<polygon fill=\"#000000\" stroke=\"#000000\" points=\"34.1477,-52.9916 30.6476,-42.9917 27.1477,-52.9917 34.1477,-52.9916\"/>\n<text text-anchor=\"middle\" x=\"41.1476\" y=\"-64.6962\" font-family=\"Times,serif\" font-size=\"14.00\" fill=\"#000000\">[&#39;{&#39;]</text>\n</g>\n<!-- []&#45;&gt;[] -->\n<g id=\"edge3\" class=\"edge\">\n<title>[]&#45;&gt;[]</title>\n<path fill=\"none\" stroke=\"#000000\" d=\"M50.539,-29.7699C60.8244,-31.0501 70.0957,-28.2762 70.0957,-21.4481 70.0957,-17.0738 66.2908,-14.3634 60.8518,-13.3168\"/>\n<polygon fill=\"#000000\" stroke=\"#000000\" points=\"60.602,-9.8117 50.539,-13.1263 60.4726,-16.8105 60.602,-9.8117\"/>\n<text text-anchor=\"middle\" x=\"80.5957\" y=\"-17.7481\" font-family=\"Times,serif\" font-size=\"14.00\" fill=\"#000000\">[&#39;{&#39;]</text>\n</g>\n</g>\n</svg>\n"
          },
          "metadata": {},
          "execution_count": 254
        }
      ]
    },
    {
      "cell_type": "code",
      "source": [
        "info = dfa_born(regex_to_NFA('}')[0])\n",
        "draw_DFA(info,\"regex Right_Key_DFA\")"
      ],
      "metadata": {
        "id": "T7MRVp_t_NGP",
        "colab": {
          "base_uri": "https://localhost:8080/",
          "height": 377
        },
        "outputId": "ccef1f53-6754-4dce-d45f-664c86160004"
      },
      "execution_count": 255,
      "outputs": [
        {
          "output_type": "execute_result",
          "data": {
            "text/plain": [
              "<graphviz.dot.Digraph at 0x7fe57a13c590>"
            ],
            "image/svg+xml": "<?xml version=\"1.0\" encoding=\"UTF-8\" standalone=\"no\"?>\n<!DOCTYPE svg PUBLIC \"-//W3C//DTD SVG 1.1//EN\"\n \"http://www.w3.org/Graphics/SVG/1.1/DTD/svg11.dtd\">\n<!-- Generated by graphviz version 2.40.1 (20161225.0304)\n -->\n<!-- Title: %3 Pages: 1 -->\n<svg width=\"99pt\" height=\"267pt\"\n viewBox=\"0.00 0.00 99.10 267.49\" xmlns=\"http://www.w3.org/2000/svg\" xmlns:xlink=\"http://www.w3.org/1999/xlink\">\n<g id=\"graph0\" class=\"graph\" transform=\"scale(1 1) rotate(0) translate(4 263.4867)\">\n<title>%3</title>\n<polygon fill=\"#ffffff\" stroke=\"transparent\" points=\"-4,4 -4,-263.4867 95.0957,-263.4867 95.0957,4 -4,4\"/>\n<!-- [0] -->\n<g id=\"node1\" class=\"node\">\n<title>[0]</title>\n<ellipse fill=\"none\" stroke=\"#000000\" cx=\"30.6476\" cy=\"-232.8391\" rx=\"26.7961\" ry=\"26.7961\"/>\n<text text-anchor=\"middle\" x=\"30.6476\" y=\"-229.1391\" font-family=\"Times,serif\" font-size=\"14.00\" fill=\"#000000\">q[0]</text>\n</g>\n<!-- [1] -->\n<g id=\"node2\" class=\"node\">\n<title>[1]</title>\n<ellipse fill=\"none\" stroke=\"#000000\" cx=\"30.6476\" cy=\"-124.5438\" rx=\"26.7766\" ry=\"26.7766\"/>\n<ellipse fill=\"none\" stroke=\"#000000\" cx=\"30.6476\" cy=\"-124.5438\" rx=\"30.796\" ry=\"30.796\"/>\n<text text-anchor=\"middle\" x=\"30.6476\" y=\"-120.8438\" font-family=\"Times,serif\" font-size=\"14.00\" fill=\"#000000\">q[1]</text>\n</g>\n<!-- [0]&#45;&gt;[1] -->\n<g id=\"edge1\" class=\"edge\">\n<title>[0]&#45;&gt;[1]</title>\n<path fill=\"none\" stroke=\"#000000\" d=\"M30.6476,-206.0695C30.6476,-193.791 30.6476,-178.9637 30.6476,-165.3393\"/>\n<polygon fill=\"#000000\" stroke=\"#000000\" points=\"34.1477,-165.2172 30.6476,-155.2172 27.1477,-165.2172 34.1477,-165.2172\"/>\n<text text-anchor=\"middle\" x=\"41.1476\" y=\"-176.9915\" font-family=\"Times,serif\" font-size=\"14.00\" fill=\"#000000\">[&#39;}&#39;]</text>\n</g>\n<!-- [] -->\n<g id=\"node3\" class=\"node\">\n<title>[]</title>\n<ellipse fill=\"none\" stroke=\"#000000\" cx=\"30.6476\" cy=\"-21.4481\" rx=\"21.3963\" ry=\"21.3963\"/>\n<text text-anchor=\"middle\" x=\"30.6476\" y=\"-17.7481\" font-family=\"Times,serif\" font-size=\"14.00\" fill=\"#000000\">q[]</text>\n</g>\n<!-- [1]&#45;&gt;[] -->\n<g id=\"edge2\" class=\"edge\">\n<title>[1]&#45;&gt;[]</title>\n<path fill=\"none\" stroke=\"#000000\" d=\"M30.6476,-93.8908C30.6476,-81.0924 30.6476,-66.2254 30.6476,-53.302\"/>\n<polygon fill=\"#000000\" stroke=\"#000000\" points=\"34.1477,-52.9916 30.6476,-42.9917 27.1477,-52.9917 34.1477,-52.9916\"/>\n<text text-anchor=\"middle\" x=\"41.1476\" y=\"-64.6962\" font-family=\"Times,serif\" font-size=\"14.00\" fill=\"#000000\">[&#39;}&#39;]</text>\n</g>\n<!-- []&#45;&gt;[] -->\n<g id=\"edge3\" class=\"edge\">\n<title>[]&#45;&gt;[]</title>\n<path fill=\"none\" stroke=\"#000000\" d=\"M50.539,-29.7699C60.8244,-31.0501 70.0957,-28.2762 70.0957,-21.4481 70.0957,-17.0738 66.2908,-14.3634 60.8518,-13.3168\"/>\n<polygon fill=\"#000000\" stroke=\"#000000\" points=\"60.602,-9.8117 50.539,-13.1263 60.4726,-16.8105 60.602,-9.8117\"/>\n<text text-anchor=\"middle\" x=\"80.5957\" y=\"-17.7481\" font-family=\"Times,serif\" font-size=\"14.00\" fill=\"#000000\">[&#39;}&#39;]</text>\n</g>\n</g>\n</svg>\n"
          },
          "metadata": {},
          "execution_count": 255
        }
      ]
    },
    {
      "cell_type": "code",
      "source": [
        "info = dfa_born(regex_to_NFA(',')[0])\n",
        "draw_DFA(info,\"regex Comma_DFA\")"
      ],
      "metadata": {
        "id": "tu6oZyjFFM1n",
        "colab": {
          "base_uri": "https://localhost:8080/",
          "height": 377
        },
        "outputId": "8eef4a8b-b27e-4d7b-f552-357dd5c2c6a8"
      },
      "execution_count": 256,
      "outputs": [
        {
          "output_type": "execute_result",
          "data": {
            "text/plain": [
              "<graphviz.dot.Digraph at 0x7fe579659710>"
            ],
            "image/svg+xml": "<?xml version=\"1.0\" encoding=\"UTF-8\" standalone=\"no\"?>\n<!DOCTYPE svg PUBLIC \"-//W3C//DTD SVG 1.1//EN\"\n \"http://www.w3.org/Graphics/SVG/1.1/DTD/svg11.dtd\">\n<!-- Generated by graphviz version 2.40.1 (20161225.0304)\n -->\n<!-- Title: %3 Pages: 1 -->\n<svg width=\"96pt\" height=\"267pt\"\n viewBox=\"0.00 0.00 96.10 267.49\" xmlns=\"http://www.w3.org/2000/svg\" xmlns:xlink=\"http://www.w3.org/1999/xlink\">\n<g id=\"graph0\" class=\"graph\" transform=\"scale(1 1) rotate(0) translate(4 263.4867)\">\n<title>%3</title>\n<polygon fill=\"#ffffff\" stroke=\"transparent\" points=\"-4,4 -4,-263.4867 92.0957,-263.4867 92.0957,4 -4,4\"/>\n<!-- [0] -->\n<g id=\"node1\" class=\"node\">\n<title>[0]</title>\n<ellipse fill=\"none\" stroke=\"#000000\" cx=\"30.6476\" cy=\"-232.8391\" rx=\"26.7961\" ry=\"26.7961\"/>\n<text text-anchor=\"middle\" x=\"30.6476\" y=\"-229.1391\" font-family=\"Times,serif\" font-size=\"14.00\" fill=\"#000000\">q[0]</text>\n</g>\n<!-- [1] -->\n<g id=\"node2\" class=\"node\">\n<title>[1]</title>\n<ellipse fill=\"none\" stroke=\"#000000\" cx=\"30.6476\" cy=\"-124.5438\" rx=\"26.7766\" ry=\"26.7766\"/>\n<ellipse fill=\"none\" stroke=\"#000000\" cx=\"30.6476\" cy=\"-124.5438\" rx=\"30.796\" ry=\"30.796\"/>\n<text text-anchor=\"middle\" x=\"30.6476\" y=\"-120.8438\" font-family=\"Times,serif\" font-size=\"14.00\" fill=\"#000000\">q[1]</text>\n</g>\n<!-- [0]&#45;&gt;[1] -->\n<g id=\"edge1\" class=\"edge\">\n<title>[0]&#45;&gt;[1]</title>\n<path fill=\"none\" stroke=\"#000000\" d=\"M30.6476,-206.0695C30.6476,-193.791 30.6476,-178.9637 30.6476,-165.3393\"/>\n<polygon fill=\"#000000\" stroke=\"#000000\" points=\"34.1477,-165.2172 30.6476,-155.2172 27.1477,-165.2172 34.1477,-165.2172\"/>\n<text text-anchor=\"middle\" x=\"39.6476\" y=\"-176.9915\" font-family=\"Times,serif\" font-size=\"14.00\" fill=\"#000000\">[&#39;,&#39;]</text>\n</g>\n<!-- [] -->\n<g id=\"node3\" class=\"node\">\n<title>[]</title>\n<ellipse fill=\"none\" stroke=\"#000000\" cx=\"30.6476\" cy=\"-21.4481\" rx=\"21.3963\" ry=\"21.3963\"/>\n<text text-anchor=\"middle\" x=\"30.6476\" y=\"-17.7481\" font-family=\"Times,serif\" font-size=\"14.00\" fill=\"#000000\">q[]</text>\n</g>\n<!-- [1]&#45;&gt;[] -->\n<g id=\"edge2\" class=\"edge\">\n<title>[1]&#45;&gt;[]</title>\n<path fill=\"none\" stroke=\"#000000\" d=\"M30.6476,-93.8908C30.6476,-81.0924 30.6476,-66.2254 30.6476,-53.302\"/>\n<polygon fill=\"#000000\" stroke=\"#000000\" points=\"34.1477,-52.9916 30.6476,-42.9917 27.1477,-52.9917 34.1477,-52.9916\"/>\n<text text-anchor=\"middle\" x=\"39.6476\" y=\"-64.6962\" font-family=\"Times,serif\" font-size=\"14.00\" fill=\"#000000\">[&#39;,&#39;]</text>\n</g>\n<!-- []&#45;&gt;[] -->\n<g id=\"edge3\" class=\"edge\">\n<title>[]&#45;&gt;[]</title>\n<path fill=\"none\" stroke=\"#000000\" d=\"M50.539,-29.7699C60.8244,-31.0501 70.0957,-28.2762 70.0957,-21.4481 70.0957,-17.0738 66.2908,-14.3634 60.8518,-13.3168\"/>\n<polygon fill=\"#000000\" stroke=\"#000000\" points=\"60.602,-9.8117 50.539,-13.1263 60.4726,-16.8105 60.602,-9.8117\"/>\n<text text-anchor=\"middle\" x=\"79.0957\" y=\"-17.7481\" font-family=\"Times,serif\" font-size=\"14.00\" fill=\"#000000\">[&#39;,&#39;]</text>\n</g>\n</g>\n</svg>\n"
          },
          "metadata": {},
          "execution_count": 256
        }
      ]
    },
    {
      "cell_type": "code",
      "source": [
        "info = dfa_born(regex_to_NFA('\\[')[0])\n",
        "draw_DFA(info,\"regex Left_Bracket_DFA\")"
      ],
      "metadata": {
        "id": "3xM98nXJFN31",
        "colab": {
          "base_uri": "https://localhost:8080/",
          "height": 377
        },
        "outputId": "906f9f41-c639-4b9c-e9b0-1d60f9034efd"
      },
      "execution_count": 257,
      "outputs": [
        {
          "output_type": "execute_result",
          "data": {
            "text/plain": [
              "<graphviz.dot.Digraph at 0x7fe579677e90>"
            ],
            "image/svg+xml": "<?xml version=\"1.0\" encoding=\"UTF-8\" standalone=\"no\"?>\n<!DOCTYPE svg PUBLIC \"-//W3C//DTD SVG 1.1//EN\"\n \"http://www.w3.org/Graphics/SVG/1.1/DTD/svg11.dtd\">\n<!-- Generated by graphviz version 2.40.1 (20161225.0304)\n -->\n<!-- Title: %3 Pages: 1 -->\n<svg width=\"97pt\" height=\"267pt\"\n viewBox=\"0.00 0.00 97.10 267.49\" xmlns=\"http://www.w3.org/2000/svg\" xmlns:xlink=\"http://www.w3.org/1999/xlink\">\n<g id=\"graph0\" class=\"graph\" transform=\"scale(1 1) rotate(0) translate(4 263.4867)\">\n<title>%3</title>\n<polygon fill=\"#ffffff\" stroke=\"transparent\" points=\"-4,4 -4,-263.4867 93.0957,-263.4867 93.0957,4 -4,4\"/>\n<!-- [0] -->\n<g id=\"node1\" class=\"node\">\n<title>[0]</title>\n<ellipse fill=\"none\" stroke=\"#000000\" cx=\"30.6476\" cy=\"-232.8391\" rx=\"26.7961\" ry=\"26.7961\"/>\n<text text-anchor=\"middle\" x=\"30.6476\" y=\"-229.1391\" font-family=\"Times,serif\" font-size=\"14.00\" fill=\"#000000\">q[0]</text>\n</g>\n<!-- [1] -->\n<g id=\"node2\" class=\"node\">\n<title>[1]</title>\n<ellipse fill=\"none\" stroke=\"#000000\" cx=\"30.6476\" cy=\"-124.5438\" rx=\"26.7766\" ry=\"26.7766\"/>\n<ellipse fill=\"none\" stroke=\"#000000\" cx=\"30.6476\" cy=\"-124.5438\" rx=\"30.796\" ry=\"30.796\"/>\n<text text-anchor=\"middle\" x=\"30.6476\" y=\"-120.8438\" font-family=\"Times,serif\" font-size=\"14.00\" fill=\"#000000\">q[1]</text>\n</g>\n<!-- [0]&#45;&gt;[1] -->\n<g id=\"edge1\" class=\"edge\">\n<title>[0]&#45;&gt;[1]</title>\n<path fill=\"none\" stroke=\"#000000\" d=\"M30.6476,-206.0695C30.6476,-193.791 30.6476,-178.9637 30.6476,-165.3393\"/>\n<polygon fill=\"#000000\" stroke=\"#000000\" points=\"34.1477,-165.2172 30.6476,-155.2172 27.1477,-165.2172 34.1477,-165.2172\"/>\n<text text-anchor=\"middle\" x=\"40.1476\" y=\"-176.9915\" font-family=\"Times,serif\" font-size=\"14.00\" fill=\"#000000\">[&#39;[&#39;]</text>\n</g>\n<!-- [] -->\n<g id=\"node3\" class=\"node\">\n<title>[]</title>\n<ellipse fill=\"none\" stroke=\"#000000\" cx=\"30.6476\" cy=\"-21.4481\" rx=\"21.3963\" ry=\"21.3963\"/>\n<text text-anchor=\"middle\" x=\"30.6476\" y=\"-17.7481\" font-family=\"Times,serif\" font-size=\"14.00\" fill=\"#000000\">q[]</text>\n</g>\n<!-- [1]&#45;&gt;[] -->\n<g id=\"edge2\" class=\"edge\">\n<title>[1]&#45;&gt;[]</title>\n<path fill=\"none\" stroke=\"#000000\" d=\"M30.6476,-93.8908C30.6476,-81.0924 30.6476,-66.2254 30.6476,-53.302\"/>\n<polygon fill=\"#000000\" stroke=\"#000000\" points=\"34.1477,-52.9916 30.6476,-42.9917 27.1477,-52.9917 34.1477,-52.9916\"/>\n<text text-anchor=\"middle\" x=\"40.1476\" y=\"-64.6962\" font-family=\"Times,serif\" font-size=\"14.00\" fill=\"#000000\">[&#39;[&#39;]</text>\n</g>\n<!-- []&#45;&gt;[] -->\n<g id=\"edge3\" class=\"edge\">\n<title>[]&#45;&gt;[]</title>\n<path fill=\"none\" stroke=\"#000000\" d=\"M50.539,-29.7699C60.8244,-31.0501 70.0957,-28.2762 70.0957,-21.4481 70.0957,-17.0738 66.2908,-14.3634 60.8518,-13.3168\"/>\n<polygon fill=\"#000000\" stroke=\"#000000\" points=\"60.602,-9.8117 50.539,-13.1263 60.4726,-16.8105 60.602,-9.8117\"/>\n<text text-anchor=\"middle\" x=\"79.5957\" y=\"-17.7481\" font-family=\"Times,serif\" font-size=\"14.00\" fill=\"#000000\">[&#39;[&#39;]</text>\n</g>\n</g>\n</svg>\n"
          },
          "metadata": {},
          "execution_count": 257
        }
      ]
    },
    {
      "cell_type": "code",
      "source": [
        "info = dfa_born(regex_to_NFA('\\]')[0])\n",
        "draw_DFA(info,\"regex Right_Bracket_DFA\")"
      ],
      "metadata": {
        "id": "xPrrBzEnFPxe",
        "colab": {
          "base_uri": "https://localhost:8080/",
          "height": 377
        },
        "outputId": "b52419ab-4a7b-4071-dd67-1dbf16390fb3"
      },
      "execution_count": 258,
      "outputs": [
        {
          "output_type": "execute_result",
          "data": {
            "text/plain": [
              "<graphviz.dot.Digraph at 0x7fe579675b10>"
            ],
            "image/svg+xml": "<?xml version=\"1.0\" encoding=\"UTF-8\" standalone=\"no\"?>\n<!DOCTYPE svg PUBLIC \"-//W3C//DTD SVG 1.1//EN\"\n \"http://www.w3.org/Graphics/SVG/1.1/DTD/svg11.dtd\">\n<!-- Generated by graphviz version 2.40.1 (20161225.0304)\n -->\n<!-- Title: %3 Pages: 1 -->\n<svg width=\"97pt\" height=\"267pt\"\n viewBox=\"0.00 0.00 97.10 267.49\" xmlns=\"http://www.w3.org/2000/svg\" xmlns:xlink=\"http://www.w3.org/1999/xlink\">\n<g id=\"graph0\" class=\"graph\" transform=\"scale(1 1) rotate(0) translate(4 263.4867)\">\n<title>%3</title>\n<polygon fill=\"#ffffff\" stroke=\"transparent\" points=\"-4,4 -4,-263.4867 93.0957,-263.4867 93.0957,4 -4,4\"/>\n<!-- [0] -->\n<g id=\"node1\" class=\"node\">\n<title>[0]</title>\n<ellipse fill=\"none\" stroke=\"#000000\" cx=\"30.6476\" cy=\"-232.8391\" rx=\"26.7961\" ry=\"26.7961\"/>\n<text text-anchor=\"middle\" x=\"30.6476\" y=\"-229.1391\" font-family=\"Times,serif\" font-size=\"14.00\" fill=\"#000000\">q[0]</text>\n</g>\n<!-- [1] -->\n<g id=\"node2\" class=\"node\">\n<title>[1]</title>\n<ellipse fill=\"none\" stroke=\"#000000\" cx=\"30.6476\" cy=\"-124.5438\" rx=\"26.7766\" ry=\"26.7766\"/>\n<ellipse fill=\"none\" stroke=\"#000000\" cx=\"30.6476\" cy=\"-124.5438\" rx=\"30.796\" ry=\"30.796\"/>\n<text text-anchor=\"middle\" x=\"30.6476\" y=\"-120.8438\" font-family=\"Times,serif\" font-size=\"14.00\" fill=\"#000000\">q[1]</text>\n</g>\n<!-- [0]&#45;&gt;[1] -->\n<g id=\"edge1\" class=\"edge\">\n<title>[0]&#45;&gt;[1]</title>\n<path fill=\"none\" stroke=\"#000000\" d=\"M30.6476,-206.0695C30.6476,-193.791 30.6476,-178.9637 30.6476,-165.3393\"/>\n<polygon fill=\"#000000\" stroke=\"#000000\" points=\"34.1477,-165.2172 30.6476,-155.2172 27.1477,-165.2172 34.1477,-165.2172\"/>\n<text text-anchor=\"middle\" x=\"40.1476\" y=\"-176.9915\" font-family=\"Times,serif\" font-size=\"14.00\" fill=\"#000000\">[&#39;]&#39;]</text>\n</g>\n<!-- [] -->\n<g id=\"node3\" class=\"node\">\n<title>[]</title>\n<ellipse fill=\"none\" stroke=\"#000000\" cx=\"30.6476\" cy=\"-21.4481\" rx=\"21.3963\" ry=\"21.3963\"/>\n<text text-anchor=\"middle\" x=\"30.6476\" y=\"-17.7481\" font-family=\"Times,serif\" font-size=\"14.00\" fill=\"#000000\">q[]</text>\n</g>\n<!-- [1]&#45;&gt;[] -->\n<g id=\"edge2\" class=\"edge\">\n<title>[1]&#45;&gt;[]</title>\n<path fill=\"none\" stroke=\"#000000\" d=\"M30.6476,-93.8908C30.6476,-81.0924 30.6476,-66.2254 30.6476,-53.302\"/>\n<polygon fill=\"#000000\" stroke=\"#000000\" points=\"34.1477,-52.9916 30.6476,-42.9917 27.1477,-52.9917 34.1477,-52.9916\"/>\n<text text-anchor=\"middle\" x=\"40.1476\" y=\"-64.6962\" font-family=\"Times,serif\" font-size=\"14.00\" fill=\"#000000\">[&#39;]&#39;]</text>\n</g>\n<!-- []&#45;&gt;[] -->\n<g id=\"edge3\" class=\"edge\">\n<title>[]&#45;&gt;[]</title>\n<path fill=\"none\" stroke=\"#000000\" d=\"M50.539,-29.7699C60.8244,-31.0501 70.0957,-28.2762 70.0957,-21.4481 70.0957,-17.0738 66.2908,-14.3634 60.8518,-13.3168\"/>\n<polygon fill=\"#000000\" stroke=\"#000000\" points=\"60.602,-9.8117 50.539,-13.1263 60.4726,-16.8105 60.602,-9.8117\"/>\n<text text-anchor=\"middle\" x=\"79.5957\" y=\"-17.7481\" font-family=\"Times,serif\" font-size=\"14.00\" fill=\"#000000\">[&#39;]&#39;]</text>\n</g>\n</g>\n</svg>\n"
          },
          "metadata": {},
          "execution_count": 258
        }
      ]
    },
    {
      "cell_type": "code",
      "source": [
        "info = dfa_born(regex_to_NFA(':')[0])\n",
        "draw_DFA(info,\"regex Double_Dot_DFA\")"
      ],
      "metadata": {
        "id": "o-j96K-_FRVX",
        "colab": {
          "base_uri": "https://localhost:8080/",
          "height": 377
        },
        "outputId": "a9b77ec6-fb1b-4ded-ff86-65612cf331b3"
      },
      "execution_count": 259,
      "outputs": [
        {
          "output_type": "execute_result",
          "data": {
            "text/plain": [
              "<graphviz.dot.Digraph at 0x7fe57957b6d0>"
            ],
            "image/svg+xml": "<?xml version=\"1.0\" encoding=\"UTF-8\" standalone=\"no\"?>\n<!DOCTYPE svg PUBLIC \"-//W3C//DTD SVG 1.1//EN\"\n \"http://www.w3.org/Graphics/SVG/1.1/DTD/svg11.dtd\">\n<!-- Generated by graphviz version 2.40.1 (20161225.0304)\n -->\n<!-- Title: %3 Pages: 1 -->\n<svg width=\"96pt\" height=\"267pt\"\n viewBox=\"0.00 0.00 96.10 267.49\" xmlns=\"http://www.w3.org/2000/svg\" xmlns:xlink=\"http://www.w3.org/1999/xlink\">\n<g id=\"graph0\" class=\"graph\" transform=\"scale(1 1) rotate(0) translate(4 263.4867)\">\n<title>%3</title>\n<polygon fill=\"#ffffff\" stroke=\"transparent\" points=\"-4,4 -4,-263.4867 92.0957,-263.4867 92.0957,4 -4,4\"/>\n<!-- [0] -->\n<g id=\"node1\" class=\"node\">\n<title>[0]</title>\n<ellipse fill=\"none\" stroke=\"#000000\" cx=\"30.6476\" cy=\"-232.8391\" rx=\"26.7961\" ry=\"26.7961\"/>\n<text text-anchor=\"middle\" x=\"30.6476\" y=\"-229.1391\" font-family=\"Times,serif\" font-size=\"14.00\" fill=\"#000000\">q[0]</text>\n</g>\n<!-- [1] -->\n<g id=\"node2\" class=\"node\">\n<title>[1]</title>\n<ellipse fill=\"none\" stroke=\"#000000\" cx=\"30.6476\" cy=\"-124.5438\" rx=\"26.7766\" ry=\"26.7766\"/>\n<ellipse fill=\"none\" stroke=\"#000000\" cx=\"30.6476\" cy=\"-124.5438\" rx=\"30.796\" ry=\"30.796\"/>\n<text text-anchor=\"middle\" x=\"30.6476\" y=\"-120.8438\" font-family=\"Times,serif\" font-size=\"14.00\" fill=\"#000000\">q[1]</text>\n</g>\n<!-- [0]&#45;&gt;[1] -->\n<g id=\"edge1\" class=\"edge\">\n<title>[0]&#45;&gt;[1]</title>\n<path fill=\"none\" stroke=\"#000000\" d=\"M30.6476,-206.0695C30.6476,-193.791 30.6476,-178.9637 30.6476,-165.3393\"/>\n<polygon fill=\"#000000\" stroke=\"#000000\" points=\"34.1477,-165.2172 30.6476,-155.2172 27.1477,-165.2172 34.1477,-165.2172\"/>\n<text text-anchor=\"middle\" x=\"39.6476\" y=\"-176.9915\" font-family=\"Times,serif\" font-size=\"14.00\" fill=\"#000000\">[&#39;:&#39;]</text>\n</g>\n<!-- [] -->\n<g id=\"node3\" class=\"node\">\n<title>[]</title>\n<ellipse fill=\"none\" stroke=\"#000000\" cx=\"30.6476\" cy=\"-21.4481\" rx=\"21.3963\" ry=\"21.3963\"/>\n<text text-anchor=\"middle\" x=\"30.6476\" y=\"-17.7481\" font-family=\"Times,serif\" font-size=\"14.00\" fill=\"#000000\">q[]</text>\n</g>\n<!-- [1]&#45;&gt;[] -->\n<g id=\"edge2\" class=\"edge\">\n<title>[1]&#45;&gt;[]</title>\n<path fill=\"none\" stroke=\"#000000\" d=\"M30.6476,-93.8908C30.6476,-81.0924 30.6476,-66.2254 30.6476,-53.302\"/>\n<polygon fill=\"#000000\" stroke=\"#000000\" points=\"34.1477,-52.9916 30.6476,-42.9917 27.1477,-52.9917 34.1477,-52.9916\"/>\n<text text-anchor=\"middle\" x=\"39.6476\" y=\"-64.6962\" font-family=\"Times,serif\" font-size=\"14.00\" fill=\"#000000\">[&#39;:&#39;]</text>\n</g>\n<!-- []&#45;&gt;[] -->\n<g id=\"edge3\" class=\"edge\">\n<title>[]&#45;&gt;[]</title>\n<path fill=\"none\" stroke=\"#000000\" d=\"M50.539,-29.7699C60.8244,-31.0501 70.0957,-28.2762 70.0957,-21.4481 70.0957,-17.0738 66.2908,-14.3634 60.8518,-13.3168\"/>\n<polygon fill=\"#000000\" stroke=\"#000000\" points=\"60.602,-9.8117 50.539,-13.1263 60.4726,-16.8105 60.602,-9.8117\"/>\n<text text-anchor=\"middle\" x=\"79.0957\" y=\"-17.7481\" font-family=\"Times,serif\" font-size=\"14.00\" fill=\"#000000\">[&#39;:&#39;]</text>\n</g>\n</g>\n</svg>\n"
          },
          "metadata": {},
          "execution_count": 259
        }
      ]
    },
    {
      "cell_type": "code",
      "source": [
        "info = dfa_born(regex_to_NFA('[ ]')[0])\n",
        "draw_DFA(info,\"regex Space_DFA\")"
      ],
      "metadata": {
        "id": "i5Hm9P3CFSBG",
        "colab": {
          "base_uri": "https://localhost:8080/",
          "height": 377
        },
        "outputId": "6a761633-7acb-4d96-ab5d-49f0d9bb1f96"
      },
      "execution_count": 260,
      "outputs": [
        {
          "output_type": "execute_result",
          "data": {
            "text/plain": [
              "<graphviz.dot.Digraph at 0x7fe57964ae50>"
            ],
            "image/svg+xml": "<?xml version=\"1.0\" encoding=\"UTF-8\" standalone=\"no\"?>\n<!DOCTYPE svg PUBLIC \"-//W3C//DTD SVG 1.1//EN\"\n \"http://www.w3.org/Graphics/SVG/1.1/DTD/svg11.dtd\">\n<!-- Generated by graphviz version 2.40.1 (20161225.0304)\n -->\n<!-- Title: %3 Pages: 1 -->\n<svg width=\"96pt\" height=\"267pt\"\n viewBox=\"0.00 0.00 96.10 267.49\" xmlns=\"http://www.w3.org/2000/svg\" xmlns:xlink=\"http://www.w3.org/1999/xlink\">\n<g id=\"graph0\" class=\"graph\" transform=\"scale(1 1) rotate(0) translate(4 263.4867)\">\n<title>%3</title>\n<polygon fill=\"#ffffff\" stroke=\"transparent\" points=\"-4,4 -4,-263.4867 92.0957,-263.4867 92.0957,4 -4,4\"/>\n<!-- [0] -->\n<g id=\"node1\" class=\"node\">\n<title>[0]</title>\n<ellipse fill=\"none\" stroke=\"#000000\" cx=\"30.6476\" cy=\"-232.8391\" rx=\"26.7961\" ry=\"26.7961\"/>\n<text text-anchor=\"middle\" x=\"30.6476\" y=\"-229.1391\" font-family=\"Times,serif\" font-size=\"14.00\" fill=\"#000000\">q[0]</text>\n</g>\n<!-- [1] -->\n<g id=\"node2\" class=\"node\">\n<title>[1]</title>\n<ellipse fill=\"none\" stroke=\"#000000\" cx=\"30.6476\" cy=\"-124.5438\" rx=\"26.7766\" ry=\"26.7766\"/>\n<ellipse fill=\"none\" stroke=\"#000000\" cx=\"30.6476\" cy=\"-124.5438\" rx=\"30.796\" ry=\"30.796\"/>\n<text text-anchor=\"middle\" x=\"30.6476\" y=\"-120.8438\" font-family=\"Times,serif\" font-size=\"14.00\" fill=\"#000000\">q[1]</text>\n</g>\n<!-- [0]&#45;&gt;[1] -->\n<g id=\"edge1\" class=\"edge\">\n<title>[0]&#45;&gt;[1]</title>\n<path fill=\"none\" stroke=\"#000000\" d=\"M30.6476,-206.0695C30.6476,-193.791 30.6476,-178.9637 30.6476,-165.3393\"/>\n<polygon fill=\"#000000\" stroke=\"#000000\" points=\"34.1477,-165.2172 30.6476,-155.2172 27.1477,-165.2172 34.1477,-165.2172\"/>\n<text text-anchor=\"middle\" x=\"39.6476\" y=\"-176.9915\" font-family=\"Times,serif\" font-size=\"14.00\" fill=\"#000000\">[&#39; &#39;]</text>\n</g>\n<!-- [] -->\n<g id=\"node3\" class=\"node\">\n<title>[]</title>\n<ellipse fill=\"none\" stroke=\"#000000\" cx=\"30.6476\" cy=\"-21.4481\" rx=\"21.3963\" ry=\"21.3963\"/>\n<text text-anchor=\"middle\" x=\"30.6476\" y=\"-17.7481\" font-family=\"Times,serif\" font-size=\"14.00\" fill=\"#000000\">q[]</text>\n</g>\n<!-- [1]&#45;&gt;[] -->\n<g id=\"edge2\" class=\"edge\">\n<title>[1]&#45;&gt;[]</title>\n<path fill=\"none\" stroke=\"#000000\" d=\"M30.6476,-93.8908C30.6476,-81.0924 30.6476,-66.2254 30.6476,-53.302\"/>\n<polygon fill=\"#000000\" stroke=\"#000000\" points=\"34.1477,-52.9916 30.6476,-42.9917 27.1477,-52.9917 34.1477,-52.9916\"/>\n<text text-anchor=\"middle\" x=\"39.6476\" y=\"-64.6962\" font-family=\"Times,serif\" font-size=\"14.00\" fill=\"#000000\">[&#39; &#39;]</text>\n</g>\n<!-- []&#45;&gt;[] -->\n<g id=\"edge3\" class=\"edge\">\n<title>[]&#45;&gt;[]</title>\n<path fill=\"none\" stroke=\"#000000\" d=\"M50.539,-29.7699C60.8244,-31.0501 70.0957,-28.2762 70.0957,-21.4481 70.0957,-17.0738 66.2908,-14.3634 60.8518,-13.3168\"/>\n<polygon fill=\"#000000\" stroke=\"#000000\" points=\"60.602,-9.8117 50.539,-13.1263 60.4726,-16.8105 60.602,-9.8117\"/>\n<text text-anchor=\"middle\" x=\"79.0957\" y=\"-17.7481\" font-family=\"Times,serif\" font-size=\"14.00\" fill=\"#000000\">[&#39; &#39;]</text>\n</g>\n</g>\n</svg>\n"
          },
          "metadata": {},
          "execution_count": 260
        }
      ]
    },
    {
      "cell_type": "markdown",
      "source": [
        "# Parte C"
      ],
      "metadata": {
        "id": "6hN1vr1S2Ov0"
      }
    },
    {
      "cell_type": "markdown",
      "source": [
        "## Tokenización por subpalabras (subwords):\n",
        "\n",
        "El concepto principal de la tokenización por subpalabras es que las palabras que ocurren frecuentemente deberían estar en el vocabulario, mientras que las palabras poco frecuentes deberian ser separadas en subpalabras más frecuentes. Por ejemplo: \"refactoring\" se puede separar entre \"re\", \"factor\" e \"ing\". Dichas subpalabras ocurren más frecuentemente que la palabra \"refactoring\" y su significado se mantiene intacto.\n",
        "\n",
        "Existen 3 principales tokenizers de subpalabras:\n",
        "\n",
        "### Codificación de pares de bytes (Byte Pair Encoding):\n",
        "\n",
        "El primer paso en BPE es separar todas las strings en palabras. Se puede utilizar cualquier tokenizer para este paso, por ejemplo usar la regla basada en un tokenizer basado en espacios y puntuación.\n",
        "\n",
        "Luego de tokenizar se tendrá una lista de palabras con su respectiva frecuencias, el tamaño del vocabulario deseado es un parametro para BPE. Todos los caracteres únicos y los simbolos en las palabras son incluidos en el vocabulario base.\n",
        "\n",
        "Luego todas las palabras se separan en sus caracteres del vocabulario base. Después de eso el BPE cuenta las ocurrencias de cada pareja de simbolos y selecciona aquella que tiene la mayor frecuencia. Dicha pareja es agregada en el vocabulario y todas las ocurrencias de esa pareja se concatenan. \n",
        "\n",
        "Se repite el proceso anterior con todas las parejas de caracteres hasta alcanzar el tamaño deseado de vocabulario. Fonalmente retorna el input tokenizado.\n",
        "\n",
        "Como el BPE ya está entrenado, ahora va a tokenizar las siguientes palabras con el vocabulario que encontró previamente.\n",
        "\n",
        "### Tokenización WordPiece\n",
        "\n",
        "Similar al metodo anterior se utilizan parejas, sin embargo en este tokenizer elige aquella que maximiza la probabilidad de los datos de entrenamiento. Esto significa que entrena un modelo de lenguaje comenzando con un bocabulario base y selecciona la pareja con la mayor probabilidad (pareja = caracter en el vocabulario base + el caracter con la mayor probabilidad de ser generado). Esa pareja es agregada al vocabulario y el modelo de lenguaje se entrena de nuevo con este nuevo vocabulario. Esto se repite hasta llegar al vocabulario deseado. \n",
        "\n",
        "### Tokenización Unigram\n",
        "\n",
        "La tokenización Unigram también comienza con el tamaño de vocabulario deseado. Sin embargo la mayor diferencia entre Unigram y los anteriores 2 metodos es que no empieza con un vocabulario base de únicamente caracteres. Envés de eso el vocabulario tiene todas las palabras y simbolos, y los tokens son gradualmente removidos para llegar al vocabulario final.\n",
        "\n",
        "La forma en que los tokens son removidos es un elemento clave de la tokenización unigram. Utiliza un modelo de lenguaje en cada paso y va removiendo x% de la pareja (la definición de pareja es la misma que en WordPiece) que tiene la mayor perdida. La perdida es generalmente definida como el logaritmo de probabilidad sobre el vocabulario en el paso de entrenamiento.\n",
        "\n",
        "Unigram es mayormente utilizado en conjunción con SentencePiece.\n",
        "\n",
        "### SentencePiece\n",
        "\n",
        "Todos los tokenizers previos asumen que los espacios separan palabras, esto es cierto excepto para algunos casos como el Chino, Japonés, entre otros. SentencePiece no trata los espacios como un separador, envés de eso toma el string como input en su formato crudo original, es decir junto con los espacios. Luego utiliza BPE o Unigram como tokenizer para construir su vocabulario.\n",
        "\n",
        "## Diferencias de las estrategias y los parsers basados en lenguaje natural.\n",
        "\n",
        "Lo primero es aclarar que la tokenización por subpalabras es el padre de la jerarquía, es decir BPE y Unigram son tokenizadores por subpalabras pero no todos los tokenizadores por subpalabras son BPE o Unigram. Es interesante notar que los tokenizadofres usan otro tokenizadores dentro de sus procesos, pues lo que realmente diferencia a Unigram con BPE es el proceso de la división de las palabras. Es decir que existe antes un proceso de tokenización que separa las palabras como las conocemos, sin espacios y sin signos de puntuación, o por el contrario teniendo esos simbolos en cuenta como otro metodo de tokenización.\n",
        "\n",
        "La principal diferencia entrew BPE y Unigram es que no empieza el proceso únicamente con un vocabulario de caracteres, es decir es como empezar por un final general y empezar a recortar para llevar al vocabulario deseado. Por otro lado en BPE se van construyendo las parejas hasta llegar al vocabulario objetivo."
      ],
      "metadata": {
        "id": "fm_8vXxO2cKE"
      }
    }
  ]
}